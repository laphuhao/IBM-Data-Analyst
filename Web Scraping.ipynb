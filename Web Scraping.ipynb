{
 "cells": [
  {
   "cell_type": "markdown",
   "metadata": {
    "id": "d172de8e-787f-4af8-91f4-e73608ce7a63"
   },
   "source": [
    "<center>\n",
    "    <img src=\"https://cf-courses-data.s3.us.cloud-object-storage.appdomain.cloud/IBMDeveloperSkillsNetwork-PY0101EN-SkillsNetwork/IDSNlogo.png\" width=\"300\" alt=\"cognitiveclass.ai logo\">\n",
    "</center>\n"
   ]
  },
  {
   "cell_type": "markdown",
   "metadata": {
    "id": "29becd48-4e00-407b-b7f2-21a80d14b3b6"
   },
   "source": [
    "# **Web Scraping Lab**\n"
   ]
  },
  {
   "cell_type": "markdown",
   "metadata": {
    "id": "97d94674-ec88-4cf7-8949-3a5f6ee5c280"
   },
   "source": [
    "Estimated time needed: **30** minutes\n"
   ]
  },
  {
   "cell_type": "markdown",
   "metadata": {
    "id": "f75ebd49-03f8-4727-a623-0c5cf904f986"
   },
   "source": [
    "## Objectives\n"
   ]
  },
  {
   "cell_type": "markdown",
   "metadata": {
    "id": "6445a875-4e74-4f2b-ab4b-17c49a6a0a59"
   },
   "source": [
    "After completing this lab you will be:\n",
    "\n",
    "*   Familiar with the basics of the `BeautifulSoup` Python library\n",
    "*   Be able to scrape webpages for data and filter the data\n"
   ]
  },
  {
   "cell_type": "markdown",
   "metadata": {
    "id": "59be9969-bd1f-4b3c-8362-172682d79a5b"
   },
   "source": [
    "<h2>Table of Contents</h2>\n",
    "<div class=\"alert alert-block alert-info\" style=\"margin-top: 20px\">\n",
    "    <ul>\n",
    "        <li>\n",
    "            <a href=\"https://bso/?utm_medium=Exinfluencer&utm_source=Exinfluencer&utm_content=000026UJ&utm_term=10006555&utm_id=NA-SkillsNetwork-Channel-SkillsNetworkCoursesIBMDeveloperSkillsNetworkPY0101ENSkillsNetwork19487395-2021-01-01\">Beautiful Soup Object</a>\n",
    "            <ul>\n",
    "                <li>Tag</li>\n",
    "                <li>Children, Parents, and Siblings</li>\n",
    "                <li>HTML Attributes</li>\n",
    "                <li>Navigable String</li>\n",
    "            </ul>\n",
    "        </li>\n",
    "     </ul>\n",
    "    <ul>\n",
    "        <li>\n",
    "            <a href=\"https://filter/?utm_medium=Exinfluencer&utm_source=Exinfluencer&utm_content=000026UJ&utm_term=10006555&utm_id=NA-SkillsNetwork-Channel-SkillsNetworkCoursesIBMDeveloperSkillsNetworkPY0101ENSkillsNetwork19487395-2021-01-01\">Filter</a>\n",
    "            <ul>\n",
    "                <li>find All</li>\n",
    "                <li>find </li>\n",
    "                <li>HTML Attributes</li>\n",
    "                <li>Navigable String</li>\n",
    "            </ul>\n",
    "        </li>\n",
    "     </ul>\n",
    "     <ul>\n",
    "        <li>\n",
    "            <a href=\"https://dscw/?utm_medium=Exinfluencer&utm_source=Exinfluencer&utm_content=000026UJ&utm_term=10006555&utm_id=NA-SkillsNetwork-Channel-SkillsNetworkCoursesIBMDeveloperSkillsNetworkPY0101ENSkillsNetwork19487395-2021-01-01\">Downloading And Scraping The Contents Of A Web</a>\n",
    "    </p>\n",
    "\n",
    "</div>\n",
    "\n",
    "<hr>\n"
   ]
  },
  {
   "cell_type": "markdown",
   "metadata": {
    "id": "4aaf6e7e-d0dc-4cee-b922-afb14843b8c4"
   },
   "source": [
    "For this lab, we are going to be using Python and several Python libraries. Some of these libraries might be installed in your lab environment or in SN Labs. Others may need to be installed by you. The cells below will install these libraries when executed.\n"
   ]
  },
  {
   "cell_type": "code",
   "execution_count": 1,
   "metadata": {
    "colab": {
     "base_uri": "https://localhost:8080/"
    },
    "executionInfo": {
     "elapsed": 5373,
     "status": "ok",
     "timestamp": 1694857879177,
     "user": {
      "displayName": "La Phú Hào",
      "userId": "02593092774645842930"
     },
     "user_tz": -420
    },
    "id": "69fea79c-e2fe-493b-9ee4-76684bc241c1",
    "outputId": "100e3da7-8a34-487f-cca5-c680056d6e72"
   },
   "outputs": [
    {
     "name": "stdout",
     "output_type": "stream",
     "text": [
      "Requirement already satisfied: html5lib in /usr/local/lib/python3.10/dist-packages (1.1)\n",
      "Requirement already satisfied: six>=1.9 in /usr/local/lib/python3.10/dist-packages (from html5lib) (1.16.0)\n",
      "Requirement already satisfied: webencodings in /usr/local/lib/python3.10/dist-packages (from html5lib) (0.5.1)\n"
     ]
    }
   ],
   "source": [
    "!pip install html5lib"
   ]
  },
  {
   "cell_type": "markdown",
   "metadata": {
    "id": "22f77610-3472-4dd3-bf8f-0c147539f954"
   },
   "source": [
    "**Note: After running the above code cell, restart the kernel and don't run the above code cell after restarting the kernel.**\n"
   ]
  },
  {
   "cell_type": "code",
   "execution_count": 2,
   "metadata": {
    "colab": {
     "base_uri": "https://localhost:8080/"
    },
    "executionInfo": {
     "elapsed": 12301,
     "status": "ok",
     "timestamp": 1694857925494,
     "user": {
      "displayName": "La Phú Hào",
      "userId": "02593092774645842930"
     },
     "user_tz": -420
    },
    "id": "2e55cb43-5b53-40f2-9ae2-b2c4210970a5",
    "outputId": "f5381597-e478-460e-9915-e8d7560553d8"
   },
   "outputs": [
    {
     "name": "stdout",
     "output_type": "stream",
     "text": [
      "Collecting bs4\n",
      "  Downloading bs4-0.0.1.tar.gz (1.1 kB)\n",
      "  Preparing metadata (setup.py) ... \u001b[?25l\u001b[?25hdone\n",
      "Requirement already satisfied: beautifulsoup4 in /usr/local/lib/python3.10/dist-packages (from bs4) (4.11.2)\n",
      "Requirement already satisfied: soupsieve>1.2 in /usr/local/lib/python3.10/dist-packages (from beautifulsoup4->bs4) (2.5)\n",
      "Building wheels for collected packages: bs4\n",
      "  Building wheel for bs4 (setup.py) ... \u001b[?25l\u001b[?25hdone\n",
      "  Created wheel for bs4: filename=bs4-0.0.1-py3-none-any.whl size=1256 sha256=24bdc8a8182e8e672612f18acd128463e6d81e3d499aaf7b53584ebe82493e67\n",
      "  Stored in directory: /root/.cache/pip/wheels/25/42/45/b773edc52acb16cd2db4cf1a0b47117e2f69bb4eb300ed0e70\n",
      "Successfully built bs4\n",
      "Installing collected packages: bs4\n",
      "Successfully installed bs4-0.0.1\n",
      "Requirement already satisfied: requests in /usr/local/lib/python3.10/dist-packages (2.31.0)\n",
      "Requirement already satisfied: charset-normalizer<4,>=2 in /usr/local/lib/python3.10/dist-packages (from requests) (3.2.0)\n",
      "Requirement already satisfied: idna<4,>=2.5 in /usr/local/lib/python3.10/dist-packages (from requests) (3.4)\n",
      "Requirement already satisfied: urllib3<3,>=1.21.1 in /usr/local/lib/python3.10/dist-packages (from requests) (2.0.4)\n",
      "Requirement already satisfied: certifi>=2017.4.17 in /usr/local/lib/python3.10/dist-packages (from requests) (2023.7.22)\n"
     ]
    }
   ],
   "source": [
    "!pip install bs4\n",
    "!pip install requests"
   ]
  },
  {
   "cell_type": "markdown",
   "metadata": {
    "id": "86b3bacb-3723-4f8f-a054-aa332e572562"
   },
   "source": [
    "Import the required modules and functions\n"
   ]
  },
  {
   "cell_type": "code",
   "execution_count": 3,
   "metadata": {
    "executionInfo": {
     "elapsed": 366,
     "status": "ok",
     "timestamp": 1694857930904,
     "user": {
      "displayName": "La Phú Hào",
      "userId": "02593092774645842930"
     },
     "user_tz": -420
    },
    "id": "07aa45ec-8dc3-44a2-8d1b-3bc507184385"
   },
   "outputs": [],
   "source": [
    "from bs4 import BeautifulSoup # this module helps in web scrapping.\n",
    "import requests  # this module helps us to download a web page"
   ]
  },
  {
   "cell_type": "markdown",
   "metadata": {
    "id": "97ddb2e4-be09-4579-9093-ead66112d1dd"
   },
   "source": [
    "<h2 id=\"BSO\">Beautiful Soup Objects</h2>\n"
   ]
  },
  {
   "cell_type": "markdown",
   "metadata": {
    "id": "cbebd99e-d084-4818-b272-80615b188043"
   },
   "source": [
    "Beautiful Soup is a Python library for pulling data out of HTML and XML files, we will focus on HTML files. This is accomplished by representing the HTML as a set of objects with methods used to parse the HTML.  We can navigate the HTML as a tree, and/or filter out what we are looking for.\n",
    "\n",
    "Consider the following HTML:\n"
   ]
  },
  {
   "cell_type": "code",
   "execution_count": 4,
   "metadata": {
    "colab": {
     "base_uri": "https://localhost:8080/",
     "height": 203
    },
    "executionInfo": {
     "elapsed": 331,
     "status": "ok",
     "timestamp": 1694857994407,
     "user": {
      "displayName": "La Phú Hào",
      "userId": "02593092774645842930"
     },
     "user_tz": -420
    },
    "id": "ff40156d-bc7f-482a-885d-434622371cb0",
    "outputId": "a1bb932a-6535-4981-ab58-b5e400ecf76b"
   },
   "outputs": [
    {
     "data": {
      "text/html": [
       "<!DOCTYPE html>\n",
       "<html>\n",
       "<head>\n",
       "<title>Page Title</title>\n",
       "</head>\n",
       "<body>\n",
       "<h3><b id='boldest'>Lebron James</b></h3>\n",
       "<p> Salary: $ 92,000,000 </p>\n",
       "<h3> Stephen Curry</h3>\n",
       "<p> Salary: $85,000, 000 </p>\n",
       "<h3> Kevin Durant </h3>\n",
       "<p> Salary: $73,200, 000</p>\n",
       "</body>\n",
       "</html>\n"
      ],
      "text/plain": [
       "<IPython.core.display.HTML object>"
      ]
     },
     "metadata": {},
     "output_type": "display_data"
    }
   ],
   "source": [
    "%%html\n",
    "<!DOCTYPE html>\n",
    "<html>\n",
    "<head>\n",
    "<title>Page Title</title>\n",
    "</head>\n",
    "<body>\n",
    "<h3><b id='boldest'>Lebron James</b></h3>\n",
    "<p> Salary: $ 92,000,000 </p>\n",
    "<h3> Stephen Curry</h3>\n",
    "<p> Salary: $85,000, 000 </p>\n",
    "<h3> Kevin Durant </h3>\n",
    "<p> Salary: $73,200, 000</p>\n",
    "</body>\n",
    "</html>"
   ]
  },
  {
   "cell_type": "markdown",
   "metadata": {
    "id": "267e3844-6d86-46d0-b1cb-6be265940515"
   },
   "source": [
    "We can store it as a string in the variable HTML:\n"
   ]
  },
  {
   "cell_type": "code",
   "execution_count": 5,
   "metadata": {
    "executionInfo": {
     "elapsed": 454,
     "status": "ok",
     "timestamp": 1694858030808,
     "user": {
      "displayName": "La Phú Hào",
      "userId": "02593092774645842930"
     },
     "user_tz": -420
    },
    "id": "dbc00d39-fbe8-4463-b9a9-459b00b4b56f"
   },
   "outputs": [],
   "source": [
    "html = \"<!DOCTYPE html><html><head><title>Page Title</title></head><body><h3><b id='boldest'>Lebron James</b></h3><p> Salary: $ 92,000,000 </p><h3> Stephen Curry</h3><p> Salary: $85,000, 000 </p><h3> Kevin Durant </h3><p> Salary: $73,200, 000</p></body></html>\""
   ]
  },
  {
   "cell_type": "markdown",
   "metadata": {
    "id": "5574a4da-8340-44a5-826a-a4efb1695f26"
   },
   "source": [
    "To parse a document, pass it into the <code>BeautifulSoup</code> constructor. The <code>BeautifulSoup</code> object represents the document as a nested data structure:\n"
   ]
  },
  {
   "cell_type": "code",
   "execution_count": 6,
   "metadata": {
    "executionInfo": {
     "elapsed": 320,
     "status": "ok",
     "timestamp": 1694858073536,
     "user": {
      "displayName": "La Phú Hào",
      "userId": "02593092774645842930"
     },
     "user_tz": -420
    },
    "id": "80fbf11c-b487-4787-9775-a87f8ffaaed4"
   },
   "outputs": [],
   "source": [
    "soup = BeautifulSoup(html, 'html5lib')"
   ]
  },
  {
   "cell_type": "markdown",
   "metadata": {
    "id": "fd07a6da-2a8d-42c0-8cce-01b952bedba9"
   },
   "source": [
    "First, the document is converted to Unicode (similar to ASCII) and HTML entities are converted to Unicode characters. Beautiful Soup transforms a complex HTML document into a complex tree of Python objects. The <code>BeautifulSoup</code> object can create other types of objects. In this lab, we will cover <code>BeautifulSoup</code> and <code>Tag</code> objects, that for the purposes of this lab are identical. Finally, we will look at <code>NavigableString</code> objects.\n"
   ]
  },
  {
   "cell_type": "markdown",
   "metadata": {
    "id": "74dfe2c7-722b-485d-a8d9-8fa3779c63af"
   },
   "source": [
    "We can use the method <code>prettify()</code> to display the HTML in the nested structure:\n"
   ]
  },
  {
   "cell_type": "code",
   "execution_count": 7,
   "metadata": {
    "colab": {
     "base_uri": "https://localhost:8080/"
    },
    "executionInfo": {
     "elapsed": 323,
     "status": "ok",
     "timestamp": 1694858160584,
     "user": {
      "displayName": "La Phú Hào",
      "userId": "02593092774645842930"
     },
     "user_tz": -420
    },
    "id": "050f2d38-e430-4f5f-86bf-017f0ad44f62",
    "outputId": "0f57ec25-7b50-4abe-98ff-369d5df9c316"
   },
   "outputs": [
    {
     "name": "stdout",
     "output_type": "stream",
     "text": [
      "<!DOCTYPE html>\n",
      "<html>\n",
      " <head>\n",
      "  <title>\n",
      "   Page Title\n",
      "  </title>\n",
      " </head>\n",
      " <body>\n",
      "  <h3>\n",
      "   <b id=\"boldest\">\n",
      "    Lebron James\n",
      "   </b>\n",
      "  </h3>\n",
      "  <p>\n",
      "   Salary: $ 92,000,000\n",
      "  </p>\n",
      "  <h3>\n",
      "   Stephen Curry\n",
      "  </h3>\n",
      "  <p>\n",
      "   Salary: $85,000, 000\n",
      "  </p>\n",
      "  <h3>\n",
      "   Kevin Durant\n",
      "  </h3>\n",
      "  <p>\n",
      "   Salary: $73,200, 000\n",
      "  </p>\n",
      " </body>\n",
      "</html>\n"
     ]
    }
   ],
   "source": [
    "print(soup.prettify())"
   ]
  },
  {
   "cell_type": "markdown",
   "metadata": {
    "id": "9b58e616-103a-4b0a-95ca-8152bffc4c0e"
   },
   "source": [
    "## Tags\n"
   ]
  },
  {
   "cell_type": "markdown",
   "metadata": {
    "id": "af676ea0-4466-41b1-a480-963f32901581"
   },
   "source": [
    "Let's say we want the  title of the page and the name of the top paid player. We can use the <code>Tag</code>. The <code>Tag</code> object corresponds to an HTML tag in the original document, for example, the tag title.\n"
   ]
  },
  {
   "cell_type": "code",
   "execution_count": 8,
   "metadata": {
    "colab": {
     "base_uri": "https://localhost:8080/"
    },
    "executionInfo": {
     "elapsed": 386,
     "status": "ok",
     "timestamp": 1694858251130,
     "user": {
      "displayName": "La Phú Hào",
      "userId": "02593092774645842930"
     },
     "user_tz": -420
    },
    "id": "CVbtiSmwbBSj",
    "outputId": "4a2d9c35-173f-44c0-bcaa-3216344357ae"
   },
   "outputs": [
    {
     "name": "stdout",
     "output_type": "stream",
     "text": [
      "tag object:  <title>Page Title</title>\n"
     ]
    }
   ],
   "source": [
    "tag_object = soup.title\n",
    "print(\"tag object: \", tag_object)"
   ]
  },
  {
   "cell_type": "markdown",
   "metadata": {
    "id": "fb2801ec-43e1-48bb-a8f3-ccf754824c2a"
   },
   "source": [
    "we can see the tag type <code>bs4.element.Tag</code>\n"
   ]
  },
  {
   "cell_type": "code",
   "execution_count": 9,
   "metadata": {
    "colab": {
     "base_uri": "https://localhost:8080/"
    },
    "executionInfo": {
     "elapsed": 332,
     "status": "ok",
     "timestamp": 1694858288988,
     "user": {
      "displayName": "La Phú Hào",
      "userId": "02593092774645842930"
     },
     "user_tz": -420
    },
    "id": "ryOaHHmcbKa5",
    "outputId": "713a3cec-9ab3-4954-a065-4093443b7cbe"
   },
   "outputs": [
    {
     "name": "stdout",
     "output_type": "stream",
     "text": [
      "tag object type:  <class 'bs4.element.Tag'>\n"
     ]
    }
   ],
   "source": [
    "print(\"tag object type: \", type(tag_object))"
   ]
  },
  {
   "cell_type": "markdown",
   "metadata": {
    "id": "3c6b8a12-a2fd-447b-a503-be5607d0d685"
   },
   "source": [
    "If there is more than one <code>Tag</code> with the same name, the first element with that <code>Tag</code> name is called. This corresponds to the most paid player:\n"
   ]
  },
  {
   "cell_type": "code",
   "execution_count": 11,
   "metadata": {
    "colab": {
     "base_uri": "https://localhost:8080/"
    },
    "executionInfo": {
     "elapsed": 348,
     "status": "ok",
     "timestamp": 1694858333972,
     "user": {
      "displayName": "La Phú Hào",
      "userId": "02593092774645842930"
     },
     "user_tz": -420
    },
    "id": "bATTAZembZXS",
    "outputId": "6aa7f269-ccf5-49e8-b666-dd8b681c25bb"
   },
   "outputs": [
    {
     "data": {
      "text/plain": [
       "<h3><b id=\"boldest\">Lebron James</b></h3>"
      ]
     },
     "execution_count": 11,
     "metadata": {},
     "output_type": "execute_result"
    }
   ],
   "source": [
    "tag_object = soup.h3\n",
    "tag_object"
   ]
  },
  {
   "cell_type": "markdown",
   "metadata": {
    "id": "46594e03-81ad-4109-bd4c-87649202a2ec"
   },
   "source": [
    "Enclosed in the bold attribute <code>b</code>, it helps to use the tree representation. We can navigate down the tree using the child attribute to get the name.\n"
   ]
  },
  {
   "cell_type": "markdown",
   "metadata": {
    "id": "4865f936-ef5a-4c5b-a9c3-a6d1753ad829"
   },
   "source": [
    "### Children, Parents, and Siblings\n"
   ]
  },
  {
   "cell_type": "markdown",
   "metadata": {
    "id": "cea84a77-c100-4d7b-ac1a-4907419090b8"
   },
   "source": [
    "As stated above, the <code>Tag</code> object is a tree of objects. We can access the child of the tag or navigate down the branch as follows:\n"
   ]
  },
  {
   "cell_type": "code",
   "execution_count": 12,
   "metadata": {
    "colab": {
     "base_uri": "https://localhost:8080/"
    },
    "executionInfo": {
     "elapsed": 347,
     "status": "ok",
     "timestamp": 1694858414133,
     "user": {
      "displayName": "La Phú Hào",
      "userId": "02593092774645842930"
     },
     "user_tz": -420
    },
    "id": "YE_QDM8KbriP",
    "outputId": "b0eecbf7-deef-4172-8ea0-ff82f417cc2d"
   },
   "outputs": [
    {
     "data": {
      "text/plain": [
       "<b id=\"boldest\">Lebron James</b>"
      ]
     },
     "execution_count": 12,
     "metadata": {},
     "output_type": "execute_result"
    }
   ],
   "source": [
    "tag_child = tag_object.b\n",
    "tag_child"
   ]
  },
  {
   "cell_type": "markdown",
   "metadata": {
    "id": "b9abe5f8-a3e6-4661-9d2f-e6b7a291098e"
   },
   "source": [
    "You can access the parent with the <code> parent</code>.\n"
   ]
  },
  {
   "cell_type": "code",
   "execution_count": 13,
   "metadata": {
    "colab": {
     "base_uri": "https://localhost:8080/"
    },
    "executionInfo": {
     "elapsed": 331,
     "status": "ok",
     "timestamp": 1694858475324,
     "user": {
      "displayName": "La Phú Hào",
      "userId": "02593092774645842930"
     },
     "user_tz": -420
    },
    "id": "xst_zbojb3nm",
    "outputId": "3ddc6c9e-b2a4-498f-af44-c4d1180afaff"
   },
   "outputs": [
    {
     "data": {
      "text/plain": [
       "<h3><b id=\"boldest\">Lebron James</b></h3>"
      ]
     },
     "execution_count": 13,
     "metadata": {},
     "output_type": "execute_result"
    }
   ],
   "source": [
    "tag_parent = tag_child.parent\n",
    "tag_parent"
   ]
  },
  {
   "cell_type": "markdown",
   "metadata": {
    "id": "e61aeaac-6c72-485a-a498-374288a4cf52"
   },
   "source": [
    "this is identical to:\n"
   ]
  },
  {
   "cell_type": "code",
   "execution_count": 14,
   "metadata": {
    "colab": {
     "base_uri": "https://localhost:8080/"
    },
    "executionInfo": {
     "elapsed": 335,
     "status": "ok",
     "timestamp": 1694858492018,
     "user": {
      "displayName": "La Phú Hào",
      "userId": "02593092774645842930"
     },
     "user_tz": -420
    },
    "id": "3f0bb13e-ce4a-4d9d-8b3a-27d6d04a2393",
    "outputId": "ef069744-3981-4d2d-e4e3-8f871c5a508a"
   },
   "outputs": [
    {
     "data": {
      "text/plain": [
       "<h3><b id=\"boldest\">Lebron James</b></h3>"
      ]
     },
     "execution_count": 14,
     "metadata": {},
     "output_type": "execute_result"
    }
   ],
   "source": [
    "tag_object"
   ]
  },
  {
   "cell_type": "markdown",
   "metadata": {
    "id": "fc89274a-98bc-4137-bb39-b0aad8296dd3"
   },
   "source": [
    "<code>tag_object</code> parent is the <code>body</code> element.\n"
   ]
  },
  {
   "cell_type": "code",
   "execution_count": 15,
   "metadata": {
    "colab": {
     "base_uri": "https://localhost:8080/"
    },
    "executionInfo": {
     "elapsed": 328,
     "status": "ok",
     "timestamp": 1694858509365,
     "user": {
      "displayName": "La Phú Hào",
      "userId": "02593092774645842930"
     },
     "user_tz": -420
    },
    "id": "57f2dd7e-a81a-4a1a-9b5b-2dd1125517b0",
    "outputId": "24b51c3d-f329-4cbd-835d-811e5cd508be"
   },
   "outputs": [
    {
     "data": {
      "text/plain": [
       "<body><h3><b id=\"boldest\">Lebron James</b></h3><p> Salary: $ 92,000,000 </p><h3> Stephen Curry</h3><p> Salary: $85,000, 000 </p><h3> Kevin Durant </h3><p> Salary: $73,200, 000</p></body>"
      ]
     },
     "execution_count": 15,
     "metadata": {},
     "output_type": "execute_result"
    }
   ],
   "source": [
    "tag_object.parent"
   ]
  },
  {
   "cell_type": "markdown",
   "metadata": {
    "id": "bc81a82a-f55d-4b67-b822-31e62811c863"
   },
   "source": [
    "<code>tag_object</code> sibling is the <code>paragraph</code> element.\n"
   ]
  },
  {
   "cell_type": "code",
   "execution_count": 16,
   "metadata": {
    "colab": {
     "base_uri": "https://localhost:8080/"
    },
    "executionInfo": {
     "elapsed": 320,
     "status": "ok",
     "timestamp": 1694858541862,
     "user": {
      "displayName": "La Phú Hào",
      "userId": "02593092774645842930"
     },
     "user_tz": -420
    },
    "id": "NI-SmCz4cKwz",
    "outputId": "7d780768-03bb-43fb-a8f5-2f4afe09fc8b"
   },
   "outputs": [
    {
     "data": {
      "text/plain": [
       "<p> Salary: $ 92,000,000 </p>"
      ]
     },
     "execution_count": 16,
     "metadata": {},
     "output_type": "execute_result"
    }
   ],
   "source": [
    "sibling_1 = tag_object.next_sibling\n",
    "sibling_1"
   ]
  },
  {
   "cell_type": "markdown",
   "metadata": {
    "id": "06f19df8-be41-4c53-88ed-b022d3a81859"
   },
   "source": [
    "`sibling_2` is the `header` element, which is also a sibling of both `sibling_1` and `tag_object`\n"
   ]
  },
  {
   "cell_type": "code",
   "execution_count": 17,
   "metadata": {
    "colab": {
     "base_uri": "https://localhost:8080/"
    },
    "executionInfo": {
     "elapsed": 320,
     "status": "ok",
     "timestamp": 1694858573166,
     "user": {
      "displayName": "La Phú Hào",
      "userId": "02593092774645842930"
     },
     "user_tz": -420
    },
    "id": "8KTQP1f4cTuZ",
    "outputId": "2ebf34ad-e674-418e-c17e-76eafadf3f37"
   },
   "outputs": [
    {
     "data": {
      "text/plain": [
       "<h3> Stephen Curry</h3>"
      ]
     },
     "execution_count": 17,
     "metadata": {},
     "output_type": "execute_result"
    }
   ],
   "source": [
    "sibling_2 = sibling_1.next_sibling\n",
    "sibling_2"
   ]
  },
  {
   "cell_type": "markdown",
   "metadata": {
    "id": "a78427f6-d490-401b-8ed4-a86b1adb947a"
   },
   "source": [
    "<h3 id=\"first_question\">Exercise: <code>next_sibling</code></h3>\n"
   ]
  },
  {
   "cell_type": "markdown",
   "metadata": {
    "id": "9eb00342-1707-4218-abad-e01a2f664e6b"
   },
   "source": [
    "Use the object <code>sibling\\_2</code> and the method <code>next_sibling</code> to find the salary of Stephen Curry:\n"
   ]
  },
  {
   "cell_type": "code",
   "execution_count": 18,
   "metadata": {
    "colab": {
     "base_uri": "https://localhost:8080/"
    },
    "executionInfo": {
     "elapsed": 360,
     "status": "ok",
     "timestamp": 1694858624272,
     "user": {
      "displayName": "La Phú Hào",
      "userId": "02593092774645842930"
     },
     "user_tz": -420
    },
    "id": "e0ab11b7-ec53-4e08-8a33-b6372964235a",
    "outputId": "01f7c698-174d-46a1-87a9-1c4966f609b6"
   },
   "outputs": [
    {
     "data": {
      "text/plain": [
       "<p> Salary: $85,000, 000 </p>"
      ]
     },
     "execution_count": 18,
     "metadata": {},
     "output_type": "execute_result"
    }
   ],
   "source": [
    "sibling_3 = sibling_2.next_sibling\n",
    "sibling_3"
   ]
  },
  {
   "cell_type": "markdown",
   "metadata": {
    "id": "77cc9bde-925f-4a38-964f-71a271cea567"
   },
   "source": [
    "<details><summary>Click here for the solution</summary>\n",
    "\n",
    "```\n",
    "sibling_2.next_sibling\n",
    "\n",
    "```\n",
    "\n",
    "</details>\n"
   ]
  },
  {
   "cell_type": "markdown",
   "metadata": {
    "id": "20f3f03d-2c19-4250-a4dd-d1f9602f1836"
   },
   "source": [
    "### HTML Attributes\n"
   ]
  },
  {
   "cell_type": "markdown",
   "metadata": {
    "id": "8755461d-4fdb-442f-879f-82b02157ceba"
   },
   "source": [
    "If the tag has attributes, the tag <code>id=\"boldest\"</code> has an attribute <code>id</code> whose value is <code>boldest</code>. You can access a tag's attributes by treating the tag like a dictionary:\n"
   ]
  },
  {
   "cell_type": "code",
   "execution_count": 19,
   "metadata": {
    "colab": {
     "base_uri": "https://localhost:8080/",
     "height": 36
    },
    "executionInfo": {
     "elapsed": 368,
     "status": "ok",
     "timestamp": 1694858666186,
     "user": {
      "displayName": "La Phú Hào",
      "userId": "02593092774645842930"
     },
     "user_tz": -420
    },
    "id": "ebb89194-b262-4d30-88ca-be01f6925c38",
    "outputId": "7cacd53e-41db-4685-fe69-c068b9b951da"
   },
   "outputs": [
    {
     "data": {
      "application/vnd.google.colaboratory.intrinsic+json": {
       "type": "string"
      },
      "text/plain": [
       "'boldest'"
      ]
     },
     "execution_count": 19,
     "metadata": {},
     "output_type": "execute_result"
    }
   ],
   "source": [
    "tag_child['id']"
   ]
  },
  {
   "cell_type": "markdown",
   "metadata": {
    "id": "730f574e-689e-493e-aa49-1756deef9742"
   },
   "source": [
    "You can access that dictionary directly as <code>attrs</code>:\n"
   ]
  },
  {
   "cell_type": "code",
   "execution_count": 20,
   "metadata": {
    "colab": {
     "base_uri": "https://localhost:8080/"
    },
    "executionInfo": {
     "elapsed": 313,
     "status": "ok",
     "timestamp": 1694858697726,
     "user": {
      "displayName": "La Phú Hào",
      "userId": "02593092774645842930"
     },
     "user_tz": -420
    },
    "id": "9c63863c-b996-487b-9895-43f772dc8d1f",
    "outputId": "93c6f3ce-93f0-490b-d103-228de9605623"
   },
   "outputs": [
    {
     "data": {
      "text/plain": [
       "{'id': 'boldest'}"
      ]
     },
     "execution_count": 20,
     "metadata": {},
     "output_type": "execute_result"
    }
   ],
   "source": [
    "tag_child.attrs"
   ]
  },
  {
   "cell_type": "markdown",
   "metadata": {
    "id": "7e2182aa-0787-42b3-9dd3-1c2831896523"
   },
   "source": [
    "You can also work with Multi-valued attributes. Check out <a href=\"https://www.crummy.com/software/BeautifulSoup/bs4/doc/?utm_medium=Exinfluencer&utm_source=Exinfluencer&utm_content=000026UJ&utm_term=10006555&utm_id=NA-SkillsNetwork-Channel-SkillsNetworkCoursesIBMDeveloperSkillsNetworkPY0101ENSkillsNetwork19487395-2021-01-01\">\\[1]</a> for more.\n"
   ]
  },
  {
   "cell_type": "markdown",
   "metadata": {
    "id": "73fa55e6-a111-455c-814f-83517dad3ec2"
   },
   "source": [
    "We can also obtain the content of the attribute of the <code>tag</code> using the Python <code>get()</code> method.\n"
   ]
  },
  {
   "cell_type": "code",
   "execution_count": 22,
   "metadata": {
    "colab": {
     "base_uri": "https://localhost:8080/",
     "height": 36
    },
    "executionInfo": {
     "elapsed": 13,
     "status": "ok",
     "timestamp": 1694858772613,
     "user": {
      "displayName": "La Phú Hào",
      "userId": "02593092774645842930"
     },
     "user_tz": -420
    },
    "id": "14d8b663-d3b9-4d19-bc57-bc643282d20a",
    "outputId": "436bc002-7ef5-48e0-e2b2-35b694bef765"
   },
   "outputs": [
    {
     "data": {
      "application/vnd.google.colaboratory.intrinsic+json": {
       "type": "string"
      },
      "text/plain": [
       "'boldest'"
      ]
     },
     "execution_count": 22,
     "metadata": {},
     "output_type": "execute_result"
    }
   ],
   "source": [
    "tag_child.get('id')"
   ]
  },
  {
   "cell_type": "markdown",
   "metadata": {
    "id": "76d9a613-bcb8-4cbb-abef-39792dedc4bd"
   },
   "source": [
    "### Navigable String\n"
   ]
  },
  {
   "cell_type": "markdown",
   "metadata": {
    "id": "124a0650-7e25-46f8-99f8-2963351178ad"
   },
   "source": [
    "A string corresponds to a bit of text or content within a tag. Beautiful Soup uses the <code>NavigableString</code> class to contain this text. In our HTML we can obtain the name of the first player by extracting the string of the <code>Tag</code> object <code>tag_child</code> as follows:\n"
   ]
  },
  {
   "cell_type": "code",
   "execution_count": 25,
   "metadata": {
    "colab": {
     "base_uri": "https://localhost:8080/",
     "height": 36
    },
    "executionInfo": {
     "elapsed": 337,
     "status": "ok",
     "timestamp": 1694858876341,
     "user": {
      "displayName": "La Phú Hào",
      "userId": "02593092774645842930"
     },
     "user_tz": -420
    },
    "id": "QZXKY5Nhdesp",
    "outputId": "36658833-27d9-4625-e875-466e82e0110d"
   },
   "outputs": [
    {
     "data": {
      "application/vnd.google.colaboratory.intrinsic+json": {
       "type": "string"
      },
      "text/plain": [
       "'Lebron James'"
      ]
     },
     "execution_count": 25,
     "metadata": {},
     "output_type": "execute_result"
    }
   ],
   "source": [
    "tag_string = tag_child.string\n",
    "tag_string"
   ]
  },
  {
   "cell_type": "markdown",
   "metadata": {
    "id": "a2600eb5-9f7f-486a-95d7-fe288cc70210"
   },
   "source": [
    "we can verify the type is Navigable String\n"
   ]
  },
  {
   "cell_type": "code",
   "execution_count": 26,
   "metadata": {
    "colab": {
     "base_uri": "https://localhost:8080/"
    },
    "executionInfo": {
     "elapsed": 324,
     "status": "ok",
     "timestamp": 1694858895204,
     "user": {
      "displayName": "La Phú Hào",
      "userId": "02593092774645842930"
     },
     "user_tz": -420
    },
    "id": "45e979f4-01f7-409e-9150-96f0dd60a451",
    "outputId": "74727bd0-14a6-4355-aea0-47c48ac0df90"
   },
   "outputs": [
    {
     "data": {
      "text/plain": [
       "bs4.element.NavigableString"
      ]
     },
     "execution_count": 26,
     "metadata": {},
     "output_type": "execute_result"
    }
   ],
   "source": [
    "type(tag_string)"
   ]
  },
  {
   "cell_type": "markdown",
   "metadata": {
    "id": "93f7fd9c-005a-46ff-88fe-0461dbcdcbd2"
   },
   "source": [
    "A NavigableString is similar to a Python string or Unicode string. To be more precise, the main difference is that it also supports some <code>BeautifulSoup</code> features. We can convert it to string object in Python:\n"
   ]
  },
  {
   "cell_type": "code",
   "execution_count": 27,
   "metadata": {
    "colab": {
     "base_uri": "https://localhost:8080/",
     "height": 36
    },
    "executionInfo": {
     "elapsed": 370,
     "status": "ok",
     "timestamp": 1694858940481,
     "user": {
      "displayName": "La Phú Hào",
      "userId": "02593092774645842930"
     },
     "user_tz": -420
    },
    "id": "bpM_iP6TdsAf",
    "outputId": "7a4aa784-4ae1-4aa2-ca14-f77feacd5851"
   },
   "outputs": [
    {
     "data": {
      "application/vnd.google.colaboratory.intrinsic+json": {
       "type": "string"
      },
      "text/plain": [
       "'Lebron James'"
      ]
     },
     "execution_count": 27,
     "metadata": {},
     "output_type": "execute_result"
    }
   ],
   "source": [
    "unicode_string = str(tag_string)\n",
    "unicode_string"
   ]
  },
  {
   "cell_type": "markdown",
   "metadata": {
    "id": "fb605155-a3e3-469b-8e5f-b8ae06774ec7"
   },
   "source": [
    "<h2 id=\"filter\">Filter</h2>\n"
   ]
  },
  {
   "cell_type": "markdown",
   "metadata": {
    "id": "12111d69-8e1d-4d19-8a34-af53b0c966fb"
   },
   "source": [
    "Filters allow you to find complex patterns, the simplest filter is a string. In this section we will pass a string to a different filter method and Beautiful Soup will perform a match against that exact string. Consider the following HTML of rocket launches:\n"
   ]
  },
  {
   "cell_type": "code",
   "execution_count": 28,
   "metadata": {
    "colab": {
     "base_uri": "https://localhost:8080/",
     "height": 102
    },
    "executionInfo": {
     "elapsed": 336,
     "status": "ok",
     "timestamp": 1694858996810,
     "user": {
      "displayName": "La Phú Hào",
      "userId": "02593092774645842930"
     },
     "user_tz": -420
    },
    "id": "a95fc178-0f46-4176-be9d-4839fb268c29",
    "outputId": "b5e26638-fc74-4197-bd24-1286c233e068"
   },
   "outputs": [
    {
     "data": {
      "text/html": [
       "<table>\n",
       "  <tr>\n",
       "    <td id='flight' >Flight No</td>\n",
       "    <td>Launch site</td>\n",
       "    <td>Payload mass</td>\n",
       "   </tr>\n",
       "  <tr>\n",
       "    <td>1</td>\n",
       "    <td><a href='https://en.wikipedia.org/wiki/Florida'>Florida</a></td>\n",
       "    <td>300 kg</td>\n",
       "  </tr>\n",
       "  <tr>\n",
       "    <td>2</td>\n",
       "    <td><a href='https://en.wikipedia.org/wiki/Texas'>Texas</a></td>\n",
       "    <td>94 kg</td>\n",
       "  </tr>\n",
       "  <tr>\n",
       "    <td>3</td>\n",
       "    <td><a href='https://en.wikipedia.org/wiki/Florida'>Florida<a> </td>\n",
       "    <td>80 kg</td>\n",
       "  </tr>\n",
       "</table>\n"
      ],
      "text/plain": [
       "<IPython.core.display.HTML object>"
      ]
     },
     "metadata": {},
     "output_type": "display_data"
    }
   ],
   "source": [
    "%%html\n",
    "<table>\n",
    "  <tr>\n",
    "    <td id='flight' >Flight No</td>\n",
    "    <td>Launch site</td>\n",
    "    <td>Payload mass</td>\n",
    "   </tr>\n",
    "  <tr>\n",
    "    <td>1</td>\n",
    "    <td><a href='https://en.wikipedia.org/wiki/Florida'>Florida</a></td>\n",
    "    <td>300 kg</td>\n",
    "  </tr>\n",
    "  <tr>\n",
    "    <td>2</td>\n",
    "    <td><a href='https://en.wikipedia.org/wiki/Texas'>Texas</a></td>\n",
    "    <td>94 kg</td>\n",
    "  </tr>\n",
    "  <tr>\n",
    "    <td>3</td>\n",
    "    <td><a href='https://en.wikipedia.org/wiki/Florida'>Florida<a> </td>\n",
    "    <td>80 kg</td>\n",
    "  </tr>\n",
    "</table>"
   ]
  },
  {
   "cell_type": "markdown",
   "metadata": {
    "id": "c8ac9fae-596b-4874-a34d-b300e0dd495a"
   },
   "source": [
    "We can store it as a string in the variable <code>table</code>:\n"
   ]
  },
  {
   "cell_type": "code",
   "execution_count": 36,
   "metadata": {
    "executionInfo": {
     "elapsed": 342,
     "status": "ok",
     "timestamp": 1694859300958,
     "user": {
      "displayName": "La Phú Hào",
      "userId": "02593092774645842930"
     },
     "user_tz": -420
    },
    "id": "902b4b89-007e-416a-83ec-191640545ab7"
   },
   "outputs": [],
   "source": [
    "table = \"<table><tr><td id='flight'>Flight No</td><td>Launch site</td> <td>Payload mass</td></tr><tr> <td>1</td><td><a href='https://en.wikipedia.org/wiki/Florida'>Florida<a></td><td>300 kg</td></tr><tr><td>2</td><td><a href='https://en.wikipedia.org/wiki/Texas'>Texas</a></td><td>94 kg</td></tr><tr><td>3</td><td><a href='https://en.wikipedia.org/wiki/Florida'>Florida<a> </td><td>80 kg</td></tr></table>\""
   ]
  },
  {
   "cell_type": "code",
   "execution_count": 37,
   "metadata": {
    "executionInfo": {
     "elapsed": 5,
     "status": "ok",
     "timestamp": 1694859302334,
     "user": {
      "displayName": "La Phú Hào",
      "userId": "02593092774645842930"
     },
     "user_tz": -420
    },
    "id": "e5191e9a-b3bb-4c31-ae97-abc49e80c084"
   },
   "outputs": [],
   "source": [
    "table_bs = BeautifulSoup(table, 'html5lib')"
   ]
  },
  {
   "cell_type": "markdown",
   "metadata": {
    "id": "c5c7b9d1-89b9-4bd7-82df-5df169756cf0"
   },
   "source": [
    "## find All\n"
   ]
  },
  {
   "cell_type": "markdown",
   "metadata": {
    "id": "c078ee17-5d84-4bf3-b789-debac2154be0"
   },
   "source": [
    "The <code>find_all()</code> method looks through a tag's descendants and retrieves all descendants that match your filters.\n",
    "\n",
    "<p>\n",
    "The Method signature for <code>find_all(name, attrs, recursive, string, limit, **kwargs)<c/ode>\n",
    "</p>\n"
   ]
  },
  {
   "cell_type": "markdown",
   "metadata": {
    "id": "9022435e-0735-437d-9bb3-c17db7d90730"
   },
   "source": [
    "### Name\n"
   ]
  },
  {
   "cell_type": "markdown",
   "metadata": {
    "id": "f31f53fd-69e8-47c8-9a40-25994d8ee35c"
   },
   "source": [
    "When we set the <code>name</code> parameter to a tag name, the method will extract all the tags with that name and its children.\n"
   ]
  },
  {
   "cell_type": "code",
   "execution_count": 38,
   "metadata": {
    "colab": {
     "base_uri": "https://localhost:8080/"
    },
    "executionInfo": {
     "elapsed": 341,
     "status": "ok",
     "timestamp": 1694859321960,
     "user": {
      "displayName": "La Phú Hào",
      "userId": "02593092774645842930"
     },
     "user_tz": -420
    },
    "id": "XSJZeofgeiZL",
    "outputId": "cf41a777-6e77-4fc7-c233-bcbe2621a906"
   },
   "outputs": [
    {
     "data": {
      "text/plain": [
       "[<tr><td id=\"flight\">Flight No</td><td>Launch site</td> <td>Payload mass</td></tr>,\n",
       " <tr> <td>1</td><td><a href=\"https://en.wikipedia.org/wiki/Florida\">Florida</a><a></a></td><td>300 kg</td></tr>,\n",
       " <tr><td>2</td><td><a href=\"https://en.wikipedia.org/wiki/Texas\">Texas</a></td><td>94 kg</td></tr>,\n",
       " <tr><td>3</td><td><a href=\"https://en.wikipedia.org/wiki/Florida\">Florida</a><a> </a></td><td>80 kg</td></tr>]"
      ]
     },
     "execution_count": 38,
     "metadata": {},
     "output_type": "execute_result"
    }
   ],
   "source": [
    "table_rows = table_bs.find_all('tr')\n",
    "table_rows"
   ]
  },
  {
   "cell_type": "markdown",
   "metadata": {
    "id": "35d00cff-23b4-4909-b8b5-1241255b128a"
   },
   "source": [
    "The result is a Python iterable just like a list, each element is a <code>tag</code> object:\n"
   ]
  },
  {
   "cell_type": "code",
   "execution_count": 39,
   "metadata": {
    "colab": {
     "base_uri": "https://localhost:8080/"
    },
    "executionInfo": {
     "elapsed": 341,
     "status": "ok",
     "timestamp": 1694859324417,
     "user": {
      "displayName": "La Phú Hào",
      "userId": "02593092774645842930"
     },
     "user_tz": -420
    },
    "id": "mGmZV5TKeyfT",
    "outputId": "39ea702d-1928-48db-f716-90794a1ebf86"
   },
   "outputs": [
    {
     "data": {
      "text/plain": [
       "<tr><td id=\"flight\">Flight No</td><td>Launch site</td> <td>Payload mass</td></tr>"
      ]
     },
     "execution_count": 39,
     "metadata": {},
     "output_type": "execute_result"
    }
   ],
   "source": [
    "first_row = table_rows[0]\n",
    "first_row"
   ]
  },
  {
   "cell_type": "markdown",
   "metadata": {
    "id": "a522e03e-0fa7-4cfb-90b5-e905c1fa21b0"
   },
   "source": [
    "The type is <code>tag</code>\n"
   ]
  },
  {
   "cell_type": "code",
   "execution_count": 40,
   "metadata": {
    "colab": {
     "base_uri": "https://localhost:8080/"
    },
    "executionInfo": {
     "elapsed": 343,
     "status": "ok",
     "timestamp": 1694859326948,
     "user": {
      "displayName": "La Phú Hào",
      "userId": "02593092774645842930"
     },
     "user_tz": -420
    },
    "id": "a70f0810-845e-410b-8d7b-7f93ed1f0cbb",
    "outputId": "454cc020-7118-47f8-be9e-545f712d245a"
   },
   "outputs": [
    {
     "name": "stdout",
     "output_type": "stream",
     "text": [
      "<class 'bs4.element.Tag'>\n"
     ]
    }
   ],
   "source": [
    "print(type(first_row))"
   ]
  },
  {
   "cell_type": "markdown",
   "metadata": {
    "id": "c3234c67-244e-43f3-ba83-ccd5ce544f36"
   },
   "source": [
    "we can obtain the child\n"
   ]
  },
  {
   "cell_type": "code",
   "execution_count": 41,
   "metadata": {
    "colab": {
     "base_uri": "https://localhost:8080/"
    },
    "executionInfo": {
     "elapsed": 339,
     "status": "ok",
     "timestamp": 1694859347204,
     "user": {
      "displayName": "La Phú Hào",
      "userId": "02593092774645842930"
     },
     "user_tz": -420
    },
    "id": "67032b46-397d-45ef-acbf-db24292a618e",
    "outputId": "64048f24-f5a9-4db9-a209-223d133feada"
   },
   "outputs": [
    {
     "data": {
      "text/plain": [
       "<td id=\"flight\">Flight No</td>"
      ]
     },
     "execution_count": 41,
     "metadata": {},
     "output_type": "execute_result"
    }
   ],
   "source": [
    "first_row.td"
   ]
  },
  {
   "cell_type": "markdown",
   "metadata": {
    "id": "9f2c7e07-6890-40e4-9983-9aa999be3024"
   },
   "source": [
    "If we iterate through the list, each element corresponds to a row in the table:\n"
   ]
  },
  {
   "cell_type": "code",
   "execution_count": 42,
   "metadata": {
    "colab": {
     "base_uri": "https://localhost:8080/"
    },
    "executionInfo": {
     "elapsed": 326,
     "status": "ok",
     "timestamp": 1694859405153,
     "user": {
      "displayName": "La Phú Hào",
      "userId": "02593092774645842930"
     },
     "user_tz": -420
    },
    "id": "feCh5R8SfZNo",
    "outputId": "2b904dfe-e784-4743-eea5-7c018d88f9f5"
   },
   "outputs": [
    {
     "name": "stdout",
     "output_type": "stream",
     "text": [
      "row 0 is <tr><td id=\"flight\">Flight No</td><td>Launch site</td> <td>Payload mass</td></tr>\n",
      "row 1 is <tr> <td>1</td><td><a href=\"https://en.wikipedia.org/wiki/Florida\">Florida</a><a></a></td><td>300 kg</td></tr>\n",
      "row 2 is <tr><td>2</td><td><a href=\"https://en.wikipedia.org/wiki/Texas\">Texas</a></td><td>94 kg</td></tr>\n",
      "row 3 is <tr><td>3</td><td><a href=\"https://en.wikipedia.org/wiki/Florida\">Florida</a><a> </a></td><td>80 kg</td></tr>\n"
     ]
    }
   ],
   "source": [
    "for i, row in enumerate(table_rows):\n",
    "    print(\"row\", i, \"is\", row)"
   ]
  },
  {
   "cell_type": "markdown",
   "metadata": {
    "id": "c831a4f8-e830-4d07-b585-5856fbc5e293"
   },
   "source": [
    "As <code>row</code> is a <code>cell</code> object, we can apply the method <code>find_all</code> to it and extract table cells in the object <code>cells</code> using the tag <code>td</code>, this is all the children with the name <code>td</code>. The result is a list, each element corresponds to a cell and is a <code>Tag</code> object, we can iterate through this list as well. We can extract the content using the <code>string</code> attribute.\n"
   ]
  },
  {
   "cell_type": "code",
   "execution_count": 45,
   "metadata": {
    "colab": {
     "base_uri": "https://localhost:8080/"
    },
    "executionInfo": {
     "elapsed": 326,
     "status": "ok",
     "timestamp": 1694860105566,
     "user": {
      "displayName": "La Phú Hào",
      "userId": "02593092774645842930"
     },
     "user_tz": -420
    },
    "id": "Eu1Jtf3MhmKQ",
    "outputId": "1fba042d-c265-4916-b31f-dfd5183ddf41"
   },
   "outputs": [
    {
     "name": "stdout",
     "output_type": "stream",
     "text": [
      "row 0\n",
      "column 0 cell <td id=\"flight\">Flight No</td>\n",
      "column 1 cell <td>Launch site</td>\n",
      "column 2 cell <td>Payload mass</td>\n",
      "row 1\n",
      "column 0 cell <td>1</td>\n",
      "column 1 cell <td><a href=\"https://en.wikipedia.org/wiki/Florida\">Florida</a><a></a></td>\n",
      "column 2 cell <td>300 kg</td>\n",
      "row 2\n",
      "column 0 cell <td>2</td>\n",
      "column 1 cell <td><a href=\"https://en.wikipedia.org/wiki/Texas\">Texas</a></td>\n",
      "column 2 cell <td>94 kg</td>\n",
      "row 3\n",
      "column 0 cell <td>3</td>\n",
      "column 1 cell <td><a href=\"https://en.wikipedia.org/wiki/Florida\">Florida</a><a> </a></td>\n",
      "column 2 cell <td>80 kg</td>\n"
     ]
    }
   ],
   "source": [
    "for i, row in enumerate(table_rows):\n",
    "    print('row', i)\n",
    "    cells = row.find_all('td')\n",
    "    for j, cell in enumerate(cells):\n",
    "        print('column', j, 'cell', cell)"
   ]
  },
  {
   "cell_type": "markdown",
   "metadata": {
    "id": "1e517291-6216-4c07-8f72-6dfd3151cd11"
   },
   "source": [
    "If we use a list we can match against any item in that list.\n"
   ]
  },
  {
   "cell_type": "code",
   "execution_count": 46,
   "metadata": {
    "colab": {
     "base_uri": "https://localhost:8080/"
    },
    "executionInfo": {
     "elapsed": 346,
     "status": "ok",
     "timestamp": 1694860250434,
     "user": {
      "displayName": "La Phú Hào",
      "userId": "02593092774645842930"
     },
     "user_tz": -420
    },
    "id": "Dyg_KMjaiqMW",
    "outputId": "343fffbb-f1cc-4f35-932c-b1e1ca79fef0"
   },
   "outputs": [
    {
     "data": {
      "text/plain": [
       "[<td id=\"flight\">Flight No</td>,\n",
       " <td>Launch site</td>,\n",
       " <td>Payload mass</td>,\n",
       " <td>1</td>,\n",
       " <td><a href=\"https://en.wikipedia.org/wiki/Florida\">Florida</a><a></a></td>,\n",
       " <td>300 kg</td>,\n",
       " <td>2</td>,\n",
       " <td><a href=\"https://en.wikipedia.org/wiki/Texas\">Texas</a></td>,\n",
       " <td>94 kg</td>,\n",
       " <td>3</td>,\n",
       " <td><a href=\"https://en.wikipedia.org/wiki/Florida\">Florida</a><a> </a></td>,\n",
       " <td>80 kg</td>]"
      ]
     },
     "execution_count": 46,
     "metadata": {},
     "output_type": "execute_result"
    }
   ],
   "source": [
    "list_input = table_bs.find_all(name=['str', 'td'])\n",
    "list_input"
   ]
  },
  {
   "cell_type": "markdown",
   "metadata": {
    "id": "bb20f027-24d1-46e2-acd9-9230e2cb1a98"
   },
   "source": [
    "## Attributes\n"
   ]
  },
  {
   "cell_type": "markdown",
   "metadata": {
    "id": "fc6bf343-9843-4a4c-bac1-4ae5f6d7c65a"
   },
   "source": [
    "If the argument is not recognized it will be turned into a filter on the tag's attributes. For example with the <code>id</code> argument, Beautiful Soup will filter against each tag's <code>id</code> attribute. For example, the first <code>td</code> elements have a value of <code>id</code> of <code>flight</code>, therefore we can filter based on that <code>id</code> value.\n"
   ]
  },
  {
   "cell_type": "code",
   "execution_count": 47,
   "metadata": {
    "colab": {
     "base_uri": "https://localhost:8080/"
    },
    "executionInfo": {
     "elapsed": 335,
     "status": "ok",
     "timestamp": 1694860353541,
     "user": {
      "displayName": "La Phú Hào",
      "userId": "02593092774645842930"
     },
     "user_tz": -420
    },
    "id": "9fTPEny7jGGf",
    "outputId": "b781716c-c556-481b-f9a7-9dc811a89cf1"
   },
   "outputs": [
    {
     "data": {
      "text/plain": [
       "[<td id=\"flight\">Flight No</td>]"
      ]
     },
     "execution_count": 47,
     "metadata": {},
     "output_type": "execute_result"
    }
   ],
   "source": [
    "table_bs.find_all(id='flight')"
   ]
  },
  {
   "cell_type": "markdown",
   "metadata": {
    "id": "56082368-f4ce-4521-bc46-2a0395fea341"
   },
   "source": [
    "We can find all the elements that have links to the Florida Wikipedia page:\n"
   ]
  },
  {
   "cell_type": "code",
   "execution_count": 48,
   "metadata": {
    "colab": {
     "base_uri": "https://localhost:8080/"
    },
    "executionInfo": {
     "elapsed": 344,
     "status": "ok",
     "timestamp": 1694860406674,
     "user": {
      "displayName": "La Phú Hào",
      "userId": "02593092774645842930"
     },
     "user_tz": -420
    },
    "id": "KkpQ9RBXjPCs",
    "outputId": "1afb008b-aecd-4fb9-fc3b-4311921897b9"
   },
   "outputs": [
    {
     "data": {
      "text/plain": [
       "[<a href=\"https://en.wikipedia.org/wiki/Florida\">Florida</a>,\n",
       " <a href=\"https://en.wikipedia.org/wiki/Florida\">Florida</a>]"
      ]
     },
     "execution_count": 48,
     "metadata": {},
     "output_type": "execute_result"
    }
   ],
   "source": [
    "list_input = table_bs.find_all(href = \"https://en.wikipedia.org/wiki/Florida\")\n",
    "list_input"
   ]
  },
  {
   "cell_type": "markdown",
   "metadata": {
    "id": "e1f2cd56-f42a-42ad-ae32-81f9178fb705"
   },
   "source": [
    "If we set the <code>href</code> attribute to True, regardless of what the value is, the code finds all tags with <code>href</code> value:\n"
   ]
  },
  {
   "cell_type": "code",
   "execution_count": 50,
   "metadata": {
    "colab": {
     "base_uri": "https://localhost:8080/"
    },
    "executionInfo": {
     "elapsed": 547,
     "status": "ok",
     "timestamp": 1694860456255,
     "user": {
      "displayName": "La Phú Hào",
      "userId": "02593092774645842930"
     },
     "user_tz": -420
    },
    "id": "OuEsXPv3je1u",
    "outputId": "ea76ef50-e682-493a-c11c-239fb42f49c5"
   },
   "outputs": [
    {
     "data": {
      "text/plain": [
       "[<a href=\"https://en.wikipedia.org/wiki/Florida\">Florida</a>,\n",
       " <a href=\"https://en.wikipedia.org/wiki/Texas\">Texas</a>,\n",
       " <a href=\"https://en.wikipedia.org/wiki/Florida\">Florida</a>]"
      ]
     },
     "execution_count": 50,
     "metadata": {},
     "output_type": "execute_result"
    }
   ],
   "source": [
    "table_bs.find_all(href=True)"
   ]
  },
  {
   "cell_type": "markdown",
   "metadata": {
    "id": "d9d7e377-fd5c-4caf-9b60-3d8b9b61f96b"
   },
   "source": [
    "There are other methods for dealing with attributes and other related methods. Check out the following <a href='https://www.crummy.com/software/BeautifulSoup/bs4/doc/?utm_medium=Exinfluencer&utm_source=Exinfluencer&utm_content=000026UJ&utm_term=10006555&utm_id=NA-SkillsNetwork-Channel-SkillsNetworkCoursesIBMDeveloperSkillsNetworkPY0101ENSkillsNetwork19487395-2021-01-01#css-selectors'>link</a>\n"
   ]
  },
  {
   "cell_type": "markdown",
   "metadata": {
    "id": "d266821b-a905-43ba-ba7c-a18f15005d13"
   },
   "source": [
    "<h3 id=\"exer_type\">Exercise: <code>find_all</code></h3>\n"
   ]
  },
  {
   "cell_type": "markdown",
   "metadata": {
    "id": "d6055aca-6157-4714-ab71-2a15bf7ecd94"
   },
   "source": [
    "Using the logic above, find all the elements without <code>href</code> value\n"
   ]
  },
  {
   "cell_type": "code",
   "execution_count": 51,
   "metadata": {
    "colab": {
     "base_uri": "https://localhost:8080/"
    },
    "executionInfo": {
     "elapsed": 354,
     "status": "ok",
     "timestamp": 1694860911098,
     "user": {
      "displayName": "La Phú Hào",
      "userId": "02593092774645842930"
     },
     "user_tz": -420
    },
    "id": "55ec1cfd-333d-40e8-a0a6-dc196adfd0ce",
    "outputId": "4bbd67f4-6fa9-4cde-883a-4358bb61a5ce"
   },
   "outputs": [
    {
     "data": {
      "text/plain": [
       "[<html><head></head><body><table><tbody><tr><td id=\"flight\">Flight No</td><td>Launch site</td> <td>Payload mass</td></tr><tr> <td>1</td><td><a href=\"https://en.wikipedia.org/wiki/Florida\">Florida</a><a></a></td><td>300 kg</td></tr><tr><td>2</td><td><a href=\"https://en.wikipedia.org/wiki/Texas\">Texas</a></td><td>94 kg</td></tr><tr><td>3</td><td><a href=\"https://en.wikipedia.org/wiki/Florida\">Florida</a><a> </a></td><td>80 kg</td></tr></tbody></table></body></html>,\n",
       " <head></head>,\n",
       " <body><table><tbody><tr><td id=\"flight\">Flight No</td><td>Launch site</td> <td>Payload mass</td></tr><tr> <td>1</td><td><a href=\"https://en.wikipedia.org/wiki/Florida\">Florida</a><a></a></td><td>300 kg</td></tr><tr><td>2</td><td><a href=\"https://en.wikipedia.org/wiki/Texas\">Texas</a></td><td>94 kg</td></tr><tr><td>3</td><td><a href=\"https://en.wikipedia.org/wiki/Florida\">Florida</a><a> </a></td><td>80 kg</td></tr></tbody></table></body>,\n",
       " <table><tbody><tr><td id=\"flight\">Flight No</td><td>Launch site</td> <td>Payload mass</td></tr><tr> <td>1</td><td><a href=\"https://en.wikipedia.org/wiki/Florida\">Florida</a><a></a></td><td>300 kg</td></tr><tr><td>2</td><td><a href=\"https://en.wikipedia.org/wiki/Texas\">Texas</a></td><td>94 kg</td></tr><tr><td>3</td><td><a href=\"https://en.wikipedia.org/wiki/Florida\">Florida</a><a> </a></td><td>80 kg</td></tr></tbody></table>,\n",
       " <tbody><tr><td id=\"flight\">Flight No</td><td>Launch site</td> <td>Payload mass</td></tr><tr> <td>1</td><td><a href=\"https://en.wikipedia.org/wiki/Florida\">Florida</a><a></a></td><td>300 kg</td></tr><tr><td>2</td><td><a href=\"https://en.wikipedia.org/wiki/Texas\">Texas</a></td><td>94 kg</td></tr><tr><td>3</td><td><a href=\"https://en.wikipedia.org/wiki/Florida\">Florida</a><a> </a></td><td>80 kg</td></tr></tbody>,\n",
       " <tr><td id=\"flight\">Flight No</td><td>Launch site</td> <td>Payload mass</td></tr>,\n",
       " <td id=\"flight\">Flight No</td>,\n",
       " <td>Launch site</td>,\n",
       " <td>Payload mass</td>,\n",
       " <tr> <td>1</td><td><a href=\"https://en.wikipedia.org/wiki/Florida\">Florida</a><a></a></td><td>300 kg</td></tr>,\n",
       " <td>1</td>,\n",
       " <td><a href=\"https://en.wikipedia.org/wiki/Florida\">Florida</a><a></a></td>,\n",
       " <a></a>,\n",
       " <td>300 kg</td>,\n",
       " <tr><td>2</td><td><a href=\"https://en.wikipedia.org/wiki/Texas\">Texas</a></td><td>94 kg</td></tr>,\n",
       " <td>2</td>,\n",
       " <td><a href=\"https://en.wikipedia.org/wiki/Texas\">Texas</a></td>,\n",
       " <td>94 kg</td>,\n",
       " <tr><td>3</td><td><a href=\"https://en.wikipedia.org/wiki/Florida\">Florida</a><a> </a></td><td>80 kg</td></tr>,\n",
       " <td>3</td>,\n",
       " <td><a href=\"https://en.wikipedia.org/wiki/Florida\">Florida</a><a> </a></td>,\n",
       " <a> </a>,\n",
       " <td>80 kg</td>]"
      ]
     },
     "execution_count": 51,
     "metadata": {},
     "output_type": "execute_result"
    }
   ],
   "source": [
    "table_bs.find_all(href=False)"
   ]
  },
  {
   "cell_type": "markdown",
   "metadata": {
    "id": "3bc49a47-6bdd-45aa-8fbd-e12f1098efc5"
   },
   "source": [
    "<details><summary>Click here for the solution</summary>\n",
    "\n",
    "```\n",
    "table_bs.find_all(href=False)\n",
    "\n",
    "```\n",
    "\n",
    "</details>\n"
   ]
  },
  {
   "cell_type": "markdown",
   "metadata": {
    "id": "909ffd92-80a4-45dd-b4c4-4f56959144d2"
   },
   "source": [
    "Using the soup object <code>soup</code>, find the element with the <code>id</code> attribute content set to <code>\"boldest\"</code>.\n"
   ]
  },
  {
   "cell_type": "code",
   "execution_count": 53,
   "metadata": {
    "colab": {
     "base_uri": "https://localhost:8080/"
    },
    "executionInfo": {
     "elapsed": 340,
     "status": "ok",
     "timestamp": 1694861167566,
     "user": {
      "displayName": "La Phú Hào",
      "userId": "02593092774645842930"
     },
     "user_tz": -420
    },
    "id": "6bcb1c69-5589-4ed1-84ca-51e143966d28",
    "outputId": "ca444b2f-4808-44a4-86c6-c58a461bf44e"
   },
   "outputs": [
    {
     "data": {
      "text/plain": [
       "[<b id=\"boldest\">Lebron James</b>]"
      ]
     },
     "execution_count": 53,
     "metadata": {},
     "output_type": "execute_result"
    }
   ],
   "source": [
    "soup.find_all(id='boldest')"
   ]
  },
  {
   "cell_type": "markdown",
   "metadata": {
    "id": "edbe2121-1bb0-4062-b575-c1fe5ab5f0bd"
   },
   "source": [
    "<details><summary>Click here for the solution</summary>\n",
    "\n",
    "```\n",
    "soup.find_all(id=\"boldest\")\n",
    "\n",
    "```\n",
    "\n",
    "</details>\n"
   ]
  },
  {
   "cell_type": "markdown",
   "metadata": {
    "id": "8fc2663f-d26d-4945-a63b-1cfbf71e3650"
   },
   "source": [
    "### string\n"
   ]
  },
  {
   "cell_type": "markdown",
   "metadata": {
    "id": "56996303-a7ac-4414-be80-bcfa06f9b3fd"
   },
   "source": [
    "With string you can search for strings instead of tags, where we find all the elments with Florida:\n"
   ]
  },
  {
   "cell_type": "code",
   "execution_count": 54,
   "metadata": {
    "colab": {
     "base_uri": "https://localhost:8080/"
    },
    "executionInfo": {
     "elapsed": 367,
     "status": "ok",
     "timestamp": 1694861203670,
     "user": {
      "displayName": "La Phú Hào",
      "userId": "02593092774645842930"
     },
     "user_tz": -420
    },
    "id": "7109decd-d839-43b3-838c-b6e6c2a07be2",
    "outputId": "6e95de39-d428-4d01-9b12-102bcdd823f0"
   },
   "outputs": [
    {
     "data": {
      "text/plain": [
       "['Florida', 'Florida']"
      ]
     },
     "execution_count": 54,
     "metadata": {},
     "output_type": "execute_result"
    }
   ],
   "source": [
    "table_bs.find_all(string=\"Florida\")"
   ]
  },
  {
   "cell_type": "markdown",
   "metadata": {
    "id": "b8e8ff9d-5fab-4f99-8905-da118ccc850b"
   },
   "source": [
    "## find\n"
   ]
  },
  {
   "cell_type": "markdown",
   "metadata": {
    "id": "8a3ab777-5463-46ab-aa66-4e72c1b08f69"
   },
   "source": [
    "The <code>find_all()</code> method scans the entire document looking for results. It’s useful if you are looking for one element, as you can use the <code>find()</code> method to find the first element in the document. Consider the following two tables:\n"
   ]
  },
  {
   "cell_type": "code",
   "execution_count": 55,
   "metadata": {
    "colab": {
     "base_uri": "https://localhost:8080/",
     "height": 271
    },
    "executionInfo": {
     "elapsed": 388,
     "status": "ok",
     "timestamp": 1694861455800,
     "user": {
      "displayName": "La Phú Hào",
      "userId": "02593092774645842930"
     },
     "user_tz": -420
    },
    "id": "a680e1a6-493e-42f3-b5e8-1469b1678112",
    "outputId": "dad5b6ac-75c1-4db7-d823-82f5c29bdaa1"
   },
   "outputs": [
    {
     "data": {
      "text/html": [
       "<h3>Rocket Launch </h3>\n",
       "\n",
       "<p>\n",
       "<table class='rocket'>\n",
       "  <tr>\n",
       "    <td>Flight No</td>\n",
       "    <td>Launch site</td>\n",
       "    <td>Payload mass</td>\n",
       "  </tr>\n",
       "  <tr>\n",
       "    <td>1</td>\n",
       "    <td>Florida</td>\n",
       "    <td>300 kg</td>\n",
       "  </tr>\n",
       "  <tr>\n",
       "    <td>2</td>\n",
       "    <td>Texas</td>\n",
       "    <td>94 kg</td>\n",
       "  </tr>\n",
       "  <tr>\n",
       "    <td>3</td>\n",
       "    <td>Florida </td>\n",
       "    <td>80 kg</td>\n",
       "  </tr>\n",
       "</table>\n",
       "</p>\n",
       "<p>\n",
       "\n",
       "<h3>Pizza Party  </h3>\n",
       "\n",
       "\n",
       "<table class='pizza'>\n",
       "  <tr>\n",
       "    <td>Pizza Place</td>\n",
       "    <td>Orders</td>\n",
       "    <td>Slices </td>\n",
       "   </tr>\n",
       "  <tr>\n",
       "    <td>Domino's Pizza</td>\n",
       "    <td>10</td>\n",
       "    <td>100</td>\n",
       "  </tr>\n",
       "  <tr>\n",
       "    <td>Little Caesars</td>\n",
       "    <td>12</td>\n",
       "    <td >144 </td>\n",
       "  </tr>\n",
       "  <tr>\n",
       "    <td>Papa John's </td>\n",
       "    <td>15 </td>\n",
       "    <td>165</td>\n",
       "  </tr>\n"
      ],
      "text/plain": [
       "<IPython.core.display.HTML object>"
      ]
     },
     "metadata": {},
     "output_type": "display_data"
    }
   ],
   "source": [
    "%%html\n",
    "<h3>Rocket Launch </h3>\n",
    "\n",
    "<p>\n",
    "<table class='rocket'>\n",
    "  <tr>\n",
    "    <td>Flight No</td>\n",
    "    <td>Launch site</td>\n",
    "    <td>Payload mass</td>\n",
    "  </tr>\n",
    "  <tr>\n",
    "    <td>1</td>\n",
    "    <td>Florida</td>\n",
    "    <td>300 kg</td>\n",
    "  </tr>\n",
    "  <tr>\n",
    "    <td>2</td>\n",
    "    <td>Texas</td>\n",
    "    <td>94 kg</td>\n",
    "  </tr>\n",
    "  <tr>\n",
    "    <td>3</td>\n",
    "    <td>Florida </td>\n",
    "    <td>80 kg</td>\n",
    "  </tr>\n",
    "</table>\n",
    "</p>\n",
    "<p>\n",
    "\n",
    "<h3>Pizza Party  </h3>\n",
    "\n",
    "\n",
    "<table class='pizza'>\n",
    "  <tr>\n",
    "    <td>Pizza Place</td>\n",
    "    <td>Orders</td>\n",
    "    <td>Slices </td>\n",
    "   </tr>\n",
    "  <tr>\n",
    "    <td>Domino's Pizza</td>\n",
    "    <td>10</td>\n",
    "    <td>100</td>\n",
    "  </tr>\n",
    "  <tr>\n",
    "    <td>Little Caesars</td>\n",
    "    <td>12</td>\n",
    "    <td >144 </td>\n",
    "  </tr>\n",
    "  <tr>\n",
    "    <td>Papa John's </td>\n",
    "    <td>15 </td>\n",
    "    <td>165</td>\n",
    "  </tr>\n"
   ]
  },
  {
   "cell_type": "markdown",
   "metadata": {
    "id": "9176fc69-b5a9-4112-9278-5cc91b42d30e"
   },
   "source": [
    "We store the HTML as a Python string and assign <code>two_tables</code>:\n"
   ]
  },
  {
   "cell_type": "code",
   "execution_count": 56,
   "metadata": {
    "executionInfo": {
     "elapsed": 323,
     "status": "ok",
     "timestamp": 1694861476109,
     "user": {
      "displayName": "La Phú Hào",
      "userId": "02593092774645842930"
     },
     "user_tz": -420
    },
    "id": "7a53b596-5e6c-496e-8bf5-a86ab0a2fb7f"
   },
   "outputs": [],
   "source": [
    "two_tables = \"<h3>Rocket Launch </h3><p><table class='rocket'><tr><td>Flight No</td><td>Launch site</td> <td>Payload mass</td></tr><tr><td>1</td><td>Florida</td><td>300 kg</td></tr><tr><td>2</td><td>Texas</td><td>94 kg</td></tr><tr><td>3</td><td>Florida </td><td>80 kg</td></tr></table></p><p><h3>Pizza Party  </h3><table class='pizza'><tr><td>Pizza Place</td><td>Orders</td> <td>Slices </td></tr><tr><td>Domino's Pizza</td><td>10</td><td>100</td></tr><tr><td>Little Caesars</td><td>12</td><td >144 </td></tr><tr><td>Papa John's </td><td>15 </td><td>165</td></tr>\""
   ]
  },
  {
   "cell_type": "markdown",
   "metadata": {
    "id": "6fd5a31e-dc14-4ea3-8584-1bc33cf37bce"
   },
   "source": [
    "We create a <code>BeautifulSoup</code> object  <code>two_tables_bs</code>\n"
   ]
  },
  {
   "cell_type": "code",
   "execution_count": 57,
   "metadata": {
    "executionInfo": {
     "elapsed": 492,
     "status": "ok",
     "timestamp": 1694861510823,
     "user": {
      "displayName": "La Phú Hào",
      "userId": "02593092774645842930"
     },
     "user_tz": -420
    },
    "id": "jD7zaerTndji"
   },
   "outputs": [],
   "source": [
    "two_tables_bs = BeautifulSoup(two_tables, 'html.parser')"
   ]
  },
  {
   "cell_type": "markdown",
   "metadata": {
    "id": "36cfcf86-331d-4254-a716-048695ce3811"
   },
   "source": [
    "We can find the first table using the tag name table\n"
   ]
  },
  {
   "cell_type": "code",
   "execution_count": 58,
   "metadata": {
    "colab": {
     "base_uri": "https://localhost:8080/"
    },
    "executionInfo": {
     "elapsed": 338,
     "status": "ok",
     "timestamp": 1694861526193,
     "user": {
      "displayName": "La Phú Hào",
      "userId": "02593092774645842930"
     },
     "user_tz": -420
    },
    "id": "d97f91bd-c3e4-4d12-a249-934b4d6f4129",
    "outputId": "07560796-f6e9-4208-f532-1b801146a2ce"
   },
   "outputs": [
    {
     "data": {
      "text/plain": [
       "<table class=\"rocket\"><tr><td>Flight No</td><td>Launch site</td> <td>Payload mass</td></tr><tr><td>1</td><td>Florida</td><td>300 kg</td></tr><tr><td>2</td><td>Texas</td><td>94 kg</td></tr><tr><td>3</td><td>Florida </td><td>80 kg</td></tr></table>"
      ]
     },
     "execution_count": 58,
     "metadata": {},
     "output_type": "execute_result"
    }
   ],
   "source": [
    "two_tables_bs.find(\"table\")"
   ]
  },
  {
   "cell_type": "markdown",
   "metadata": {
    "id": "5f2eb5f3-8335-422b-acdf-92baefdd4b33"
   },
   "source": [
    "We can filter on the class attribute to find the second table, but because class is a keyword in Python, we add an underscore to differentiate them.\n"
   ]
  },
  {
   "cell_type": "code",
   "execution_count": 59,
   "metadata": {
    "colab": {
     "base_uri": "https://localhost:8080/"
    },
    "executionInfo": {
     "elapsed": 393,
     "status": "ok",
     "timestamp": 1694861609322,
     "user": {
      "displayName": "La Phú Hào",
      "userId": "02593092774645842930"
     },
     "user_tz": -420
    },
    "id": "bojKHRIcn0Ho",
    "outputId": "3970a0a6-011f-450e-e60f-5edd41147cc3"
   },
   "outputs": [
    {
     "data": {
      "text/plain": [
       "<table class=\"pizza\"><tr><td>Pizza Place</td><td>Orders</td> <td>Slices </td></tr><tr><td>Domino's Pizza</td><td>10</td><td>100</td></tr><tr><td>Little Caesars</td><td>12</td><td>144 </td></tr><tr><td>Papa John's </td><td>15 </td><td>165</td></tr></table>"
      ]
     },
     "execution_count": 59,
     "metadata": {},
     "output_type": "execute_result"
    }
   ],
   "source": [
    "two_tables_bs.find('table', class_ = 'pizza')"
   ]
  },
  {
   "cell_type": "code",
   "execution_count": 60,
   "metadata": {
    "colab": {
     "base_uri": "https://localhost:8080/"
    },
    "executionInfo": {
     "elapsed": 373,
     "status": "ok",
     "timestamp": 1694861625414,
     "user": {
      "displayName": "La Phú Hào",
      "userId": "02593092774645842930"
     },
     "user_tz": -420
    },
    "id": "32f78e48-7dc6-41d9-afb6-a25a17bc37ea",
    "outputId": "952f655b-23dc-437d-a42a-28d427ff4e99"
   },
   "outputs": [
    {
     "data": {
      "text/plain": [
       "<table class=\"rocket\"><tr><td>Flight No</td><td>Launch site</td> <td>Payload mass</td></tr><tr><td>1</td><td>Florida</td><td>300 kg</td></tr><tr><td>2</td><td>Texas</td><td>94 kg</td></tr><tr><td>3</td><td>Florida </td><td>80 kg</td></tr></table>"
      ]
     },
     "execution_count": 60,
     "metadata": {},
     "output_type": "execute_result"
    }
   ],
   "source": [
    "two_tables_bs.find('table', class_ = 'rocket')"
   ]
  },
  {
   "cell_type": "markdown",
   "metadata": {
    "id": "d0d6141e-1857-43f4-8f6d-f36cda0d3880"
   },
   "source": [
    "<h2 id=\"DSCW\">Downloading And Scraping The Contents Of A Web Page</h2>\n"
   ]
  },
  {
   "cell_type": "markdown",
   "metadata": {
    "id": "05c920a1-1cf5-4f12-aaba-776e44a44ae1"
   },
   "source": [
    "We Download the contents of the web page:\n"
   ]
  },
  {
   "cell_type": "code",
   "execution_count": 61,
   "metadata": {
    "executionInfo": {
     "elapsed": 318,
     "status": "ok",
     "timestamp": 1694861731889,
     "user": {
      "displayName": "La Phú Hào",
      "userId": "02593092774645842930"
     },
     "user_tz": -420
    },
    "id": "a4a3966f-83bd-44fb-8a34-47fd336450ef"
   },
   "outputs": [],
   "source": [
    "url = \"http://www.ibm.com\""
   ]
  },
  {
   "cell_type": "markdown",
   "metadata": {
    "id": "7f4cd19c-1251-4718-84e6-c4aa6f7da5b5"
   },
   "source": [
    "We use <code>get</code> to download the contents of the webpage in text format and store in a variable called <code>data</code>:\n"
   ]
  },
  {
   "cell_type": "code",
   "execution_count": 62,
   "metadata": {
    "executionInfo": {
     "elapsed": 878,
     "status": "ok",
     "timestamp": 1694861766723,
     "user": {
      "displayName": "La Phú Hào",
      "userId": "02593092774645842930"
     },
     "user_tz": -420
    },
    "id": "AcN-mojpofHU"
   },
   "outputs": [],
   "source": [
    "data = requests.get(url).text"
   ]
  },
  {
   "cell_type": "code",
   "execution_count": 63,
   "metadata": {
    "colab": {
     "base_uri": "https://localhost:8080/",
     "height": 140
    },
    "executionInfo": {
     "elapsed": 513,
     "status": "ok",
     "timestamp": 1694861773520,
     "user": {
      "displayName": "La Phú Hào",
      "userId": "02593092774645842930"
     },
     "user_tz": -420
    },
    "id": "CcRlrR6pokDx",
    "outputId": "518520e5-7552-4f52-e884-7f7cea184d87"
   },
   "outputs": [
    {
     "data": {
      "application/vnd.google.colaboratory.intrinsic+json": {
       "type": "string"
      },
      "text/plain": [
       "'<!DOCTYPE html><html lang=\"en-US\"><head><meta name=\"viewport\" content=\"width=device-width\"/><meta charSet=\"utf-8\"/><title>IBM - United States</title><link rel=\"canonical\" href=\"https://www.ibm.com/us-en\"/><meta name=\"robots\" content=\"index,follow\"/><meta name=\"description\" content=\"For more than a century, IBM has been a global technology innovator, leading advances in AI, automation and hybrid cloud solutions that help businesses grow.\"/><meta name=\"keywords\" content=\"IBM\"/><meta http-equiv=\"X-UA-Compatible\" content=\"IE=Edge\"/><meta http-equiv=\"Cache-Control\" content=\"no-cache, no-store, must-revalidate\"/><meta http-equiv=\"Pragma\" content=\"no-cache\"/><meta http-equiv=\"Expires\" content=\"0\"/><link rel=\"icon\" href=\"//www.ibm.com/favicon.ico\"/><meta name=\"ibmdotcom.version.react\" content=\"^1.51.0-canary.6102135696.0\"/><meta name=\"ibmdotcom.version.styles\" content=\"^1.51.0-canary.6102135696.0\"/><meta name=\"ibmdotcom.build.time\" content=\"2023-09-15T15:45:35.258Z\"/><meta name=\"dcterms.date\" content=\"2015-10-01\"/><meta name=\"dcterms.rights\" content=\"Â© Copyright IBM Corp. 2020\"/><meta name=\"geo.country\" content=\"US\"/><script>digitalData={\"page\":{\"category\":{\"primaryCategory\":\"SB03\"},\"pageInfo\":{\"effectiveDate\":\"2022-12-15\",\"expiryDate\":\"2027-12-15\",\"language\":\"en-us\",\"publishDate\":\"2023-06-07\",\"publisher\":\"IBM Corporation\",\"version\":\"Carbon:IBM.com Library v1.47.0\",\"ibm\":{\"contentDelivery\":\"HTML\",\"contentProducer\":\"Lance Tappana\",\"country\":\"us\",\"industry\":\"ZZ\",\"owner\":\"Corporate Webmaster/New York/IBM\",\"siteID\":\"GLOBAL\",\"subject\":\"IBM000\",\"type\":\"CT052\",\"messaging\":{\"routing\":{\"focusArea\":\"Miscellaneous - Cross IBM\",\"languageCode\":\"en\",\"regionCode\":\"US\"},\"translation\":{\"languageCode\":\"en\",\"regionCode\":\"US\"}}},\"hotjar\":{\"enabled\":0}}}};</script><script>\\n            window.hj=window.hj||function(){(hj.q=hj.q||[]).push(arguments)};\\n            window.hj(\\'tagRecording\\', [\\'hjLoaded\\']);\\n            document.addEventListener(\\'onMegaMenuToggle\\', e => {\\n              if(e.target.getAttribute(\"data-title\") == \\'products-solutions\\') {\\n                window.hj(\\'trigger\\', \\'MM_products-solutions\\');\\n              }\\n              if(e.target.getAttribute(\"data-title\") == \\'services-consulting\\') {\\n                window.hj(\\'trigger\\', \\'MM_services-consulting\\');\\n              }\\n              if(e.target.getAttribute(\"data-title\") == \\'learn-support\\') {\\n                window.hj(\\'trigger\\', \\'MM_learn-support\\');\\n              }\\n              if(e.target.getAttribute(\"data-title\") == \\'explore-more\\') {\\n                window.hj(\\'trigger\\', \\'MM_explore-more\\');\\n              }\\n            });\\n\\n            </script><script type=\"module\" src=\"https://1.www.s81c.com/common/carbon-for-ibm-dotcom/tag/v2/alpha/masthead.min.js\"></script><link rel=\"alternate\" hrefLang=\"x-default\" href=\"https://www.ibm.com/\"/><link rel=\"alternate\" hreflang=\"pt\" href=\"https://www.ibm.com/br-pt\"/><link rel=\"alternate\" hreflang=\"en-CA\" href=\"https://www.ibm.com/ca-en\"/><link rel=\"alternate\" hreflang=\"zh\" href=\"https://www.ibm.com/cn-zh\"/><link rel=\"alternate\" hreflang=\"de\" href=\"https://www.ibm.com/de-de\"/><link rel=\"alternate\" hreflang=\"es-ES\" href=\"https://www.ibm.com/es-es\"/><link rel=\"alternate\" hreflang=\"fr\" href=\"https://www.ibm.com/fr-fr\"/><link rel=\"alternate\" hreflang=\"it\" href=\"https://www.ibm.com/it-it\"/><link rel=\"alternate\" hreflang=\"ja\" href=\"https://www.ibm.com/jp-ja\"/><link rel=\"alternate\" hreflang=\"ko\" href=\"https://www.ibm.com/kr-ko\"/><link rel=\"alternate\" hreflang=\"es\" href=\"https://www.ibm.com/mx-es\"/><link rel=\"alternate\" hreflang=\"en\" href=\"https://www.ibm.com/us-en\"/><link rel=\"alternate\" hreflang=\"id\" href=\"https://www.ibm.com/id-id\"/><meta name=\"next-head-count\" content=\"34\"/><link rel=\"preload\" href=\"/us-en/_next/static/css/styles.096bd485.chunk.css\" as=\"style\"/><link rel=\"stylesheet\" href=\"/us-en/_next/static/css/styles.096bd485.chunk.css\" data-n-g=\"\"/><noscript data-n-css=\"\"></noscript><link rel=\"preload\" href=\"/us-en/_next/static/chunks/webpack-954bc20936ad2359719d.js\" as=\"script\"/><link rel=\"preload\" href=\"/us-en/_next/static/chunks/framework.48a441fb05b6de80f4b9.js\" as=\"script\"/><link rel=\"preload\" href=\"/us-en/_next/static/chunks/commons.49fd55890a4c747d0b85.js\" as=\"script\"/><link rel=\"preload\" href=\"/us-en/_next/static/chunks/f6078781a05fe1bcb0902d23dbbb2662c8d200b3.092c96695ec41acf1d95.js\" as=\"script\"/><link rel=\"preload\" href=\"/us-en/_next/static/chunks/main-cb92fd46bb478cd454e3.js\" as=\"script\"/><link rel=\"preload\" href=\"/us-en/_next/static/chunks/styles.b87f24b1cb872cd774bb.js\" as=\"script\"/><link rel=\"preload\" href=\"/us-en/_next/static/chunks/pages/_app-23a5892132a6a7af670d.js\" as=\"script\"/><link rel=\"preload\" href=\"/us-en/_next/static/chunks/1c920f04.f50eb41f4d89f09b8cba.js\" as=\"script\"/><link rel=\"preload\" href=\"/us-en/_next/static/chunks/5f6bb6fb.63224c0f3a7ce047c8e2.js\" as=\"script\"/><link rel=\"preload\" href=\"/us-en/_next/static/chunks/8f19d780.9518ac89ebf3ed164ec7.js\" as=\"script\"/><link rel=\"preload\" href=\"/us-en/_next/static/chunks/262b3caa.2e24298014049ac3eaaf.js\" as=\"script\"/><link rel=\"preload\" href=\"/us-en/_next/static/chunks/8edc3fe5.f57e384a441d6dc22242.js\" as=\"script\"/><link rel=\"preload\" href=\"/us-en/_next/static/chunks/fc20e1c4.4d4ab55b74381df5d525.js\" as=\"script\"/><link rel=\"preload\" href=\"/us-en/_next/static/chunks/23420901.8250c62b5cef01ee1f72.js\" as=\"script\"/><link rel=\"preload\" href=\"/us-en/_next/static/chunks/28aba01c.0705466423a123ce7e3f.js\" as=\"script\"/><link rel=\"preload\" href=\"/us-en/_next/static/chunks/e9e4ee51.fc3d80341919136b3111.js\" as=\"script\"/><link rel=\"preload\" href=\"/us-en/_next/static/chunks/a37fbe3b.840f0dcc1e4a3462641a.js\" as=\"script\"/><link rel=\"preload\" href=\"/us-en/_next/static/chunks/bc80632e.95a8ca694f90349ce0df.js\" as=\"script\"/><link rel=\"preload\" href=\"/us-en/_next/static/chunks/35ce6bd1.2f995fce73127ec2ff2b.js\" as=\"script\"/><link rel=\"preload\" href=\"/us-en/_next/static/chunks/1dd0fb51.8e898941a33ed30d0f91.js\" as=\"script\"/><link rel=\"preload\" href=\"/us-en/_next/static/chunks/56b0df7b.fc494a564900b370ea6e.js\" as=\"script\"/><link rel=\"preload\" href=\"/us-en/_next/static/chunks/b222b98b.43f32df65fb8c87ddcef.js\" as=\"script\"/><link rel=\"preload\" href=\"/us-en/_next/static/chunks/c9b4a249.921f9be04d7539c0af80.js\" as=\"script\"/><link rel=\"preload\" href=\"/us-en/_next/static/chunks/74de52bc.67f7f1dc40756ea7249f.js\" as=\"script\"/><link rel=\"preload\" href=\"/us-en/_next/static/chunks/500f7593.81b97de6f66de590c6d9.js\" as=\"script\"/><link rel=\"preload\" href=\"/us-en/_next/static/chunks/4119064d.d083604b6642730ddf69.js\" as=\"script\"/><link rel=\"preload\" href=\"/us-en/_next/static/chunks/ca24283e.6d4677a3e8001704f3af.js\" as=\"script\"/><link rel=\"preload\" href=\"/us-en/_next/static/chunks/44c26961.a64796aedfbe08368340.js\" as=\"script\"/><link rel=\"preload\" href=\"/us-en/_next/static/chunks/8649a756.b2e5165f3e79ff775919.js\" as=\"script\"/><link rel=\"preload\" href=\"/us-en/_next/static/chunks/abb99899.e27821019e35ae97c122.js\" as=\"script\"/><link rel=\"preload\" href=\"/us-en/_next/static/chunks/pages/index-9c117776be386b4da507.js\" as=\"script\"/></head><body><div id=\"__next\"><div><div class=\"bx--dotcom-shell\"><main class=\"dds-ce-demo--ui-shell-content\"><div><dds-masthead-container\\n                      data-endpoint=\"/common/carbon-for-ibm-dotcom/translations/masthead-footer/v2\"\\n                      auth-method=\"profile-api\"\\n                      has-contact=\"false\">\\n                  </dds-masthead-container></div><div class=\"newsflash-placeholder\"></div><div data-autoid=\"dds--leadspace-with-cta\" class=\"bx--leadspace bx--leadspace--super bx--leadspace-with-ctas\"><section class=\"bx--leadspace__section bx--leadspace--white\"><div class=\"bx--leadspace__container\"><div class=\"bx--leadspace__overlay\"><div class=\"bx--grid bx--no-gutter\"><div class=\"bx--row\"><div class=\"bx--col-sm-4 bx--col-md-8 bx--col-lg-6\"><div class=\"bx--leadspace--content__container\"><div class=\"bx--leadspace__row\"><h1 class=\"bx--leadspace__title\">Multiply the power of AI with <span class=\"watsonx-logo\"><span class=\"bx--type-semibold\">watson</span><span class=\"bx--type-semibold blue\">x</span></span></h1></div><div class=\"bx--leadspace__content\"><div class=\"bx--leadspace__row\"><p data-autoid=\"dds--leadspace__desc\" class=\"bx--leadspace__desc\">IBMâ\\x80\\x99s next-generation AI and data platform is now available for free trial</p></div><dds-video-cta-container><ol class=\"bx--buttongroup\" data-autoid=\"dds--button-group\" style=\"--dds--button-group--item-count:1\"><dds-button-cta class=\"bx--hp-ls-btn\" cta-type=\"local\" kind=\"primary\" href=\"https://www.ibm.com/watsonx\">Take a tour</dds-button-cta><dds-button-cta class=\"bx--hp-ls-btn\" cta-type=\"local\" kind=\"tertiary\" href=\"https://dataplatform.cloud.ibm.com/registration/stepone?context=wx\">Start free trial</dds-button-cta></ol></dds-video-cta-container></div></div></div><div class=\"bx--col-sm-4 bx--col-md-8 bx--col-lg-8\"><div><div aria-label=\"Introducing watsonx, IBMâ\\x80\\x99s next-generation AI and data platform 0\" role=\"region\" class=\"bx--video-player\"><div class=\"bx--video-player__video-container bx--video-player__aspect-ratio--1x1\" data-autoid=\"dds--video-player__video-1_ixmv5wsn\"><div class=\"bx--video-player__video\" id=\"bx--video-player__video-1_ixmv5wsn-1\"><button class=\"bx--video-player__image-overlay\" data-autoid=\"dds--video-player__image-overlay\"><div class=\"bx--image\" data-autoid=\"dds--image__longdescription\"><picture><img class=\"bx--image__img\" src=\"https://1.dam.s81c.com/p/0c9c5faa18c5c7cf/watsonx-overview-leadspace-super-hybrid-ui-homepage.png.global.xl_1x1.jpg\" alt=\"Product image for watsonx overview page\"/></picture><svg class=\"bx--image__icon\" width=\"64\" height=\"64\" viewBox=\"0 0 64 64\" xmlns=\"http://www.w3.org/2000/svg\"><title>Group 3</title><g fill=\"none\" fill-rule=\"evenodd\"><circle fill-opacity=\".9\" fill=\"#525252\" cx=\"32\" cy=\"32\" r=\"32\"></circle><path d=\"M26.556 43.111a1 1 0 0 1-1-1v-22a1 1 0 0 1 1.5-.87l19 11a1 1 0 0 1 0 1.74l-19 11a1 1 0 0 1-.5.13z\" fill=\"#F3F3F3\" fill-rule=\"nonzero\"></path></g></svg></div></button></div></div><div class=\"bx--video-player__video-caption\">Introducing watsonx, IBMâ\\x80\\x99s next-generation AI and data platform 0</div></div></div></div><div class=\"bx--col-sm-4 bx--col-md-8 bx--col-lg-2\"><div class=\"bx--link-list\" data-autoid=\"dds--link-list\"><ul class=\"bx--link-list__list bx--link-list__list--card\"><li class=\"bx--link-list__list__CTA bx--link-list__list--local\"><div><div class=\"bx--tile bx--card bx--card-link bx--card__CTA bx--card__CardCTA\" data-autoid=\"dds--card\" ariaRole=\"listitem\" href=\"https://www.ibm.com/thought-leadership/institute-business-value/en-us/report/ceo-generative-ai/application-modernization/\"><div class=\"bx--card__wrapper\"><div class=\"bx--card__content\"><p class=\"bx--card__eyebrow\">Whatâ\\x80\\x99s new</p><h3 class=\"bx--card__heading\">The CEOâ\\x80\\x99s Guide to Generative AI</h3><a class=\"bx--link bx--card__footer\" href=\"https://www.ibm.com/thought-leadership/institute-business-value/en-us/report/ceo-generative-ai/application-modernization/\" aria-label=\"The CEOâ\\x80\\x99s Guide to Generative AI\"><svg focusable=\"false\" preserveAspectRatio=\"xMidYMid meet\" xmlns=\"http://www.w3.org/2000/svg\" fill=\"currentColor\" src=\"[object Object]\" width=\"20\" height=\"20\" viewBox=\"0 0 20 20\" aria-hidden=\"true\" class=\"bx--card__cta\"><path d=\"M11.8 2.8L10.8 3.8 16.2 9.3 1 9.3 1 10.7 16.2 10.7 10.8 16.2 11.8 17.2 19 10z\"></path></svg></a></div></div></div></div></li><li class=\"bx--link-list__list__CTA bx--link-list__list--pdf\"><div><div class=\"bx--tile bx--card bx--card-link bx--card__CTA bx--card__CardCTA\" data-autoid=\"dds--card\" ariaRole=\"listitem\" href=\"https://www.ibm.com/downloads/cas/WYMOR8E5\"><div class=\"bx--card__wrapper\"><div class=\"bx--card__content\"><p class=\"bx--card__eyebrow\">Free download</p><h3 class=\"bx--card__heading\">The data quality, AI performance report</h3><a class=\"bx--link bx--card__footer\" href=\"https://www.ibm.com/downloads/cas/WYMOR8E5\" aria-label=\"The data quality, AI performance report\"><svg focusable=\"false\" preserveAspectRatio=\"xMidYMid meet\" xmlns=\"http://www.w3.org/2000/svg\" fill=\"currentColor\" src=\"[object Object]\" width=\"20\" height=\"20\" viewBox=\"0 0 20 20\" aria-hidden=\"true\" class=\"bx--card__cta\"><path d=\"M11.8 2.8L10.8 3.8 16.2 9.3 1 9.3 1 10.7 16.2 10.7 10.8 16.2 11.8 17.2 19 10z\"></path></svg></a></div></div></div></div></li></ul></div></div></div></div></div></div></section></div><section id=\"bx--personalization-cards\" class=\"bx--card--white\"><div class=\"bx--grid\"><div class=\"bx--row\"><div class=\"bx--col\"><h2 class=\"bx--type-expressive-heading-02 bx--personalization-cards__heading\">Recommended for you</h2></div></div></div><div class=\"bx--grid bx--grid--card\"><div class=\"bx--row\"><div class=\"bx--col-sm-4 bx--col-md-4 bx--col-lg-8 bx--col-xlg-4 bx--no-gutter\"><div class=\"bx--card-with-aside-image-wrapper\"><div class=\"bx--tile bx--card bx--card--light bx--card--border\" data-autoid=\"dds--card\" href=\"https://www.ibm.com/products/watsonx-ai\"><div class=\"bx--card__wrapper\"><div class=\"bx--image\" data-autoid=\"dds--image__longdescription\"><picture><img class=\"bx--image__img\" src=\"https://1.dam.s81c.com/p/0c3ce2dfcccd1f24/watsonx-data-square.jpg\" alt=\"Concentric illustration showing watsonx.ai capabilities\" aria-describedby=\"bx--image-3\"/></picture><div id=\"bx--image-3\" class=\"bx--image__longdescription\">Concentric illustration showing watsonx.ai capabilities</div></div><div class=\"bx--card__content\"><p class=\"bx--card__eyebrow\">watsonx.ai</p><div class=\"bx--card__copy\"><p>Free trialâ\\x80\\x94build enterprise-grade AI models</p></div><a class=\"bx--link bx--card__footer\" href=\"https://www.ibm.com/products/watsonx-ai\" aria-label=\"Free trialâ\\x80\\x94build enterprise-grade AI models\"><svg focusable=\"false\" preserveAspectRatio=\"xMidYMid meet\" xmlns=\"http://www.w3.org/2000/svg\" fill=\"currentColor\" src=\"[object Object]\" width=\"20\" height=\"20\" viewBox=\"0 0 20 20\" aria-hidden=\"true\" class=\"bx--card__cta\"><path d=\"M11.8 2.8L10.8 3.8 16.2 9.3 1 9.3 1 10.7 16.2 10.7 10.8 16.2 11.8 17.2 19 10z\"></path></svg></a></div></div></div></div></div><div class=\"bx--col-sm-4 bx--col-md-4 bx--col-lg-8 bx--col-xlg-4 bx--no-gutter\"><div class=\"bx--card-with-aside-image-wrapper\"><div class=\"bx--tile bx--card bx--card--light bx--card--border\" data-autoid=\"dds--card\" href=\"https://www.ibm.com/products/watsonx-data\"><div class=\"bx--card__wrapper\"><div class=\"bx--image\" data-autoid=\"dds--image__longdescription\"><picture><img class=\"bx--image__img\" src=\"https://1.dam.s81c.com/p/0c3ce2dfcccd1f25/watsonx-ai-square.jpg\" alt=\"Illustration of workers digital planning with blue dots and post-its\" aria-describedby=\"bx--image-4\"/></picture><div id=\"bx--image-4\" class=\"bx--image__longdescription\">Illustration of workers digital planning with blue dots and post-its</div></div><div class=\"bx--card__content\"><p class=\"bx--card__eyebrow\">watsonx.data</p><div class=\"bx--card__copy\"><p>Free trialâ\\x80\\x94scale AI workloads for all data</p></div><a class=\"bx--link bx--card__footer\" href=\"https://www.ibm.com/products/watsonx-data\" aria-label=\"Free trialâ\\x80\\x94scale AI workloads for all data\"><svg focusable=\"false\" preserveAspectRatio=\"xMidYMid meet\" xmlns=\"http://www.w3.org/2000/svg\" fill=\"currentColor\" src=\"[object Object]\" width=\"20\" height=\"20\" viewBox=\"0 0 20 20\" aria-hidden=\"true\" class=\"bx--card__cta\"><path d=\"M11.8 2.8L10.8 3.8 16.2 9.3 1 9.3 1 10.7 16.2 10.7 10.8 16.2 11.8 17.2 19 10z\"></path></svg></a></div></div></div></div></div><div class=\"bx--col-sm-4 bx--col-md-4 bx--col-lg-8 bx--col-xlg-4 bx--no-gutter\"><div class=\"bx--card-with-aside-image-wrapper\"><div class=\"bx--tile bx--card bx--card--light bx--card--border\" data-autoid=\"dds--card\" href=\"https://www.ibm.com/products/spss-statistics/pricing\"><div class=\"bx--card__wrapper\"><div class=\"bx--image\" data-autoid=\"dds--image__longdescription\"><picture><img class=\"bx--image__img\" src=\"https://1.dam.s81c.com/p/0b5258b292cc8c3c/ibm-SPSS-home-card.png.global.xs_1x1.png\" alt=\"Illustration of people at large digital dashboard\" aria-describedby=\"bx--image-5\"/></picture><div id=\"bx--image-5\" class=\"bx--image__longdescription\">Illustration of people at large digital dashboard</div></div><div class=\"bx--card__content\"><p class=\"bx--card__eyebrow\">Buy now</p><div class=\"bx--card__copy\"><p>Save 10% on SPSS Statistics subscription</p></div><a class=\"bx--link bx--card__footer\" href=\"https://www.ibm.com/products/spss-statistics/pricing\" aria-label=\"Save 10% on SPSS Statistics subscription\"><svg focusable=\"false\" preserveAspectRatio=\"xMidYMid meet\" xmlns=\"http://www.w3.org/2000/svg\" fill=\"currentColor\" src=\"[object Object]\" width=\"20\" height=\"20\" viewBox=\"0 0 20 20\" aria-hidden=\"true\" class=\"bx--card__cta\"><path d=\"M11.8 2.8L10.8 3.8 16.2 9.3 1 9.3 1 10.7 16.2 10.7 10.8 16.2 11.8 17.2 19 10z\"></path></svg></a></div></div></div></div></div><div class=\"bx--col-sm-4 bx--col-md-4 bx--col-lg-8 bx--col-xlg-4 bx--no-gutter\"><div class=\"bx--card-with-aside-image-wrapper\"><div class=\"bx--tile bx--card bx--card--light bx--card--border\" data-autoid=\"dds--card\" href=\"https://www.ibm.com/aws/sustainability\"><div class=\"bx--card__wrapper\"><div class=\"bx--image\" data-autoid=\"dds--image__longdescription\"><picture><img class=\"bx--image__img\" src=\"https://1.dam.s81c.com/p/0c627169c3ad5dfd/0b5258b3394c8d62-envizi-overview-leadspace-illustration-homepage.jpg.global.s_1x1.jpg\" alt=\"Envizi hybrid-UI illustration dashboard with charts and graphs\" aria-describedby=\"bx--image-6\"/></picture><div id=\"bx--image-6\" class=\"bx--image__longdescription\">Envizi hybrid-UI illustration dashboard with charts and graphs</div></div><div class=\"bx--card__content\"><p class=\"bx--card__eyebrow\">IBM Envizi</p><div class=\"bx--card__copy\"><p>Simplify and track ESG data on AWS</p></div><a class=\"bx--link bx--card__footer\" href=\"https://www.ibm.com/aws/sustainability\" aria-label=\"Simplify and track ESG data on AWS\"><svg focusable=\"false\" preserveAspectRatio=\"xMidYMid meet\" xmlns=\"http://www.w3.org/2000/svg\" fill=\"currentColor\" src=\"[object Object]\" width=\"20\" height=\"20\" viewBox=\"0 0 20 20\" aria-hidden=\"true\" class=\"bx--card__cta\"><path d=\"M11.8 2.8L10.8 3.8 16.2 9.3 1 9.3 1 10.7 16.2 10.7 10.8 16.2 11.8 17.2 19 10z\"></path></svg></a></div></div></div></div></div></div></div></section><div id=\"main-content\" style=\"background-color:#FFF\"><div><div class=\"bx--custom-spacer\"></div><section class=\"bx--intro-section-custom\" autoid=\"dds--intro-section-custom\"><div class=\"bx--grid\"><div class=\"bx--row\"><div class=\"bx--col-lg-8\"><h3 class=\"bx--content-item-horizontal__item--heading\" data-autoid=\"dds--content-item-horizontal__item--heading\">Browse our technology</h3></div><div class=\"bx--col-lg-8\"><div class=\"bx--content-item-horizontal__item--copy\" data-autoid=\"dds--content-item-horizontal__item--copy\"><p class=\"bx--type-heading-03\">From our flagship products for enterprise <a href=\\'https://www.ibm.com/cloud?lnk=flatitem\\'>hybrid cloud infrastructure</a> to next-generation AI, security and storage solutions, find the answer to your business challenge.</p><dds-video-cta-container><div class=\"bx--link-list\" data-autoid=\"dds--link-list\"><ul class=\"bx--link-list__list bx--link-list__list--horizontal\"><li class=\"bx--link-list__list__CTA bx--link-list__list--local\"><div><div class=\"bx--link-with-icon__container\" data-autoid=\"dds--link-with-icon\"><a class=\"bx--link bx--link-with-icon bx--link-with-icon--inline-icon bx--link--lg\" href=\"https://www.ibm.com/products\"><span>View all products</span><span class=\"bx--visually-hidden\"></span><svg focusable=\"false\" preserveAspectRatio=\"xMidYMid meet\" xmlns=\"http://www.w3.org/2000/svg\" fill=\"currentColor\" width=\"20\" height=\"20\" viewBox=\"0 0 20 20\" aria-hidden=\"true\"><path d=\"M11.8 2.8L10.8 3.8 16.2 9.3 1 9.3 1 10.7 16.2 10.7 10.8 16.2 11.8 17.2 19 10z\"></path></svg></a></div></div></li></ul></div></dds-video-cta-container></div></div></div></div></section><section class=\"bx--custom-cards-section\"><div class=\"bx--grid\"><div class=\"bx--row\"><div class=\"bx--col-sm-4 bx--col-md-4 bx--col-lg-8 bx--col-xlg-4 bx--no-gutter\"><dds-card pictogram-placement=\"top\" href=\"https://www.ibm.com/artificial-intelligence?lnk=flathl\" color-scheme=\"light\" border=\"\"><dds-card-heading>AI &amp; machine learning</dds-card-heading><p>Use IBM Watsonâ\\x80\\x99s AI or build your own machine learning models</p><svg focusable=\"false\" preserveAspectRatio=\"xMidYMid meet\" xmlns=\"http://www.w3.org/2000/svg\" fill=\"currentColor\" slot=\"pictogram\" src=\"[object Object]\" width=\"64\" height=\"64\" viewBox=\"0 0 32 32\" aria-hidden=\"true\"><path d=\"M16.195,31.36c-6.421,0-12.169-4.007-14.399-10.002\\tC1.051,21.408,0.373,20.771,0.372,20c0-0.75,0.61-1.36,1.36-1.36s1.36,0.61,1.36,1.36c0,0.474-0.243,0.892-0.611,1.135\\tc2.133,5.698,7.604,9.505,13.714,9.505c6.446,0,11.919-4.301,13.773-10.22c-1.448,2.06-3.877,3.44-6.565,3.44\\tc-3.822,0-7.066-2.785-7.664-6.525C15.113,17.212,14.64,16.661,14.64,16c0-0.584,0.37-1.083,0.888-1.275\\tc-0.608-3.421-3.615-5.962-7.125-5.962c-3.947,0-7.04,3.176-7.042,7.231c0,0.002,0,0.004,0,0.006H0.64c0-0.002,0-0.004,0-0.007\\tC0.644,7.526,7.445,0.64,15.805,0.64c6.42,0,12.168,4.006,14.399,10.001c0.777-0.034,1.425,0.587,1.425,1.358\\tc0,0.75-0.61,1.36-1.36,1.36s-1.36-0.61-1.36-1.36c0-0.473,0.243-0.891,0.611-1.135C27.387,5.166,21.916,1.36,15.805,1.36\\tc-6.319,0-11.704,4.134-13.659,9.873c1.402-1.949,3.662-3.19,6.256-3.19c3.881,0,7.204,2.826,7.846,6.62\\tC16.88,14.779,17.36,15.335,17.36,16c0,0.589-0.376,1.092-0.901,1.28c0.567,3.363,3.496,5.859,6.943,5.859\\tc3.857,0,7.127-3.118,7.235-6.851c0.001-0.096,0.002-0.192,0.002-0.289h0.721c0,0.033,0,0.065-0.001,0.098h0.001\\tc0,0.069-0.001,0.138-0.003,0.207C31.196,24.634,24.456,31.36,16.195,31.36z M1.732,19.36c-0.353,0-0.64,0.287-0.64,0.64\\ts0.287,0.64,0.64,0.64s0.64-0.287,0.64-0.64S2.085,19.36,1.732,19.36z M16,15.36c-0.353,0-0.64,0.287-0.64,0.64\\ts0.287,0.64,0.64,0.64s0.64-0.287,0.64-0.64S16.353,15.36,16,15.36z M30.269,11.36c-0.353,0-0.64,0.287-0.64,0.64\\ts0.287,0.64,0.64,0.64s0.64-0.287,0.64-0.64S30.621,11.36,30.269,11.36z\"></path></svg></dds-card></div><div class=\"bx--col-sm-4 bx--col-md-4 bx--col-lg-8 bx--col-xlg-4 bx--no-gutter\"><dds-card pictogram-placement=\"top\" href=\"https://www.ibm.com/analytics?lnk=flathl\" color-scheme=\"light\" border=\"\"><dds-card-heading>Analytics</dds-card-heading><p>Aggregate and analyze large data sets</p><svg focusable=\"false\" preserveAspectRatio=\"xMidYMid meet\" xmlns=\"http://www.w3.org/2000/svg\" fill=\"currentColor\" slot=\"pictogram\" src=\"[object Object]\" width=\"64\" height=\"64\" viewBox=\"0 0 32 32\" aria-hidden=\"true\"><path d=\"M31,31.36H1c-0.199,0-0.36-0.161-0.36-0.36\\tV1h0.72v29.64h4.28v-7.328c-0.576-0.158-1-0.687-1-1.312c0-0.75,0.61-1.36,1.36-1.36c0.364,0,0.694,0.144,0.938,0.377l3.702-2.221\\tv-8.484c-0.576-0.158-1-0.686-1-1.312c0-0.75,0.61-1.36,1.36-1.36S12.36,8.25,12.36,9c0,0.625-0.424,1.153-1,1.312v8.053l3.33-1.998\\tc-0.032-0.116-0.05-0.239-0.05-0.366c0-0.75,0.61-1.36,1.36-1.36c0.364,0,0.695,0.144,0.939,0.377l3.701-2.221V6.312\\tc-0.575-0.158-1-0.686-1-1.312c0-0.75,0.61-1.36,1.36-1.36S22.36,4.25,22.36,5c0,0.625-0.425,1.153-1,1.312v6.053l3.33-1.998\\tc-0.033-0.117-0.05-0.24-0.05-0.367c0-0.75,0.61-1.36,1.36-1.36s1.36,0.61,1.36,1.36c0,0.625-0.425,1.153-1,1.312V30.64H31V31.36z M21.36,30.64h4.279V11.312c-0.22-0.061-0.418-0.175-0.578-0.328l-3.701,2.221V30.64z M16.36,30.64h4.28V13.636l-3.33,1.998\\tc0.033,0.116,0.05,0.239,0.05,0.366c0,0.625-0.425,1.153-1,1.312V30.64z M11.36,30.64h4.28V17.312\\tc-0.22-0.061-0.418-0.175-0.579-0.328l-3.702,2.221V30.64H11.36z M6.36,30.64h4.28V19.636l-3.33,1.998\\tC7.343,21.75,7.36,21.873,7.36,22c0,0.625-0.424,1.153-1,1.312V30.64z M6,21.36c-0.353,0-0.64,0.287-0.64,0.64S5.647,22.64,6,22.64\\tS6.64,22.353,6.64,22S6.353,21.36,6,21.36z M16,15.36c-0.353,0-0.64,0.287-0.64,0.64s0.287,0.64,0.64,0.64s0.64-0.287,0.64-0.64\\tS16.353,15.36,16,15.36z M26,9.36c-0.353,0-0.64,0.287-0.64,0.64s0.287,0.64,0.64,0.64s0.64-0.287,0.64-0.64S26.353,9.36,26,9.36z M11,8.36c-0.353,0-0.64,0.287-0.64,0.64S10.647,9.64,11,9.64S11.64,9.353,11.64,9S11.353,8.36,11,8.36z M21,4.36\\tc-0.353,0-0.64,0.287-0.64,0.64S20.647,5.64,21,5.64S21.64,5.353,21.64,5S21.353,4.36,21,4.36z\"></path></svg></dds-card></div><div class=\"bx--col-sm-4 bx--col-md-4 bx--col-lg-8 bx--col-xlg-4 bx--no-gutter\"><dds-card pictogram-placement=\"top\" href=\"https://www.ibm.com/database?lnk=flathl\" color-scheme=\"light\" border=\"\"><dds-card-heading>Databases</dds-card-heading><p>Store, query and analyze structured data</p><svg focusable=\"false\" preserveAspectRatio=\"xMidYMid meet\" xmlns=\"http://www.w3.org/2000/svg\" fill=\"currentColor\" slot=\"pictogram\" src=\"[object Object]\" width=\"64\" height=\"64\" viewBox=\"0 0 32 32\" aria-hidden=\"true\"><path d=\"M20,6c-0.552,0-1-0.448-1-1s0.448-1,1-1s1,0.448,1,1S20.552,6,20,6z M21,16\\tc0-0.552-0.448-1-1-1s-1,0.448-1,1s0.448,1,1,1S21,16.552,21,16z M21,27c0-0.552-0.448-1-1-1s-1,0.448-1,1s0.448,1,1,1\\tS21,27.552,21,27z M24,31.36H1c-0.199,0-0.36-0.161-0.36-0.36v-8c0-0.199,0.161-0.36,0.36-0.36h23c0.199,0,0.36,0.161,0.36,0.36v8\\tC24.36,31.199,24.199,31.36,24,31.36z M1.36,30.64h22.28v-7.28H1.36V30.64z M31,27.36h-5v-0.72h4.64V16.36H26v-0.72h4.64V5.36H26\\tV4.64h5c0.199,0,0.36,0.161,0.36,0.36v22C31.36,27.199,31.199,27.36,31,27.36z M24,20.36H1c-0.199,0-0.36-0.161-0.36-0.36v-8\\tc0-0.199,0.161-0.36,0.36-0.36h23c0.199,0,0.36,0.161,0.36,0.36v8C24.36,20.199,24.199,20.36,24,20.36z M1.36,19.64h22.28v-7.28\\tH1.36V19.64z M24,9.36H1C0.801,9.36,0.64,9.199,0.64,9V1c0-0.199,0.161-0.36,0.36-0.36h23c0.199,0,0.36,0.161,0.36,0.36v8\\tC24.36,9.199,24.199,9.36,24,9.36z M1.36,8.64h22.28V1.36H1.36V8.64z\"></path></svg></dds-card></div><div class=\"bx--col-sm-4 bx--col-md-4 bx--col-lg-8 bx--col-xlg-4 bx--no-gutter\"><dds-card pictogram-placement=\"top\" href=\"https://www.ibm.com/servers?lnk=flathl\" color-scheme=\"light\" border=\"\"><dds-card-heading>Compute &amp; servers</dds-card-heading><p>Run workloads on hybrid cloud infrastructure</p><svg focusable=\"false\" preserveAspectRatio=\"xMidYMid meet\" xmlns=\"http://www.w3.org/2000/svg\" fill=\"currentColor\" slot=\"pictogram\" src=\"[object Object]\" width=\"64\" height=\"64\" viewBox=\"0 0 32 32\" aria-hidden=\"true\"><path d=\"M30,31.36H8c-0.199,0-0.36-0.161-0.36-0.36v-5c0-0.199,0.161-0.36,0.36-0.36h22\\tc0.199,0,0.36,0.161,0.36,0.36v5C30.36,31.199,30.199,31.36,30,31.36z M8.36,30.64h21.28v-4.28H8.36V30.64z M6,31.36H2\\tc-0.199,0-0.36-0.161-0.36-0.36V1c0-0.199,0.161-0.36,0.36-0.36h11c0.199,0,0.36,0.161,0.36,0.36v9h-0.72V1.36H2.36v29.28H6V31.36z M28.36,30h-0.72v-2h0.721L28.36,30L28.36,30z M26.36,30h-0.72v-2h0.721L26.36,30L26.36,30z M24.36,30h-0.72v-2h0.721L24.36,30\\tL24.36,30z M22.36,30h-0.72v-2h0.721L22.36,30L22.36,30z M30,24.36H8c-0.199,0-0.36-0.161-0.36-0.36v-5\\tc0-0.199,0.161-0.36,0.36-0.36h22c0.199,0,0.36,0.161,0.36,0.36v5C30.36,24.199,30.199,24.36,30,24.36z M8.36,23.64h21.28v-4.28\\tH8.36V23.64z M28.36,23h-0.72v-2h0.721L28.36,23L28.36,23z M26.36,23h-0.72v-2h0.721L26.36,23L26.36,23z M24.36,23h-0.72v-2h0.721\\tL24.36,23L24.36,23z M22.36,23h-0.72v-2h0.721L22.36,23L22.36,23z M30,17.36H8c-0.199,0-0.36-0.161-0.36-0.36v-5\\tc0-0.199,0.161-0.36,0.36-0.36h22c0.199,0,0.36,0.161,0.36,0.36v5C30.36,17.199,30.199,17.36,30,17.36z M8.36,16.64h21.28v-4.28\\tH8.36V16.64z M28.36,16h-0.72v-2h0.721L28.36,16L28.36,16z M26.36,16h-0.72v-2h0.721L26.36,16L26.36,16z M24.36,16h-0.72v-2h0.721\\tL24.36,16L24.36,16z M22.36,16h-0.72v-2h0.721L22.36,16L22.36,16z M6,4.36H4V3.64h2V4.36z\"></path></svg></dds-card></div><div class=\"bx--col-sm-4 bx--col-md-4 bx--col-lg-8 bx--col-xlg-4 bx--no-gutter\"><dds-card pictogram-placement=\"top\" href=\"https://www.ibm.com/devops?lnk=flathl\" color-scheme=\"light\" border=\"\"><dds-card-heading>DevOps</dds-card-heading><p>Manage infrastructure, environments and deployments</p><svg focusable=\"false\" preserveAspectRatio=\"xMidYMid meet\" xmlns=\"http://www.w3.org/2000/svg\" fill=\"currentColor\" slot=\"pictogram\" src=\"[object Object]\" width=\"64\" height=\"64\" viewBox=\"0 0 32 32\" aria-hidden=\"true\"><path d=\"M18,31.36h-4c-0.128,0-0.248-0.069-0.312-0.181l-2-3.464c-0.064-0.111-0.064-0.248,0-0.359l2-3.464\\tc0.064-0.111,0.183-0.181,0.312-0.181h3.792l2.896-5.016c0.1-0.174,0.32-0.231,0.491-0.132c0.173,0.1,0.231,0.319,0.132,0.491\\tl-2.896,5.017l1.896,3.284c0.064,0.111,0.064,0.248,0,0.359l-2,3.464C18.247,31.291,18.129,31.36,18,31.36z M14.208,30.64h3.584\\tl1.792-3.104l-1.792-3.104h-3.584l-1.792,3.104L14.208,30.64z M28,25.593h-4c-0.129,0-0.247-0.069-0.312-0.181l-2-3.465\\tc-0.064-0.111-0.064-0.248,0-0.359l1.896-3.284l-2.896-5.016c-0.1-0.172-0.041-0.393,0.132-0.492c0.171-0.1,0.392-0.041,0.491,0.131\\tl2.896,5.016H28c0.129,0,0.247,0.069,0.312,0.181l2,3.464c0.064,0.111,0.064,0.248,0,0.359l-2,3.465\\tC28.247,25.523,28.129,25.593,28,25.593z M24.208,24.872h3.584l1.792-3.104l-1.792-3.104h-3.584l-1.792,3.104L24.208,24.872z M8,25.593H4c-0.128,0-0.248-0.069-0.312-0.181l-2-3.465c-0.064-0.111-0.064-0.248,0-0.359l2-3.464\\tC3.752,18.013,3.872,17.943,4,17.943h4c0.128,0,0.248,0.069,0.312,0.181l1.896,3.283H16c0.199,0,0.36,0.161,0.36,0.36\\ts-0.161,0.36-0.36,0.36h-5.792l-1.896,3.284C8.248,25.523,8.128,25.593,8,25.593z M4.208,24.872h3.584l1.792-3.104l-1.792-3.104\\tH4.208l-1.792,3.104L4.208,24.872z M11,19.253c-0.125,0-0.246-0.064-0.312-0.181l-2.896-5.016H4c-0.128,0-0.248-0.068-0.312-0.18\\tl-2-3.464c-0.064-0.111-0.064-0.249,0-0.36l2-3.464C3.752,6.477,3.872,6.408,4,6.408h4c0.128,0,0.248,0.068,0.312,0.18l2,3.464\\tc0.064,0.111,0.064,0.249,0,0.36l-1.896,3.284l2.896,5.017c0.099,0.172,0.04,0.392-0.132,0.491\\tC11.124,19.237,11.062,19.253,11,19.253z M4.208,13.336h3.584l1.792-3.104L7.792,7.128H4.208l-1.792,3.104L4.208,13.336z M28,14.056\\th-4c-0.129,0-0.247-0.068-0.312-0.18l-1.896-3.285H16c-0.199,0-0.36-0.161-0.36-0.36s0.161-0.36,0.36-0.36h5.792l1.896-3.284\\tc0.064-0.111,0.183-0.18,0.312-0.18h4c0.129,0,0.247,0.068,0.312,0.18l2,3.464c0.064,0.111,0.064,0.249,0,0.36l-2,3.464\\tC28.247,13.988,28.129,14.056,28,14.056z M24.208,13.336h3.584l1.792-3.104l-1.792-3.104h-3.584l-1.792,3.104L24.208,13.336z M11,13.484c-0.061,0-0.123-0.015-0.18-0.048c-0.172-0.1-0.231-0.32-0.132-0.492l2.896-5.016l-1.896-3.284\\tc-0.064-0.112-0.064-0.249,0-0.36l2-3.464C13.752,0.708,13.872,0.64,14,0.64h4c0.129,0,0.247,0.068,0.312,0.18l2,3.464\\tc0.064,0.111,0.064,0.249,0,0.36l-2,3.464C18.247,8.22,18.129,8.288,18,8.288h-3.792l-2.896,5.017\\tC11.245,13.42,11.124,13.484,11,13.484z M14.208,7.568h3.584l1.792-3.104L17.792,1.36h-3.584l-1.792,3.104L14.208,7.568z\"></path></svg></dds-card></div><div class=\"bx--col-sm-4 bx--col-md-4 bx--col-lg-8 bx--col-xlg-4 bx--no-gutter\"><dds-card pictogram-placement=\"top\" href=\"https://www.ibm.com/it-automation?lnk=flathl\" color-scheme=\"light\" border=\"\"><dds-card-heading>IT automation</dds-card-heading><p>Automate IT infrastructure management</p><svg focusable=\"false\" preserveAspectRatio=\"xMidYMid meet\" xmlns=\"http://www.w3.org/2000/svg\" fill=\"currentColor\" slot=\"pictogram\" src=\"[object Object]\" width=\"64\" height=\"64\" viewBox=\"0 0 32 32\" aria-hidden=\"true\"><path d=\"M27.255,19.255L30.509,16l-3.254-3.254l-0.51,0.509l2.386,2.386H16.149L9.36,8.85V5.36h19.771\\tl-2.386,2.386l0.51,0.509L30.509,5l-3.254-3.254l-0.51,0.509l2.386,2.386H9C8.801,4.64,8.64,4.801,8.64,5v3.85l-6.895,6.896\\tc-0.141,0.141-0.141,0.368,0,0.509L8.64,23.15V27c0,0.199,0.161,0.36,0.36,0.36h20.131l-2.386,2.385l0.51,0.51L30.509,27\\tl-3.254-3.255l-0.51,0.51l2.386,2.385H9.36v-3.49l6.789-6.79h12.982l-2.386,2.385L27.255,19.255z M9,22.491L2.509,16L9,9.508\\tL15.491,16L9,22.491z\"></path></svg></dds-card></div><div class=\"bx--col-sm-4 bx--col-md-4 bx--col-lg-8 bx--col-xlg-4 bx--no-gutter\"><dds-card pictogram-placement=\"top\" href=\"https://www.ibm.com/quantum?lnk=flathl\" color-scheme=\"light\" border=\"\"><dds-card-heading>Quantum</dds-card-heading><p>Run code on real quantum systems using a full-stack SDK</p><svg id=\"Layer_1\" xmlns=\"http://www.w3.org/2000/svg\" xmlns:xlink=\"http://www.w3.org/1999/xlink\" x=\"0px\" y=\"0px\" width=\"64\" height=\"64\" viewBox=\"0 0 25 29\" style=\"enable-background:new 0 0 25 29\" xml:space=\"preserve\" slot=\"pictogram\"><style type=\"text/css\">\\n\\t.st0{fill:none;stroke:var(--cds-text-01, #323232);stroke-width:0.8611;stroke-miterlimit:10;}\\n\\t.st1{fill:none;stroke:var(--cds-text-01, #323232);stroke-width:0.8611;stroke-linecap:round;stroke-miterlimit:10;}\\n</style><desc>Created with Sketch.</desc><path class=\"st0\" d=\"M4.4,8.1c0.7,0,1.3-0.6,1.3-1.3S5.2,5.5,4.4,5.5c-0.7,0-1.3,0.6-1.3,1.3S3.7,8.1,4.4,8.1z\"></path><path class=\"st0\" d=\"M20.6,24.3c0.7,0,1.3-0.6,1.3-1.3s-0.6-1.3-1.3-1.3c-0.7,0-1.3,0.6-1.3,1.3S19.9,24.3,20.6,24.3z\"></path><path class=\"st0\" d=\"M5.3,7.8l14.5,14.5\"></path><path class=\"st1\" d=\"M16.2,18.7c-1.2,0.2-2.4,0.2-3.6,0.2c-6.5,0-11.8-1.8-11.8-4c0-1.4,2.1-2.6,5.4-3.3\"></path><path class=\"st1\" d=\"M8.8,11.2c1.2-0.1,2.4-0.2,3.8-0.2c6.5,0,11.8,1.8,11.8,4c0,1.4-2.2,2.7-5.6,3.3\"></path><path class=\"st0\" d=\"M19.8,24.2c-2,1.6-4.6,2.5-7.3,2.5C6,26.8,0.7,21.4,0.7,14.9c0-2.7,1-5.3,2.5-7.3\"></path><path class=\"st0\" d=\"M5.2,5.6C7.2,4,9.7,3,12.5,3c6.5,0,11.9,5.3,11.9,11.9c0,2.8-1,5.4-2.6,7.4\"></path></svg></dds-card></div><div class=\"bx--col-sm-4 bx--col-md-4 bx--col-lg-8 bx--col-xlg-4 bx--no-gutter\"><dds-card pictogram-placement=\"top\" href=\"https://www.ibm.com/security?lnk=flathl\" color-scheme=\"light\" border=\"\"><dds-card-heading>Security &amp; identity</dds-card-heading><p>Cloud-native software to secure resources and simplify compliance</p><svg focusable=\"false\" preserveAspectRatio=\"xMidYMid meet\" xmlns=\"http://www.w3.org/2000/svg\" fill=\"currentColor\" slot=\"pictogram\" src=\"[object Object]\" width=\"64\" height=\"64\" viewBox=\"0 0 32 32\" aria-hidden=\"true\"><path d=\"M23.14,25.415v-1.988c-0.373-0.145-0.64-0.503-0.64-0.927c0-0.552,0.448-1,1-1s1,0.448,1,1\\tc0,0.424-0.266,0.782-0.64,0.927v1.988c0,0.199-0.161,0.36-0.36,0.36S23.14,25.614,23.14,25.415z M31.36,16v15\\tc0,0.199-0.161,0.36-0.36,0.36H16c-0.199,0-0.36-0.161-0.36-0.36V19h0.72v11.64h14.28V16.36H1c-0.199,0-0.36-0.161-0.36-0.36V1\\tc0-0.199,0.161-0.36,0.36-0.36h15c0.199,0,0.36,0.161,0.36,0.36v12h-0.72V1.36H1.36v14.28h2.28v-2.639\\tc0-1.926,1.166-3.659,2.908-4.427C5.978,8.04,5.643,7.293,5.643,6.5c0-1.577,1.283-2.86,2.86-2.86s2.86,1.283,2.86,2.86\\tc0,0.794-0.335,1.542-0.907,2.075c1.74,0.77,2.904,2.502,2.904,4.426v2.639h6.28V11.5c0-2.128,1.731-3.86,3.859-3.86\\tc2.129,0,3.861,1.731,3.861,3.86l-0.001,4.14H31C31.199,15.64,31.36,15.801,31.36,16z M12.64,13.001c0-1.837-1.25-3.47-3.041-3.97\\tc-0.141-0.04-0.244-0.16-0.261-0.306C9.321,8.58,9.395,8.439,9.523,8.369c0.69-0.379,1.12-1.095,1.12-1.869\\tc0-1.18-0.96-2.14-2.14-2.14s-2.14,0.96-2.14,2.14c0,0.773,0.429,1.489,1.119,1.868c0.128,0.07,0.201,0.211,0.184,0.357\\tC7.648,8.87,7.545,8.991,7.404,9.03C5.612,9.529,4.36,11.162,4.36,13.001v2.639h8.28C12.64,15.64,12.64,13.001,12.64,13.001z M26.64,11.5c0-1.731-1.408-3.14-3.14-3.14s-3.14,1.409-3.14,3.14v4.14h6.278L26.64,11.5z\"></path></svg></dds-card></div></div></div></section><section class=\"bx--custom-featured-story\"><div class=\"bx--custom-featured-story-heading\"><h2 class=\"bx--type-productive-heading-07\">Â\\xa0</h2></div><dds-feature-section class=\"bx--custom-featured-story-section\" media-alignment=\"right\"><dds-image slot=\"image\" default-src=\"https://1.dam.s81c.com/p/0cc7f5a0ffae0dd6/sosf-ibm-homepage-feature-image.jpg\" alt=\"Illustration of abstract white waves and thin blue line\"><dds-image-item media=\"(min-width: 672px)\" srcset=\"https://1.dam.s81c.com/p/0cc7f5a0ffae0dd6/sosf-ibm-homepage-feature-image.jpg\"></dds-image-item><dds-image-item media=\"(min-width: 320px)\" srcset=\"https://1.dam.s81c.com/p/0cc7f5a0ffae0dd6/sosf-ibm-homepage-feature-image.jpg\"></dds-image-item><dds-image-item media=\"(min-width: 320px)\" srcset=\"https://1.dam.s81c.com/p/0cc7f5a0ffae0dd6/sosf-ibm-homepage-feature-image.jpg\"></dds-image-item></dds-image><dds-card-eyebrow>Whatâ\\x80\\x99s new</dds-card-eyebrow><dds-content-block-heading>The State of Salesforce 2023â\\x80\\x9324 report</dds-content-block-heading><dds-content-item-paragraph slot=\"copy\"><span>During the past year, IBMâ\\x80\\x99s Institute for Business Value surveyed 3,459 Salesforce users to learn how companies can get the most value from the platform.</span></dds-content-item-paragraph><dds-feature-section-card-link class=\"bx--custom-featured-story-section-card-link\" slot=\"footer\" href=\"https://www.ibm.com/thought-leadership/institute-business-value/en-us/report/state-of-salesforce-2023\" cta-type=\"local\" color-scheme=\"inverse\"><dds-card-link-heading>Read the results</dds-card-link-heading><dds-card-cta-footer color-scheme=\"inverse\"> </dds-card-cta-footer></dds-feature-section-card-link></dds-feature-section></section><div class=\"bx--custom-spacer\"></div><section class=\"bx--custom-consulting-section\"><section class=\"bx--intro-section-custom\" autoid=\"dds--intro-section-custom\"><div class=\"bx--grid\"><div class=\"bx--row\"><div class=\"bx--col-lg-8\"><h3 class=\"bx--content-item-horizontal__item--heading\" data-autoid=\"dds--content-item-horizontal__item--heading\">Meet our global consultants</h3></div><div class=\"bx--col-lg-8\"><div class=\"bx--content-item-horizontal__item--copy\" data-autoid=\"dds--content-item-horizontal__item--copy\"><p class=\"bx--type-heading-03\">Bringing together a diverse set of voices with new technology, we collaborate closely, ideate freely and swiftly apply breakthrough innovations that drive big impact.</p><dds-video-cta-container><div class=\"bx--link-list\" data-autoid=\"dds--link-list\"><ul class=\"bx--link-list__list bx--link-list__list--horizontal\"><li class=\"bx--link-list__list__CTA bx--link-list__list--local\"><div><div class=\"bx--link-with-icon__container\" data-autoid=\"dds--link-with-icon\"><a class=\"bx--link bx--link-with-icon bx--link-with-icon--inline-icon bx--link--lg\" href=\"https://www.ibm.com/consulting\"><span>Visit IBM Consulting</span><span class=\"bx--visually-hidden\"></span><svg focusable=\"false\" preserveAspectRatio=\"xMidYMid meet\" xmlns=\"http://www.w3.org/2000/svg\" fill=\"currentColor\" width=\"20\" height=\"20\" viewBox=\"0 0 20 20\" aria-hidden=\"true\"><path d=\"M11.8 2.8L10.8 3.8 16.2 9.3 1 9.3 1 10.7 16.2 10.7 10.8 16.2 11.8 17.2 19 10z\"></path></svg></a></div></div></li></ul></div></dds-video-cta-container></div></div></div></div></section><div class=\"bx--grid\"><div class=\"bx--row\"><div class=\"bx--col\"><div class=\"bx--image\" data-autoid=\"dds--image__longdescription\"><picture><source media=\"(min-width: 1057px)\" srcSet=\"https://1.dam.s81c.com/p/0aac9cf57bcbf324/dotcom-1-overview.jpg\"/><source media=\"(min-width: 672px)\" srcSet=\"https://1.dam.s81c.com/p/0aac9cf57bcbf324/dotcom-1-overview.jpg.global.mr_16x9.jpg\"/><source media=\"(min-width: 400px)\" srcSet=\"https://1.dam.s81c.com/p/0aac9cf57bcbf324/dotcom-1-overview.jpg.global.m_16x9.jpg\"/><source media=\"(min-width: 320px)\" srcSet=\"https://1.dam.s81c.com/p/0aac9cf57bcbf324/dotcom-1-overview.jpg.global.s_16x9.jpg\"/><img class=\"bx--image__img\" src=\"https://1.dam.s81c.com/p/0aac9cf57bcbf324/dotcom-1-overview.jpg\" alt=\"Grid of IBM consultant portraits\"/></picture></div></div></div></div></section><div class=\"bx--custom-spacer\"></div><section class=\"bx--custom-inside-ibm-section\" style=\"padding-bottom:8rem\"><section class=\"bx--intro-section-custom\" autoid=\"dds--intro-section-custom\"><div class=\"bx--grid\"><div class=\"bx--row\"><div class=\"bx--col-lg-8\"><h3 class=\"bx--content-item-horizontal__item--heading\" data-autoid=\"dds--content-item-horizontal__item--heading\">Inside IBM</h3></div><div class=\"bx--col-lg-8\"><div class=\"bx--content-item-horizontal__item--copy\" data-autoid=\"dds--content-item-horizontal__item--copy\"><p class=\"bx--type-heading-03\">Solving the worldâ\\x80\\x99s problems through technology wouldnâ\\x80\\x99t be possible without our most important invention: the IBMer. Have a look at our talented teams.</p><dds-video-cta-container><div class=\"bx--link-list\" data-autoid=\"dds--link-list\"><ul class=\"bx--link-list__list bx--link-list__list--horizontal\"><li class=\"bx--link-list__list__CTA bx--link-list__list--local\"><div><div class=\"bx--link-with-icon__container\" data-autoid=\"dds--link-with-icon\"><a class=\"bx--link bx--link-with-icon bx--link-with-icon--inline-icon bx--link--lg\" href=\"https://www.ibm.com/about\"><span>About IBM</span><span class=\"bx--visually-hidden\"></span><svg focusable=\"false\" preserveAspectRatio=\"xMidYMid meet\" xmlns=\"http://www.w3.org/2000/svg\" fill=\"currentColor\" width=\"20\" height=\"20\" viewBox=\"0 0 20 20\" aria-hidden=\"true\"><path d=\"M11.8 2.8L10.8 3.8 16.2 9.3 1 9.3 1 10.7 16.2 10.7 10.8 16.2 11.8 17.2 19 10z\"></path></svg></a></div></div></li></ul></div></dds-video-cta-container></div></div></div></div></section><div class=\"bx--grid bx--grid--card\"><div class=\"bx--row\"><dds-video-cta-container><dds-card-group cards-per-row=\"4\"><dds-card-group-item cta-type=\"local\" href=\"https://research.ibm.com/\"><dds-card-eyebrow slot=\"eyebrow\">IBM Research</dds-card-eyebrow><dds-image slot=\"image\" alt=\"A large quantum server at IBM Research\" default-src=\"https://1.dam.s81c.com/p/058f8f979abf1c0b/ibm-quantum-system-one.png.global.m_1x1.png\"></dds-image><dds-card-heading>See the latest technology developed by IBM scientists and design thinkers</dds-card-heading><dds-card-cta-footer slot=\"footer\" href=\"https://research.ibm.com/\">Go inside the lab<iconSrc slot=\"icon\"></iconSrc></dds-card-cta-footer></dds-card-group-item><dds-card-group-item cta-type=\"local\" href=\"https://www.ibm.com/careers/us-en/\"><dds-card-eyebrow slot=\"eyebrow\">Careers at IBM</dds-card-eyebrow><dds-image slot=\"image\" alt=\"Technician working on internal wiring system\" default-src=\"https://1.dam.s81c.com/p/0656655b47a3af99/0100129_Oppermann_PE.jpg.global.m_1x1.png\"></dds-image><dds-card-heading>From safer food supply to ethical AI, tackle the worldâ\\x80\\x99s toughest problems</dds-card-heading><dds-card-cta-footer slot=\"footer\" href=\"https://www.ibm.com/careers/us-en/\">Join our team<iconSrc slot=\"icon\"></iconSrc></dds-card-cta-footer></dds-card-group-item><dds-card-group-item cta-type=\"local\" href=\"https://www.ibm.com/impact\"><dds-card-eyebrow slot=\"eyebrow\">Corporate social responsibility</dds-card-eyebrow><dds-image slot=\"image\" alt=\"Aerial view of solar panels is in graphic rows\" default-src=\"https://1.dam.s81c.com/p/07d5a7f25cc3d97e/dji_0758.jpg.global.m_1x1.png\"></dds-image><dds-card-heading>IBM aspires to make a positive impact on the world and the places where we work and live</dds-card-heading><dds-card-cta-footer slot=\"footer\" href=\"https://www.ibm.com/impact\">See our impact<iconSrc slot=\"icon\"></iconSrc></dds-card-cta-footer></dds-card-group-item><dds-card-group-item cta-type=\"external\" href=\"https://skillsbuild.org/\"><dds-card-eyebrow slot=\"eyebrow\">Training</dds-card-eyebrow><dds-image slot=\"image\" alt=\"Environmental portrait of employee in office with server\" default-src=\"https://1.dam.s81c.com/p/0aac9d02d6cbf501/universitychile0013846.jpg.global.m_1x1.png\"></dds-image><dds-card-heading>Power your future in tech with job skills, courses and credentialsâ\\x80\\x94for free</dds-card-heading><dds-card-cta-footer slot=\"footer\" href=\"https://skillsbuild.org/\">Visit IBM SkillsBuild<iconSrc slot=\"icon\"></iconSrc></dds-card-cta-footer></dds-card-group-item></dds-card-group></dds-video-cta-container></div></div></section></div></div><footer data-autoid=\"dds--footer\" class=\"bx--footer\"><section class=\"bx--footer__main\"><div class=\"bx--footer__main-container\"><div class=\"bx--footer__logo-container\"><div class=\"bx--footer__logo-row\"><div data-autoid=\"dds--footer-logo\" class=\"bx--footer-logo\"><a data-autoid=\"dds--footer-logo__link\" class=\"bx--footer-logo__link\" href=\"https://www.ibm.com/\"><svg width=\"157\" height=\"65\" class=\"bx--footer-logo__logo\" viewBox=\"0 0 157 65\" xmlns=\"http://www.w3.org/2000/svg\"><title>IBM Logo</title><path d=\"M30.444 60.208v4.03H0v-4.03h30.444zm78.291-.001v4.03H86.983v-4.03h21.752zm47.858 0v4.03H134.84v-4.03h21.753zm-33.416 0l-1.398 4.03-1.38-4.03h2.778zm-88.384 0h42.775c-2.797 2.426-6.39 3.925-10.327 4.025l-.423.006H34.793v-4.03h42.775zm-4.35-8.46v4.03H0v-4.03h30.444zm52.402 0c-.332 1.248-.8 2.44-1.389 3.555l-.259.474H34.793v-4.029h48.052zm73.748-.005v4.031H134.84v-4.03h21.753zm-47.858 0v4.031H86.983v-4.03h21.752zm17.375 0l-1.398 4.031h-5.85l-1.395-4.03h8.643zM21.745 43.285v4.03H8.698v-4.03h13.047zm61.195 0a17.32 17.32 0 0 1 .476 3.51l.008.52H68.796v-4.03H82.94zm-26.401 0v4.03H43.491v-4.03H56.54zm72.502-.007l-1.396 4.03H115.93l-1.397-4.03h14.507zm18.85 0v4.03h-13.05v-4.03h13.05zm-39.156 0v4.03H95.684v-4.03h13.051zm-86.99-8.454v4.03H8.698v-4.03h13.047zm56.117 0a16.945 16.945 0 0 1 2.926 3.582l.264.447h-37.56v-4.03h34.37zm30.873-.01v4.03H95.684v-4.03h13.051zm39.157 0v4.03H134.84v-4.03h13.052zm-15.919 0l-1.396 4.03h-17.579l-1.396-4.03h20.371zm-50.778-8.452a16.963 16.963 0 0 1-2.82 3.674l-.37.355H43.49v-4.029h37.704zm-59.45 0v4.03H8.698v-4.03h13.047zm126.147-.013v4.031H134.84v-3.839l-1.33 3.839h-11.456l1.373-4.03h24.465zm-27.743 0l1.372 4.031h-11.456l-1.33-3.839v3.84H95.684v-4.032h24.465zm-98.404-8.448v4.03H8.698V17.9h13.047zm61.68 0c0 1.215-.134 2.399-.375 3.542l-.11.487H68.796V17.9h14.628zM56.538 17.9v4.03H43.491V17.9H56.54zm91.352-.015v4.03h-22.954l1.37-4.03h21.584zm-30.624 0l1.372 4.03H95.684v-4.03h21.583zM30.444 9.437v4.03H0v-4.03h30.444zm50.753 0a17.048 17.048 0 0 1 1.498 3.499l.15.531H34.794v-4.03h46.403zm75.396-.018v4.03h-28.776l1.373-4.03h27.403zm-42.207 0l1.372 4.031H86.982V9.42h27.404zM30.444.978v4.03H0V.977h30.444zm36.374 0c3.96 0 7.594 1.415 10.448 3.772l.303.257H34.794V.977h32.024zm89.775-.022v4.031h-25.894l1.372-4.03h24.522zm-45.098 0l1.372 4.03H86.982V.955h24.513z\"></path></svg></a></div><div class=\"bx--locale-btn__container\"><button data-autoid=\"dds--locale-btn\" aria-label=\"\" tabindex=\"0\" class=\"bx--locale-btn bx--btn bx--btn--tertiary\" type=\"button\"><svg focusable=\"false\" preserveAspectRatio=\"xMidYMid meet\" xmlns=\"http://www.w3.org/2000/svg\" fill=\"currentColor\" aria-label=\"Earth Filled Icon\" aria-hidden=\"true\" width=\"20\" height=\"20\" viewBox=\"0 0 32 32\" role=\"img\" class=\"bx--btn__icon\"><path d=\"M16,2A14,14,0,1,0,30,16,14.0158,14.0158,0,0,0,16,2ZM4.02,16.394l1.3384.4458L7,19.3027v1.2831a1,1,0,0,0,.2929.7071L10,24v2.3765A11.9941,11.9941,0,0,1,4.02,16.394ZM16,28a11.9682,11.9682,0,0,1-2.5718-.2847L14,26l1.8046-4.5116a1,1,0,0,0-.0964-.9261l-1.4113-2.117A1,1,0,0,0,13.4648,18h-4.93L7.2866,16.1274,9.4141,14H11v2h2V13.2656l3.8682-6.7695-1.7364-.9922L14.2769,7H11.5352l-1.086-1.6289A11.861,11.861,0,0,1,20,4.7V8a1,1,0,0,0,1,1h1.4648a1,1,0,0,0,.8321-.4453l.8769-1.3154A12.0331,12.0331,0,0,1,26.8945,11H22.82a1,1,0,0,0-.9806.8039l-.7221,4.4708a1,1,0,0,0,.54,1.0539L25,19l.6851,4.0557A11.9793,11.9793,0,0,1,16,28Z\"></path></svg></button><div data-autoid=\"dds--locale-modal\" role=\"presentation\" aria-hidden=\"true\" class=\"bx--modal bx--locale-modal-container\"><div class=\"bx--modal-container\" role=\"dialog\" aria-modal=\"true\" aria-label=\",[object Object]\"><button type=\"button\" class=\"bx--visually-hidden\">Focus sentinel</button><div class=\"bx--modal-container-body\"><div class=\"bx--modal-header\"><h2 class=\"bx--modal-header__label bx--type-delta\"><svg focusable=\"false\" preserveAspectRatio=\"xMidYMid meet\" xmlns=\"http://www.w3.org/2000/svg\" fill=\"currentColor\" width=\"16\" height=\"16\" viewBox=\"0 0 32 32\" aria-hidden=\"true\" class=\"bx--locale-modal__label-globe\"><path d=\"M16,2A14,14,0,1,0,30,16,14.0158,14.0158,0,0,0,16,2ZM4.02,16.394l1.3384.4458L7,19.3027v1.2831a1,1,0,0,0,.2929.7071L10,24v2.3765A11.9941,11.9941,0,0,1,4.02,16.394ZM16,28a11.9682,11.9682,0,0,1-2.5718-.2847L14,26l1.8046-4.5116a1,1,0,0,0-.0964-.9261l-1.4113-2.117A1,1,0,0,0,13.4648,18h-4.93L7.2866,16.1274,9.4141,14H11v2h2V13.2656l3.8682-6.7695-1.7364-.9922L14.2769,7H11.5352l-1.086-1.6289A11.861,11.861,0,0,1,20,4.7V8a1,1,0,0,0,1,1h1.4648a1,1,0,0,0,.8321-.4453l.8769-1.3154A12.0331,12.0331,0,0,1,26.8945,11H22.82a1,1,0,0,0-.9806.8039l-.7221,4.4708a1,1,0,0,0,.54,1.0539L25,19l.6851,4.0557A11.9793,11.9793,0,0,1,16,28Z\"></path></svg></h2><button class=\"bx--modal-close\" title=\"Close\" aria-label=\"Close\" type=\"button\"><svg focusable=\"false\" preserveAspectRatio=\"xMidYMid meet\" xmlns=\"http://www.w3.org/2000/svg\" fill=\"currentColor\" width=\"20\" height=\"20\" viewBox=\"0 0 32 32\" aria-hidden=\"true\" class=\"bx--modal-close__icon\"><path d=\"M24 9.4L22.6 8 16 14.6 9.4 8 8 9.4 14.6 16 8 22.6 9.4 24 16 17.4 22.6 24 24 22.6 17.4 16 24 9.4z\"></path></svg></button></div><div class=\"bx--modal-content bx--locale-modal \"><div class=\"bx--grid bx--no-gutter bx--locale-modal__regions\"><div class=\"bx--row\"></div></div><div class=\"bx--locale-modal__filter\"><div class=\"bx--locale-modal__search\"><div role=\"search\" aria-labelledby=\"bx--locale-modal__filter-search\" class=\"bx--search bx--search--xl\"><div class=\"bx--search-magnifier\"><svg focusable=\"false\" preserveAspectRatio=\"xMidYMid meet\" xmlns=\"http://www.w3.org/2000/svg\" fill=\"currentColor\" width=\"16\" height=\"16\" viewBox=\"0 0 16 16\" aria-hidden=\"true\" class=\"bx--search-magnifier-icon\"><path d=\"M15,14.3L10.7,10c1.9-2.3,1.6-5.8-0.7-7.7S4.2,0.7,2.3,3S0.7,8.8,3,10.7c2,1.7,5,1.7,7,0l4.3,4.3L15,14.3z M2,6.5\\tC2,4,4,2,6.5,2S11,4,11,6.5S9,11,6.5,11S2,9,2,6.5z\"></path></svg></div><label id=\"bx--locale-modal__filter-search\" for=\"bx--locale-modal__filter\" class=\"bx--label\">Search by location or language</label><input type=\"text\" role=\"searchbox\" autoComplete=\"off\" data-autoid=\"dds--locale-modal__filter\" tabindex=\"0\" class=\"bx--search-input\" id=\"bx--locale-modal__filter\" placeholder=\"\"/><button class=\"bx--search-close bx--search-close--hidden\" type=\"button\" aria-label=\"Clear search input\"><svg focusable=\"false\" preserveAspectRatio=\"xMidYMid meet\" xmlns=\"http://www.w3.org/2000/svg\" fill=\"currentColor\" width=\"16\" height=\"16\" viewBox=\"0 0 32 32\" aria-hidden=\"true\"><path d=\"M24 9.4L22.6 8 16 14.6 9.4 8 8 9.4 14.6 16 8 22.6 9.4 24 16 17.4 22.6 24 24 22.6 17.4 16 24 9.4z\"></path></svg></button></div><p class=\"bx--locale-modal__search-text\"></p></div><ul class=\"bx--locale-modal__list\"><p class=\"bx--assistive-text\" role=\"status\" aria-live=\"assertive\"></p></ul></div></div></div><button type=\"button\" class=\"bx--visually-hidden\">Focus sentinel</button></div></div></div></div></div></div></section></footer></main><script src=\"https://cdn.jsdelivr.net/npm/react@17/umd/react.production.min.js\"></script><script src=\"https://cdn.jsdelivr.net/npm/react-dom@17/umd/react-dom.production.min.js\"></script><script src=\"https://cdn.jsdelivr.net/npm/react-intl@5/dist/react-intl.min.js\"></script></div></div><script src=\"//1.www.s81c.com/common/stats/ibm-common.js\" defer=\"\"></script><link href=\"//1.www.s81c.com/common/v18/css/forms.css\" rel=\"stylesheet\"/></div><script id=\"__NEXT_DATA__\" type=\"application/json\">{\"props\":{\"pageProps\":{\"data\":{\"_id\":\"7ec18a83cb1c595406965cba92f231c4\",\"_rev\":\"12572-e13697f1e58978b7b92c770341e44029\",\"type\":\"production\",\"sections\":{\"leadspace\":{\"data\":{\"content\":[{\"blocklink\":true,\"largeCol\":\"bx--col-lg-6\",\"imagePos\":\"top right\",\"bgColor\":\"#000000\",\"ctaType\":\"links\",\"ctaColor\":\"gray-90\",\"webm\":\"\",\"gif\":\"\",\"videoImage\":\"\",\"ibmEvLinkTitle\":\"\",\"ibmEvGroup\":\"\",\"ibmEvName\":\"\",\"ibmEvSection\":\"L1\",\"ibmEvTarget\":\"\",\"lsPaddingTop\":\"ibm-pt-5\",\"lsPaddingBottom\":\"ibm-pb-5\",\"ctaOneVideoID\":\"\",\"ctaOneIcon\":\"forward\",\"videoID\":\"\",\"mp4\":\"\",\"type\":\"carbon\",\"ctaTwoVideoID\":\"\",\"ctaTwoIcon\":\"forward\",\"videoType\":\"kaltura\",\"alternate\":true,\"titleType\":\"bx--type-expressive-heading-05\",\"title\":\"The best of IBM 2022\\\\n\",\"copy\":\"From quantum breakthroughs to drug discovery, these 11 stories point to a brighter, more sustainable future\\\\n\",\"timestamp\":1671460488507,\"ctaOne\":\"See the year in review\",\"ctaOneLink\":\"https://www.ibm.com/thought-leadership/best-of/2022/?lnk=ushpv18l1\",\"airtableID\":\"27195\",\"imageMobile\":\"https://1.dam.s81c.com/p/0a23e3c651299e47/20221216-best-of-2022-mobile-720x360.jpg\",\"image\":\"https://1.dam.s81c.com/p/0a23e3c651299e48/20221216-best-of-2022-2304x983.jpg\",\"videoPosition\":\"video-center\",\"imageAlt\":\"Collage of semiconductor, 6 new creators, mayflower ship, man in a cleanroom, woman writing on a whiteboard, 2 men moving a mainframe \"}]}},\"newsflash\":{\"data\":{\"content\":[{\"active\":false,\"videoID\":\"\",\"bgColor\":\"#001d6c\",\"videoType\":\"kaltura\",\"ibmEvSection\":\"NF1\",\"airtableID\":\"\",\"sandbox\":false,\"title\":\"\\\\u003cstrong\\\\u003eLive updates\\\\u003c/strong\\\\u003e: See the latest product announcements and thought leadership from Think\\\\u0026nbsp;\\\\u0026#8594;\",\"stage\":false,\"timestamp\":1684332093342,\"videoTitle\":\"\",\"videoDesc\":\"\",\"link\":\"https://newsroom.ibm.com/2023-05-09-IBM-Unveils-the-Watsonx-Platform-to-Power-Next-Generation-Foundation-Models-for-Business?lnk=ushpv18nf1\"},{\"active\":false,\"videoID\":\"\",\"bgColor\":\"#001d6c\",\"videoType\":\"kaltura\",\"ibmEvSection\":\"NF2\",\"airtableID\":\"\",\"sandbox\":false,\"title\":\"\\\\u003cstrong\\\\u003eNew\\\\u003c/strong\\\\u003e: \\\\u0026nbsp;\\\\u0026#8594;\",\"stage\":false,\"timestamp\":1680192662088},{\"active\":false,\"videoID\":\"\",\"bgColor\":\"#001d6c\",\"videoType\":\"kaltura\",\"ibmEvSection\":\"NF3\",\"airtableID\":\"\",\"sandbox\":false,\"title\":\"\\\\u003cstrong\\\\u003eNew\\\\u003c/strong\\\\u003e: this is copy\\\\u0026nbsp;\\\\u0026#8594;\",\"stage\":false,\"timestamp\":1680192964674,\"videoTitle\":\"\",\"videoDesc\":\"\",\"link\":\"https://www.ibm.com/thought-leadership/smart/talks/?lnk=ushpv18nf3\"},{\"active\":false,\"videoID\":\"\",\"bgColor\":\"#001d6c\",\"videoType\":\"kaltura\",\"ibmEvSection\":\"NF4\",\"airtableID\":\"\",\"sandbox\":false,\"title\":\"\\\\u003cstrong\\\\u003eNews\\\\u003c/strong\\\\u003e: \\\\u0026nbsp;\\\\u0026#8594;\",\"stage\":false,\"timestamp\":1679574208771},{\"active\":false,\"videoID\":\"\",\"bgColor\":\"#001d6c\",\"videoType\":\"kaltura\",\"ibmEvSection\":\"NF5\",\"airtableID\":\"\",\"sandbox\":false,\"title\":\"\\\\u003cstrong\\\\u003eNew\\\\u003c/strong\\\\u003e \\\\u0026nbsp;\\\\u0026#8594;\",\"stage\":false,\"timestamp\":1679345827767,\"videoDesc\":\"\",\"link\":\"\"},{\"active\":false,\"videoID\":\"\",\"bgColor\":\"#001d6c\",\"videoType\":\"kaltura\",\"ibmEvSection\":\"NF6\",\"airtableID\":\"\",\"sandbox\":false,\"title\":\"\\\\u003cstrong\\\\u003eNew\\\\u003c/strong\\\\u003e: IBMâ\\x80\\x99s comprehensive Data Management for Analytics foundation earns Leader status in 2023 Forrester Wave\\\\u0026nbsp;\\\\u0026#8594;\",\"stage\":false,\"timestamp\":1680547087561,\"videoTitle\":\"\",\"videoDesc\":\"\",\"link\":\"https://www.ibm.com/blog/ibm-named-a-leader-in-the-forrester-wave-data-management-for-analytics-q1-2023/?lnk=ushpv18nf6\"},{\"active\":false,\"videoID\":\"\",\"bgColor\":\"#001d6c\",\"videoType\":\"kaltura\",\"ibmEvSection\":\"NF7\",\"airtableID\":\"\",\"sandbox\":false,\"title\":\"\\\\u003cstrong\\\\u003eNew\\\\u003c/strong\\\\u003e: IBM and Cleveland Clinic unveil the first quantum computer dedicated to healthcare research\\\\u0026nbsp;\\\\u0026#8594;\",\"stage\":false,\"timestamp\":1679519285897,\"link\":\"https://newsroom.ibm.com/2023-03-20-Cleveland-Clinic-and-IBM-Unveil-First-Quantum-Computer-Dedicated-to-Healthcare-Research?lnk=ushpv18nf7\"},{\"active\":false,\"videoID\":\"\",\"bgColor\":\"#001d6c\",\"videoType\":\"kaltura\",\"ibmEvSection\":\"NF8\",\"airtableID\":\"\",\"sandbox\":false,\"title\":\"\\\\u003cstrong\\\\u003eNew\\\\u003c/strong\\\\u003e: AI-based sustainability solutions offer hope for 2.3 billion people living in water-stressed countries\\\\u0026nbsp;\\\\u0026#8594;\",\"stage\":false,\"timestamp\":1679574191891,\"link\":\"https://www.ibm.com/blog/how-technology-can-help-save-our-water-supply?lnk=ushpv18nf8\"}]}},\"mastheadbtn\":{\"data\":{\"content\":[{\"stage\":false,\"tool\":false,\"title\":\"Stay safe, y\\\\u0026#8217;all.\",\"link\":\"https://www.ibm.com/impact/covid-19/?lnk=ushpv18mb\",\"active\":false,\"timestamp\":1591040701251}]}},\"featured\":{\"data\":{\"content\":[{\"videoImage\":\"\",\"videoType\":\"kaltura\",\"ibmEvLinkTitle\":\"\",\"ibmEvGroup\":\"\",\"ibmEvName\":\"\",\"ibmEvSection\":\"F1\",\"ibmEvTarget\":\"\",\"damVideoMP4\":\"\",\"damVideoWebM\":\"\",\"icon\":\"forward\",\"videoID\":\"\",\"title\":\"27164 IBM iX\",\"timestamp\":1670602077463,\"airtableID\":\"27164\",\"eyebrow\":\"IBM iX: design-led, data-driven\",\"copy\":\"A human-centered approach helps IBM Consulting clients transform customer and employee experiences\",\"image\":\"https://1.dam.s81c.com/p/0868c64e393cf933/2017_12_Slowell_Inside_IBM_Cloud_developers_242.jpg.global.s_4x3.jpg\",\"imageAlt\":\"Two co-workers talking at a desk\",\"button\":\"\",\"link\":\"https://www.ibm.com/consulting/ibmix?lnk=ushpv18f1\"},{\"videoImage\":\"\",\"videoType\":\"youtube\",\"ibmEvLinkTitle\":\"\",\"ibmEvGroup\":\"\",\"ibmEvName\":\"\",\"ibmEvSection\":\"F2\",\"ibmEvTarget\":\"\",\"damVideoMP4\":\"\",\"damVideoWebM\":\"\",\"icon\":\"forward\",\"videoID\":\"\",\"title\":\"27173 Is your business cybersafe?\",\"copy\":\"Work with senior security consultants to understand where you are and where you need to go in this free 3\\\\u0026#8209;hour workshop\",\"eyebrow\":\"Is your business cybersafe?\\\\n\",\"timestamp\":1670602025015,\"airtableID\":\"27173\",\"image\":\"https://1.dam.s81c.com/p/08a56f9ac246227c/20220801_26754_Countdown-to-Ransomware-guide-security-intelligence-444x333.jpg\",\"link\":\"https://www.ibm.com/security/resources/workshop?lnk=ushpv18f2\",\"imageAlt\":\"Three IBM Security employees at a conference table interacting with a man at a whiteboard\"},{\"videoImage\":\"\",\"videoType\":\"youtube\",\"ibmEvLinkTitle\":\"\",\"ibmEvGroup\":\"\",\"ibmEvName\":\"\",\"ibmEvSection\":\"F3\",\"ibmEvTarget\":\"\",\"damVideoMP4\":\"\",\"damVideoWebM\":\"\",\"icon\":\"forward\",\"videoID\":\"\",\"title\":\"27158 Food trust/FSMA\",\"timestamp\":1670605658975,\"airtableID\":\"27158\",\"copy\":\"IBM Food Trust ensures a safer food supply and simplifies compliance with the latest US FDA traceability rules\",\"image\":\"https://1.dam.s81c.com/p/04d38222a5bc17ff/84962edd-c289-4d32-ad92a178655984d5.jpg.global.s_4x3.jpg\",\"mobileImg\":\"https://1.dam.s81c.com/public/content/dam/worldwide-content/homepage/ul/g/9e/7c/20210823-f-swiss-re-case-study-26069.jpg\",\"eyebrow\":\"A higher standard, farm to fork\",\"link\":\"https://www.ibm.com/products/supply-chain-intelligence-suite/food-trust?lnk=ushpv18f3\",\"imageAlt\":\"Oranges on a factory assembly line\"},{\"videoImage\":\"\",\"videoType\":\"youtube\",\"ibmEvLinkTitle\":\"\",\"ibmEvGroup\":\"\",\"ibmEvName\":\"\",\"ibmEvSection\":\"F4\",\"ibmEvTarget\":\"\",\"damVideoMP4\":\"\",\"damVideoWebM\":\"\",\"icon\":\"forward\",\"videoID\":\"\",\"title\":\"27177 Year in review newsletters\",\"image\":\"https://1.dam.s81c.com/p/08243aa34ebb7a36/2022_05_10_SpencerLowell_WorkingWorld_IBM_Brand_Library_285.jpg.global.s_4x3.jpg\",\"copy\":\"Three year-in-review newsletters will highlight the impact of todayâ\\x80\\x99s technology on the future of business. Subscribe now.\",\"eyebrow\":\"2022â\\x80\\x99s top thought leadership\",\"timestamp\":1670853303889,\"airtableID\":\"27177\",\"link\":\"https://www.ibm.com/subscribe/?lnk=ushpv18f4\",\"imageAlt\":\"Orion Crew Module solar panel mockup deployment test at NASA Glen Research Center in Sandusky, Ohio\"},{\"subcopy\":\"\",\"ibmEvLinkTitle\":\"\",\"ibmEvGroup\":\"\",\"ibmEvName\":\"\",\"ibmEvSection\":\"F5\",\"ibmEvTarget\":\"\",\"button_mobile\":\"t1\",\"videoID\":\"\",\"icon\":\"forward\",\"image\":\"\",\"title\":\"\",\"eyebrow\":\"\",\"copy\":\"\",\"button\":\"\",\"timestamp\":1644590702649,\"airtableID\":\"\",\"link\":\"\"},{\"subcopy\":\"\",\"ibmEvLinkTitle\":\"\",\"ibmEvGroup\":\"\",\"ibmEvName\":\"\",\"ibmEvSection\":\"F6\",\"ibmEvTarget\":\"\",\"button_mobile\":\"t1\",\"videoID\":\"\",\"icon\":\"forward\",\"image\":\"https://1.dam.s81c.com/public/content/dam/worldwide-content/homepage/ul/g/7b/7b/20220117-cloud-simplicity-26358-2304x983.png\",\"title\":\"\",\"eyebrow\":\"A unified cloud experience\",\"copy\":\"Build, deploy and scale faster across any environment with consistency and security\",\"button\":\"Simplify your multicloud\",\"timestamp\":1643665707293,\"airtableID\":\"\",\"link\":\"https://www.ibm.com/cloud/campaign/cloud-simplicity?lnk=ushpv18f6\"},{\"videoImage\":\"\",\"videoType\":\"youtube\",\"ibmEvLinkTitle\":\"\",\"ibmEvGroup\":\"\",\"ibmEvName\":\"\",\"ibmEvSection\":\"F7\",\"ibmEvTarget\":\"\",\"damVideoMP4\":\"\",\"damVideoWebM\":\"\",\"icon\":\"forward\",\"videoID\":\"\",\"title\":\"\",\"link\":\"https://www.ibm.com/consulting/?lnk=ushpv18f7\",\"image\":\"https://1.dam.s81c.com/public/content/dam/worldwide-content/homepage/ul/g/ae/b2/20211103-f-ibm-consulting-26242.gif\",\"eyebrow\":\"Move fast and far with IBM Consulting\",\"copy\":\"Together, we can turn ideas into action better than we ever could alone\",\"button\":\"Navigate the new rules of modern business with a partner you\\\\u0026nbsp;trust\",\"timestamp\":1643665749045,\"airtableID\":\"\"},{\"videoID\":\"\",\"videoImage\":\"\",\"videoType\":\"youtube\",\"ibmEvLinkTitle\":\"\",\"ibmEvGroup\":\"\",\"ibmEvName\":\"\",\"ibmEvSection\":\"F8\",\"ibmEvTarget\":\"\",\"damVideoMP4\":\"\",\"damVideoWebM\":\"\",\"icon\":\"forward\",\"timestamp\":1643665604671,\"title\":\"\",\"eyebrow\":\"\",\"button\":\"\",\"copy\":\"\",\"image\":\"\",\"link\":\"\",\"airtableID\":\"\"},{\"videoImage\":\"\",\"videoType\":\"kaltura\",\"ibmEvLinkTitle\":\"\",\"ibmEvGroup\":\"\",\"ibmEvName\":\"\",\"ibmEvSection\":\"F9\",\"ibmEvTarget\":\"\",\"damVideoMP4\":\"\",\"damVideoWebM\":\"\",\"icon\":\"forward\",\"videoID\":\"\",\"title\":\"\",\"image\":\"\",\"link\":\"\",\"button\":\"\",\"eyebrow\":\"\",\"copy\":\"\",\"timestamp\":1643665619583,\"airtableID\":\"\"},{\"subcopy\":\"\",\"ibmEvLinkTitle\":\"\",\"ibmEvGroup\":\"\",\"ibmEvName\":\"\",\"ibmEvSection\":\"F10\",\"ibmEvTarget\":\"\",\"button_mobile\":\"t1\",\"videoID\":\"\",\"icon\":\"forward\",\"image\":\"\",\"title\":\"\",\"eyebrow\":\"\",\"copy\":\"\",\"button\":\"\",\"link\":\"\",\"timestamp\":1643665630573,\"airtableID\":\"\"},{\"subcopy\":\"\",\"ibmEvLinkTitle\":\"\",\"ibmEvGroup\":\"\",\"ibmEvName\":\"\",\"ibmEvSection\":\"F11\",\"ibmEvTarget\":\"\",\"button_mobile\":\"t1\",\"videoID\":\"\",\"icon\":\"forward\",\"image\":\"\",\"title\":\"\",\"eyebrow\":\"\",\"copy\":\"\",\"button\":\"\",\"link\":\"\",\"timestamp\":1643665641479,\"airtableID\":\"\"},{\"videoImage\":\"\",\"videoType\":\"kaltura\",\"ibmEvLinkTitle\":\"\",\"ibmEvGroup\":\"\",\"ibmEvName\":\"\",\"ibmEvSection\":\"F12\",\"ibmEvTarget\":\"\",\"damVideoMP4\":\"\",\"damVideoWebM\":\"\",\"icon\":\"forward\",\"videoID\":\"\",\"title\":\"\",\"eyebrow\":\"\",\"copy\":\"\",\"button\":\"\",\"image\":\"\",\"link\":\"\",\"timestamp\":1643665651571,\"airtableID\":\"\"}]},\"config\":{\"type\":\"quatro\",\"totalCards\":\"12\"}},\"research\":{\"data\":{\"content\":[{\"videoImage\":\"\",\"videoType\":\"youtube\",\"ibmEvLinkTitle\":\"\",\"ibmEvGroup\":\"\",\"ibmEvName\":\"\",\"ibmEvSection\":\"R1\",\"ibmEvTarget\":\"\",\"damVideoMP4\":\"\",\"damVideoWebM\":\"\",\"icon\":\"forward\",\"videoID\":\"\",\"title\":\"27189 Spot the dog safety monitor\",\"timestamp\":1670853838373,\"airtableID\":\"27189\",\"image\":\"https://1.dam.s81c.com/p/0a23e41430abcb17/20221208-r1-spot-the-dog-robotics-offerings-27188-1600x900.jpg\",\"mobileImg\":\"https://1.dam.s81c.com/public/content/dam/worldwide-content/homepage/ul/g/9e/7c/20210823-f-swiss-re-case-study-26069.jpg\",\"headline\":\"Pin-Yu Chen challenges AI every day to build the most trustworthy systems possible\",\"eyebrow\":\"Will Spot the danger-detecting robot be your safety inspectorâ\\x80\\x99s best friend?\",\"imageAlt\":\"composite image featuring Spot, the dog-like robot\",\"copy\":\"\\\\n\",\"link\":\"https://research.ibm.com/blog/ibm-ai-edge-national-grid-monitoring?lnk=ushpv18r1\"},{\"videoImage\":\"\",\"videoType\":\"youtube\",\"ibmEvLinkTitle\":\"\",\"ibmEvGroup\":\"\",\"ibmEvName\":\"\",\"ibmEvSection\":\"R2\",\"ibmEvTarget\":\"\",\"damVideoMP4\":\"\",\"damVideoWebM\":\"\",\"icon\":\"forward\",\"videoID\":\"\",\"title\":\"27190 Quantum Open Science Prize\",\"timestamp\":1670593706262,\"airtableID\":\"27190\",\"copy\":\"\\\\n\",\"image\":\"https://1.dam.s81c.com/p/09f257ea96c87909/20221205-r1-quantum-open-science-prize-1600x900.png\",\"mobileImg\":\"https://1.dam.s81c.com/public/content/dam/worldwide-content/homepage/ul/g/9e/7c/20210823-f-swiss-re-case-study-26069.jpg\",\"headline\":\"AI processes can have a massive carbon footprint. They donâ\\x80\\x99t have to, thanks to analog AI.\",\"eyebrow\":\"IBM Quantumâ\\x80\\x99s Open Science Prize seeks the best open source solutions to pressing problems\",\"imageAlt\":\"Schematic illustration of the honeycomb-pattered Kagome lattice\",\"link\":\"https://research.ibm.com/blog/ibm-quantum-open-science-prize-2022?lnk=ushpv18r2\"},{\"videoImage\":\"\",\"videoType\":\"youtube\",\"ibmEvLinkTitle\":\"\",\"ibmEvGroup\":\"\",\"ibmEvName\":\"\",\"ibmEvSection\":\"R3\",\"ibmEvTarget\":\"\",\"damVideoMP4\":\"\",\"damVideoWebM\":\"\",\"icon\":\"forward\",\"videoID\":\"\",\"title\":\"27191 Ruthenium 1nm chip\",\"timestamp\":1670593873723,\"airtableID\":\"27191\",\"copy\":\"\\\\n\",\"image\":\"https://1.dam.s81c.com/p/09e9905470286c48/20221205-r1-1nm-chips-ruthenium-27178-1600x900.jpg\",\"mobileImg\":\"https://1.dam.s81c.com/public/content/dam/worldwide-content/homepage/ul/g/9e/7c/20210823-f-swiss-re-case-study-26069.jpg\",\"headline\":\"AI processes can have a massive carbon footprint. They donâ\\x80\\x99t have to, thanks to analog AI.\",\"eyebrow\":\"The 1-nanometer future: a metal called ruthenium will shrink the worldâ\\x80\\x99s smallest chip below 2nm\",\"imageAlt\":\"Fingers holding a chip wafer with a computer chip closeup in an inset\",\"link\":\"https://research.ibm.com/blog/1nm-chips-vtfet-ruthenium?lnk=ushpv18r3\"},{\"videoImage\":\"\",\"videoType\":\"youtube\",\"ibmEvLinkTitle\":\"\",\"ibmEvGroup\":\"\",\"ibmEvName\":\"\",\"ibmEvSection\":\"R4\",\"ibmEvTarget\":\"\",\"damVideoMP4\":\"\",\"damVideoWebM\":\"\",\"icon\":\"forward\",\"videoID\":\"https://www.ibm.com/thought-leadership/institute-business-value/report/space-cloud-computing\",\"title\":\"27192 PyTorch AI foundation models\",\"timestamp\":1670593999804,\"airtableID\":\"27192\",\"image\":\"https://1.dam.s81c.com/p/09e98ff48ebdd003/20221128-r-pytorch-foundational-models-27155-800x450.png\",\"mobileImg\":\"https://1.dam.s81c.com/public/content/dam/worldwide-content/homepage/ul/g/9e/7c/20210823-f-swiss-re-case-study-26069.jpg\",\"headline\":\"Pin-Yu Chen challenges AI every day to build the most trustworthy systems possible\",\"eyebrow\":\"Train large AI models using standard Ethernet networking on Red Hat OpenShift, on any cloud\\\\n\",\"imageAlt\":\"intersecting groups of lines representing networking\",\"copy\":\"\\\\n\",\"link\":\"https://research.ibm.com/blog/ibm-pytorch-cloud-ai-ethernet?lnk=ushpv18r4\"}]},\"config\":{\"enabled\":\"true\",\"type\":\"carousel\",\"totalCards\":\"12\"}},\"makers\":{\"data\":{\"content\":[{\"alternate\":true,\"ctaColor\":\"red-50\",\"ibmEvLinkTitle\":\"\",\"ibmEvGroup\":\"\",\"ibmEvName\":\"case study\",\"ibmEvSection\":\"M1\",\"ibmEvTarget\":\"\",\"imageMobile\":\"\",\"damVideoMP4\":\"\",\"damVideoWebM\":\"\",\"ctaCopyThree\":\"\",\"ctaLinkTwoThree\":\"\",\"imagePos\":\"center center\",\"copyTwo\":\"\",\"videoType\":\"kaltura\",\"eyebrow\":\"Sustainability insights make facilities work more efficiently\",\"airtableID\":\"27171\",\"videoID\":\"\",\"mobileColumnHalf\":true,\"timestamp\":1689752468564,\"ctaLinkOne\":\"https://www.ibm.com/case-studies/audi-uk/?lnk=ushpv18cs1\",\"copyOne\":\"A commitment to enhanced user experience enabled Audi UK to deepen its connection to customers\",\"title\":\"27171 GRE-Envizi\",\"ctaCopyOne\":\"See how IBM Consulting helped boost lead generation by 59%\",\"button\":\"See how data provided by the Envizi ESG Suite helped IBM reduce carbon emissions by 62%\",\"copy\":\"IBM Global Real Estate needed a greener way to manage more than 50 million square feet of space worldwide\",\"link\":\"https://www.ibm.com/case-studies/ibm-gre?lnk=ushpv18m1\",\"image\":\"https://1.dam.s81c.com/p/09e9905470a86c9a/20221212-m-gre-envizi-27171-1600x900.jpg\",\"imageAlt\":\"A Black professional in an office building overlooking green landscape\"},{\"alternate\":true,\"ctaColor\":\"red-50\",\"ibmEvLinkTitle\":\"\",\"ibmEvGroup\":\"\",\"ibmEvName\":\"case study\",\"ibmEvSection\":\"M2\",\"ibmEvTarget\":\"\",\"imageMobile\":\"\",\"damVideoMP4\":\"\",\"damVideoWebM\":\"\",\"ctaCopyThree\":\"\",\"ctaLinkTwoThree\":\"\",\"imagePos\":\"center center\",\"copyTwo\":\"\",\"videoType\":\"kaltura\",\"eyebrow\":\"For predictable trains, we need predictive maintenance\",\"airtableID\":\"27193\",\"videoID\":\"\",\"mobileColumnHalf\":true,\"timestamp\":1670599073776,\"ctaLinkOne\":\"https://www.ibm.com/case-studies/audi-uk/?lnk=ushpv18cs1\",\"copyOne\":\"A commitment to enhanced user experience enabled Audi UK to deepen its connection to customers\",\"title\":\"27193 Downer Group\",\"ctaCopyOne\":\"See how IBM Consulting helped boost lead generation by 59%\",\"button\":\"Working with IBM Consulting, they created TrainDNA and increased reliability by 51%\",\"copy\":\"When Australia moved to outsource operation of its railroad system, the Downer Group needed a way to handle a huge new workload\",\"link\":\"https://www.ibm.com/case-studies/downer?lnk=ushpv18m2\",\"image\":\"https://1.dam.s81c.com/p/09f257ea96c8790a/20221205-m-downer-group-27163-1600x900.jpg\",\"imageAlt\":\"Young woman looking out a train window at the landscape passing by\"},{\"alternate\":true,\"ctaColor\":\"red-50\",\"ibmEvLinkTitle\":\"\",\"ibmEvGroup\":\"\",\"ibmEvName\":\"case study\",\"ibmEvSection\":\"M3\",\"ibmEvTarget\":\"\",\"imageMobile\":\"\",\"damVideoMP4\":\"\",\"damVideoWebM\":\"\",\"ctaCopyThree\":\"\",\"ctaLinkTwoThree\":\"\",\"imagePos\":\"center center\",\"copyTwo\":\"\",\"videoType\":\"kaltura\",\"eyebrow\":\"New Jersey keeps the heat and lights on for those in need\",\"airtableID\":\"27194\",\"videoID\":\"\",\"mobileColumnHalf\":true,\"timestamp\":1670599058497,\"ctaLinkOne\":\"https://www.ibm.com/case-studies/audi-uk/?lnk=ushpv18cs1\",\"copyOne\":\"A commitment to enhanced user experience enabled Audi UK to deepen its connection to customers\",\"title\":\"27194 State of New Jersey\",\"ctaCopyOne\":\"See how IBM Consulting helped boost lead generation by 59%\",\"button\":\"IBM Consulting designed a portal that handles 6,200 calls a month, fast-tracking $127M in relief\",\"copy\":\"The pandemic caused many low-income residents to fall behind on their utility bills, putting their home heating at risk\",\"link\":\"https://www.ibm.com/case-studies/new-jersey-department-of-community-affairs/?lnk=ushpv18m3\",\"image\":\"https://1.dam.s81c.com/p/09e98ff48ebdd004/20221128-m-new-jersey-department-of-community-affairs-27154-1600x900.jpg\",\"imageAlt\":\"Winter view of suburban houses through frost on a window\"}]},\"config\":{\"enabled\":\"true\",\"type\":\"carousel\",\"totalCards\":\"12\"}},\"tech\":{\"data\":{\"content\":[{\"imageMobile\":\"10312017-n-episode6-starwars-600x260.jpg\",\"videoType\":\"kaltura\",\"ibmEvLinkTitle\":\"Dear Tech Sonoma\",\"ibmEvGroup\":\"Advertising\",\"ibmEvName\":\"Ad support\",\"ibmEvSection\":\"DT\",\"ibmEvTarget\":\"\",\"damVideoMP4\":\"\",\"damVideoWebM\":\"\",\"videoID\":\"\",\"icon\":\"forward\",\"copy\":\"\",\"link\":\"\",\"airtableID\":\"\",\"title\":\"\",\"eyebrow\":\"\",\"button\":\"\",\"image\":\"\",\"timestamp\":1598626304757},{\"icon\":\"forward\",\"videoID\":\"\",\"videoType\":\"kaltura\",\"ibmEvLinkTitle\":\"Network Consulting Services\",\"ibmEvGroup\":\"GTS\",\"ibmEvName\":\"service\",\"ibmEvSection\":\"BT\",\"ibmEvTarget\":\"\",\"damVideoMP4\":\"\",\"damVideoWebM\":\"\",\"title\":\"\",\"eyebrow\":\"\",\"image\":\"\",\"copy\":\"\",\"button\":\"\",\"link\":\"\",\"timestamp\":1598626317181,\"airtableID\":\"\"},{\"videoType\":\"kaltura\",\"ibmEvLinkTitle\":\"Systems TechU Las Vegas\",\"ibmEvGroup\":\"STG\",\"ibmEvName\":\"event\",\"ibmEvSection\":\"ST\",\"ibmEvTarget\":\"\",\"damVideoMP4\":\"\",\"damVideoWebM\":\"\",\"videoID\":\"\",\"icon\":\"play\",\"airtableID\":\"\",\"title\":\"\",\"copy\":\"\",\"eyebrow\":\"\",\"link\":\"\",\"image\":\"\",\"button\":\"\",\"timestamp\":1598626329298}]}},\"trials\":{\"data\":{\"content\":[{\"icon\":\"forward\",\"videoID\":\"\",\"videoImage\":\"\",\"videoType\":\"youtube\",\"ibmEvLinkTitle\":\"\",\"ibmEvGroup\":\"\",\"ibmEvName\":\"\",\"ibmEvSection\":\"T1\",\"ibmEvTarget\":\"\",\"damVideoMP4\":\"\",\"damVideoWebM\":\"\",\"timestamp\":1689752474874,\"title\":\"1303 IBM Watson Assistant\",\"airtableID\":\"1303\",\"copy\":\"Help customers get stuff done quickly, easily, on any channel. Ask for a demo.\",\"eyebrow\":\"IBM Watson Assistant\",\"link\":\"https://www.ibm.com/products/watson-assistant?lnk=ushpv18t1\\\\u0026lnk2=trial_WatAssist\\\\u0026psrc=none\\\\u0026pexp=def\",\"image\":\"https://1.dam.s81c.com/public/content/dam/worldwide-content/homepage/ul/g/ee/15/20220216-t-ibm-watson-assistant.png\",\"imageAlt\":\"The Watson Assistant interface with text boxes and a simulated chatbot\",\"button\":\"1\"},{\"subcopy\":\"\",\"ibmEvLinkTitle\":\"\",\"ibmEvGroup\":\"\",\"ibmEvName\":\"\",\"ibmEvSection\":\"T2\",\"ibmEvTarget\":\"\",\"button_mobile\":\"T2\",\"icon\":\"forward\",\"timestamp\":1670594649943,\"title\":\"1304 Cloud Pak for Business Automation\",\"airtableID\":\"1304\",\"copy\":\"Build and scale automation applications on any cloud. Test drive it at no\\\\u0026nbsp;cost.\",\"eyebrow\":\"Cloud Pak for Business Automation\",\"image\":\"https://1.dam.s81c.com/public/content/dam/worldwide-content/homepage/ul/g/67/6a/20220216-t-ibm-cloud-pak-for-automation.png\",\"link\":\"https://www.ibm.com/cloud/cloud-pak-for-automation?lnk=ushpv18t2\\\\u0026lnk2=trial_CloudPakAtm\\\\u0026psrc=none\\\\u0026pexp=def\",\"imageAlt\":\"spreadsheet-type charts\"},{\"subcopy\":\"\",\"ibmEvLinkTitle\":\"\",\"ibmEvGroup\":\"\",\"ibmEvName\":\"\",\"ibmEvSection\":\"T3\",\"ibmEvTarget\":\"\",\"button_mobile\":\"T4\",\"timestamp\":1691986309959,\"airtableID\":\"1305\",\"title\":\"1305 IBM Instana Observability\",\"image\":\"https://1.dam.s81c.com/p/08f951362f270092/Instana-trial-800x450.jpg\",\"eyebrow\":\"IBM Instana Observability\",\"copy\":\"Easily manage the performance of your microservice applications. Get a free trial.\",\"link\":\"https://www.ibm.com/cloud/instana?lnk=ushpv18t3\\\\u0026lnk2=trial_Instana\\\\u0026psrc=none\\\\u0026pexp=def\",\"imageAlt\":\"Instana dashboard with status tables and charts\"},{\"subcopy\":\"\",\"ibmEvLinkTitle\":\"\",\"ibmEvGroup\":\"\",\"ibmEvName\":\"\",\"ibmEvSection\":\"T4\",\"ibmEvTarget\":\"\",\"button_mobile\":\"T4\",\"timestamp\":1645198930856,\"airtableID\":\"\",\"title\":\"\",\"image\":\"\",\"eyebrow\":\"\",\"copy\":\"\",\"button\":\"\",\"link\":\"\"}]}},\"contentspotlight\":{\"data\":{\"content\":[{\"alternate\":true,\"ctaColor\":\"red-50\",\"ibmEvLinkTitle\":\"\",\"ibmEvGroup\":\"\",\"ibmEvName\":\"case study\",\"ibmEvSection\":\"CS1\",\"ibmEvTarget\":\"\",\"imageMobile\":\"\",\"damVideoMP4\":\"\",\"damVideoWebM\":\"\",\"ctaCopyThree\":\"\",\"ctaLinkTwoThree\":\"\",\"imagePos\":\"center left\",\"copyTwo\":\"\",\"videoType\":\"kaltura\",\"eyebrow\":\"\",\"airtableID\":\"\",\"videoID\":\"\",\"mobileColumnHalf\":true,\"timestamp\":1645199476505,\"ctaLinkOne\":\"\",\"copyOne\":\"\",\"title\":\"\",\"ctaCopyOne\":\"\",\"image\":\"\"},{\"alternate\":true,\"image\":\"https://1.dam.s81c.com/public/content/dam/worldwide-content/homepage/ul/g/ea/ca/cs-hub-logos-k-1042x1130.png\",\"ctaColor\":\"red-50\",\"videoID\":\"\",\"videoType\":\"youtube\",\"ibmEvLinkTitle\":\"\",\"ibmEvGroup\":\"\",\"ibmEvName\":\"case study\",\"ibmEvSection\":\"CS2\",\"ibmEvTarget\":\"\",\"imageMobile\":\"\",\"damVideoMP4\":\"\",\"damVideoWebM\":\"\",\"ctaCopyThree\":\"\",\"ctaLinkTwoThree\":\"\",\"imagePos\":\"center center\",\"eyebrow\":\"25339\",\"title\":\"Client success stories\",\"ctaCopyTwo\":\"\",\"ctaCopyOne\":\"Read how industry leaders put smart to work\",\"ctaLinkTwo\":\"\",\"ctaLinkOne\":\"https://www.ibm.com/case-studies/search?search\\\\u0026lnk=ushpv18cs2\",\"copyOne\":\"\",\"copyTwo\":\"\",\"timestamp\":1638195426535,\"airtableID\":\"25339\",\"mobileColumnHalf\":true}]},\"config\":{\"type\":\"dos\"}},\"thinknews\":{\"data\":{\"content\":[{\"videoImage\":\"\",\"videoType\":\"youtube\",\"ibmEvLinkTitle\":\"\",\"ibmEvGroup\":\"\",\"ibmEvName\":\"\",\"ibmEvSection\":\"Th1\",\"ibmEvTarget\":\"\",\"damVideoMP4\":\"\",\"damVideoWebM\":\"\",\"icon\":\"forward\",\"videoID\":\"\",\"label\":\"\",\"title\":\"\",\"image\":\"https://1.dam.s81c.com/p/0797bc3546c3dcc9/20220405-ibm-z-multiframe-annc-444x320-26343.jpg\",\"copy\":\"Breeze through 25 billion secure transactions daily, across any hybrid cloud structure\",\"eyebrow\":\"\",\"timestamp\":1655481021045,\"airtableID\":\"\",\"link\":\"\",\"active\":false,\"sandbox\":false,\"stage\":false},{\"videoImage\":\"\",\"videoType\":\"youtube\",\"ibmEvLinkTitle\":\"\",\"ibmEvGroup\":\"\",\"ibmEvName\":\"\",\"ibmEvSection\":\"Th2\",\"ibmEvTarget\":\"\",\"damVideoMP4\":\"\",\"damVideoWebM\":\"\",\"icon\":\"forward\",\"videoID\":\"\",\"label\":\"\",\"title\":\"\",\"timestamp\":1655481064068,\"airtableID\":\"\",\"eyebrow\":\"\",\"copy\":\"Four out of five companies surveyed use or plan to adopt AI. Find out why.\\\\n\",\"link\":\"\",\"active\":false,\"sandbox\":false,\"stage\":false},{\"videoImage\":\"\",\"videoType\":\"youtube\",\"ibmEvLinkTitle\":\"\",\"ibmEvGroup\":\"\",\"ibmEvName\":\"\",\"ibmEvSection\":\"Th3\",\"ibmEvTarget\":\"\",\"damVideoMP4\":\"\",\"damVideoWebM\":\"\",\"icon\":\"forward\",\"videoID\":\"\",\"label\":\"\",\"title\":\"\",\"timestamp\":1655481115853,\"airtableID\":\"\",\"eyebrow\":\"\",\"copy\":\"Boost your growth with up to $120K in cloud credits and expert mentoring when you join the Startup with IBM program\\\\n\",\"image\":\"https://1.dam.s81c.com/public/content/dam/worldwide-content/homepage/ul/g/0e/e0/20220131-startup-26374-444x320.jpg\",\"link\":\"\",\"active\":false,\"sandbox\":false,\"stage\":false},{\"videoImage\":\"\",\"videoType\":\"youtube\",\"ibmEvLinkTitle\":\"\",\"ibmEvGroup\":\"\",\"ibmEvName\":\"\",\"ibmEvSection\":\"Th4\",\"ibmEvTarget\":\"\",\"damVideoMP4\":\"\",\"damVideoWebM\":\"\",\"icon\":\"forward\",\"videoID\":\"\",\"label\":\"\",\"title\":\"\",\"image\":\"https://1.dam.s81c.com/p/0797bc3546c3dcc9/20220405-ibm-z-multiframe-annc-444x320-26343.jpg\",\"copy\":\"Breeze through 25 billion secure transactions daily, across any hybrid cloud structure\\\\n\",\"eyebrow\":\"\",\"timestamp\":1655481135287,\"airtableID\":\"\",\"link\":\"\",\"active\":false,\"sandbox\":false,\"stage\":false},{\"videoImage\":\"\",\"videoType\":\"youtube\",\"ibmEvLinkTitle\":\"\",\"ibmEvGroup\":\"\",\"ibmEvName\":\"\",\"ibmEvSection\":\"Th5\",\"ibmEvTarget\":\"\",\"damVideoMP4\":\"\",\"damVideoWebM\":\"\",\"icon\":\"forward\",\"videoID\":\"\",\"label\":\"Creativity at work\",\"title\":\"\",\"timestamp\":1652111841522,\"airtableID\":\"\",\"eyebrow\":\"Meet the New Creators, 10 visionaries creatively applying technology in business to drive change\",\"copy\":\"Boost your growth with up to $120K in cloud credits and expert mentoring when you join the Startup with IBM program\\\\n\",\"image\":\"https://1.dam.s81c.com/public/content/dam/worldwide-content/homepage/ul/g/0e/e0/20220131-startup-26374-444x320.jpg\",\"link\":\"https://www.ibm.com/thought-leadership/new-creators?lnk=ushpv18Th3\",\"active\":false,\"sandbox\":false,\"stage\":false},{\"videoImage\":\"\",\"videoType\":\"youtube\",\"ibmEvLinkTitle\":\"\",\"ibmEvGroup\":\"\",\"ibmEvName\":\"\",\"ibmEvSection\":\"Th6\",\"ibmEvTarget\":\"\",\"damVideoMP4\":\"\",\"damVideoWebM\":\"\",\"icon\":\"forward\",\"videoID\":\"\",\"label\":\"Creativity at work\",\"title\":\"\",\"timestamp\":1652111851031,\"airtableID\":\"\",\"eyebrow\":\"Meet the New Creators, 10 visionaries creatively applying technology in business to drive change\",\"copy\":\"Boost your growth with up to $120K in cloud credits and expert mentoring when you join the Startup with IBM program\\\\n\",\"image\":\"https://1.dam.s81c.com/public/content/dam/worldwide-content/homepage/ul/g/0e/e0/20220131-startup-26374-444x320.jpg\",\"link\":\"https://www.ibm.com/thought-leadership/new-creators?lnk=ushpv18Th3\",\"active\":false,\"sandbox\":false,\"stage\":false}]}},\"big6LeadspaceCards\":{\"data\":{\"content\":[{\"title\":\"Work safe. Work smart.\",\"copy\":\"\",\"link\":\"https://www.ibm.com/smarter-business/work-safe?lnk=ushpv18cv1\",\"timestamp\":1591797887933},{\"title\":\"Engage customers anywhere with Watson\",\"copy\":\"\",\"link\":\"https://www.ibm.com/smarter-business/customer-experience?lnk=ushpv18cv2\",\"timestamp\":1591797833198},{\"title\":\"Enhance your IT resiliency and business continuity\",\"copy\":\"\",\"link\":\"https://www.ibm.com/services/business-continuity?lnk=ushpv18cv3\",\"timestamp\":1591797923124},{\"title\":\"Accelerate agility and efficiency with IBM Cloud\",\"copy\":\"\",\"link\":\"https://www.ibm.com/cloud/yourcloud?lnk=ushpv18cv4\",\"timestamp\":1591798189360},{\"title\":\"Protect against new cyber risks\",\"copy\":\"\",\"link\":\"https://www.ibm.com/security?lnk=ushpv18cv5\",\"timestamp\":1591990121847},{\"title\":\"Build resilient supply chains and operations\",\"copy\":\"\",\"link\":\"https://www.ibm.com/supply-chain?lnk=ushpv18cv6\",\"timestamp\":1591990130317}]}},\"certifications\":{\"data\":{\"content\":[{\"ibmEvSection\":\"tc1\",\"image\":\" https://1.dam.s81c.com/public/content/dam/worldwide-content/homepage/ul/g/bb/fd/20211018-cert-tech-u-virtual-edition.png\",\"eyebrow\":\"IBM TechU virtual edition: October 25â\\x80\\x9328\",\"title\":\"IBM TechU 2021, the virtual edition\",\"button\":\"Register to choose from 250+ sessions and labs, and engage live with experts and peers\",\"timestamp\":1634607850644,\"airtableID\":\"26189\",\"link\":\"https://www.ibm.com/training/events/vtechu2021?lnk=ushpv18tc1\",\"mobileImg\":\"https://1.dam.s81c.com/public/content/dam/worldwide-content/homepage/ul/g/bb/fd/20211018-cert-tech-u-virtual-edition.png\",\"copy\":\"\\\\n\"},{\"ibmEvSection\":\"tc2\",\"eyebrow\":\"Design thinking is for everyone\",\"title\":\"26192 Design thinking practitioner \",\"button\":\"Learn how to drive business results by focusing on your usersâ\\x80\\x99 needs in this free course\",\"timestamp\":1634315831253,\"airtableID\":\"26192\",\"mobileImg\":\"https://1.dam.s81c.com/public/content/dam/worldwide-content/homepage/ul/g/e1/3b/20211018-cert-design-thinking.jpg\",\"copy\":\"\\\\n\",\"link\":\"https://www.ibm.com/design/thinking/?lnk=ushpv18tc2\",\"image\":\"https://1.dam.s81c.com/public/content/dam/worldwide-content/homepage/ul/g/e1/3b/20211018-cert-design-thinking.jpg\"}]},\"config\":{\"enabled\":\"true\"}},\"videonews\":{\"data\":{\"content\":[{\"ibmEvSection\":\"vn1\",\"alternateColor\":true,\"eyebrow\":\"AI can take you to places youâ\\x80\\x99ve only dreamed of\\\\n\",\"title\":\"26324 Data Science: Watson Studio\",\"button\":\"Build and scale trusted AI across any cloud\",\"link\":\"https://www.ibm.com/cloud/watson-studio?lnk=ushpv18vn1\",\"timestamp\":1639779183583,\"airtableID\":\"26324\",\"copy\":\"Get there with Watson Studio, a simpler way to turn predictions into decisions collaboratively, on any cloud, on one data and AI platform\",\"videoLength\":\"1:13\",\"videoId\":\"1_iej13uex\",\"image\":\"https://1.dam.s81c.com/public/content/dam/worldwide-content/homepage/ul/g/82/93/20211025-vn-data-science-watson-studio-1200x900.jpg\"},{\"ibmEvSection\":\"vn2\",\"eyebrow\":\"A â\\x80\\x98never trust, always verifyâ\\x80\\x99 security model\\\\n\",\"title\":\"26325 Zero Trust Security\",\"button\":\"Read about zero trust architecture and the future of security\",\"timestamp\":1639779210749,\"airtableID\":\"26325\",\"copy\":\"On average, it can take 77 days to contain an insider data breach. Companies with a zero trust framework in place can do so in near-real time.\",\"videoLength\":\"3:06\",\"videoId\":\"1_yr2j7p5f\",\"image\":\"https://1.dam.s81c.com/public/content/dam/worldwide-content/homepage/ul/g/2e/5a/20211115-vn-zero-trust-security-26254-1200x900.jpg\",\"alternateColor\":true,\"link\":\"https://www.ibm.com/security/zero-trust?lnk=ushpv18vn2\"},{\"ibmEvSection\":\"vn3\",\"eyebrow\":\"Home Trust and IBM Cloud: prepared for the unforeseeable\\\\n\",\"title\":\"26326 Home Trust CS\",\"button\":\"Learn how the right platform supported the workforce during COVID\\\\u0026#8209;19 lockdowns\",\"timestamp\":1639779304922,\"airtableID\":\"26326\",\"copy\":\"Because of an early transition to IBM Cloud, one of Canadaâ\\x80\\x99s leading financial institutions was able to change to remote work and thrive in 2020\",\"videoLength\":\"2:37\",\"videoId\":\"1_fz1liaxf\",\"image\":\"https://1.dam.s81c.com/public/content/dam/worldwide-content/homepage/ul/g/37/78/20211122-vn-home-trust-26271-1200x900.jpg\",\"alternateColor\":true,\"link\":\"https://www.ibm.com/case-studies/home-trust/?lnk=ushpv18vn3\"}]},\"config\":{\"enabled\":\"true\"}}}}},\"__N_SSG\":true},\"page\":\"/\",\"query\":{},\"buildId\":\"XsIV8gdcywBjNjlvgivo2\",\"assetPrefix\":\"/us-en\",\"isFallback\":false,\"gsp\":true}</script><script nomodule=\"\" src=\"/us-en/_next/static/chunks/polyfills-fdc11e3701849591350a.js\"></script><script src=\"/us-en/_next/static/chunks/webpack-954bc20936ad2359719d.js\" async=\"\"></script><script src=\"/us-en/_next/static/chunks/framework.48a441fb05b6de80f4b9.js\" async=\"\"></script><script src=\"/us-en/_next/static/chunks/commons.49fd55890a4c747d0b85.js\" async=\"\"></script><script src=\"/us-en/_next/static/chunks/f6078781a05fe1bcb0902d23dbbb2662c8d200b3.092c96695ec41acf1d95.js\" async=\"\"></script><script src=\"/us-en/_next/static/chunks/main-cb92fd46bb478cd454e3.js\" async=\"\"></script><script src=\"/us-en/_next/static/chunks/styles.b87f24b1cb872cd774bb.js\" async=\"\"></script><script src=\"/us-en/_next/static/chunks/pages/_app-23a5892132a6a7af670d.js\" async=\"\"></script><script src=\"/us-en/_next/static/chunks/1c920f04.f50eb41f4d89f09b8cba.js\" async=\"\"></script><script src=\"/us-en/_next/static/chunks/5f6bb6fb.63224c0f3a7ce047c8e2.js\" async=\"\"></script><script src=\"/us-en/_next/static/chunks/8f19d780.9518ac89ebf3ed164ec7.js\" async=\"\"></script><script src=\"/us-en/_next/static/chunks/262b3caa.2e24298014049ac3eaaf.js\" async=\"\"></script><script src=\"/us-en/_next/static/chunks/8edc3fe5.f57e384a441d6dc22242.js\" async=\"\"></script><script src=\"/us-en/_next/static/chunks/fc20e1c4.4d4ab55b74381df5d525.js\" async=\"\"></script><script src=\"/us-en/_next/static/chunks/23420901.8250c62b5cef01ee1f72.js\" async=\"\"></script><script src=\"/us-en/_next/static/chunks/28aba01c.0705466423a123ce7e3f.js\" async=\"\"></script><script src=\"/us-en/_next/static/chunks/e9e4ee51.fc3d80341919136b3111.js\" async=\"\"></script><script src=\"/us-en/_next/static/chunks/a37fbe3b.840f0dcc1e4a3462641a.js\" async=\"\"></script><script src=\"/us-en/_next/static/chunks/bc80632e.95a8ca694f90349ce0df.js\" async=\"\"></script><script src=\"/us-en/_next/static/chunks/35ce6bd1.2f995fce73127ec2ff2b.js\" async=\"\"></script><script src=\"/us-en/_next/static/chunks/1dd0fb51.8e898941a33ed30d0f91.js\" async=\"\"></script><script src=\"/us-en/_next/static/chunks/56b0df7b.fc494a564900b370ea6e.js\" async=\"\"></script><script src=\"/us-en/_next/static/chunks/b222b98b.43f32df65fb8c87ddcef.js\" async=\"\"></script><script src=\"/us-en/_next/static/chunks/c9b4a249.921f9be04d7539c0af80.js\" async=\"\"></script><script src=\"/us-en/_next/static/chunks/74de52bc.67f7f1dc40756ea7249f.js\" async=\"\"></script><script src=\"/us-en/_next/static/chunks/500f7593.81b97de6f66de590c6d9.js\" async=\"\"></script><script src=\"/us-en/_next/static/chunks/4119064d.d083604b6642730ddf69.js\" async=\"\"></script><script src=\"/us-en/_next/static/chunks/ca24283e.6d4677a3e8001704f3af.js\" async=\"\"></script><script src=\"/us-en/_next/static/chunks/44c26961.a64796aedfbe08368340.js\" async=\"\"></script><script src=\"/us-en/_next/static/chunks/8649a756.b2e5165f3e79ff775919.js\" async=\"\"></script><script src=\"/us-en/_next/static/chunks/abb99899.e27821019e35ae97c122.js\" async=\"\"></script><script src=\"/us-en/_next/static/chunks/pages/index-9c117776be386b4da507.js\" async=\"\"></script><script src=\"/us-en/_next/static/XsIV8gdcywBjNjlvgivo2/_buildManifest.js\" async=\"\"></script><script src=\"/us-en/_next/static/XsIV8gdcywBjNjlvgivo2/_ssgManifest.js\" async=\"\"></script><script type=\"text/javascript\"  src=\"/X86M7VobiiBr6ehM6Q/uLauftSJh8p9/fQUZPAE/OVd7/enZ9AwkB\"></script><link rel=\"stylesheet\" type=\"text/css\"  href=\"/_sec/cp_challenge/sec-4-0.css\">\\n                                        <script  src=\"/_sec/cp_challenge/sec-cpt-4-0.js\" async defer></script>\\n                                        <div id=\"sec-overlay\" style=\"display:none;\">\\n                                        <div id=\"sec-container\">\\n                                        </div>\\n                                      </div></body></html>'"
      ]
     },
     "execution_count": 63,
     "metadata": {},
     "output_type": "execute_result"
    }
   ],
   "source": [
    "data"
   ]
  },
  {
   "cell_type": "markdown",
   "metadata": {
    "id": "d0cfe971-c682-47bd-a585-e063ca414d93"
   },
   "source": [
    "We create a <code>BeautifulSoup</code> object using the <code>BeautifulSoup</code> constructor\n"
   ]
  },
  {
   "cell_type": "code",
   "execution_count": 64,
   "metadata": {
    "executionInfo": {
     "elapsed": 338,
     "status": "ok",
     "timestamp": 1694861797988,
     "user": {
      "displayName": "La Phú Hào",
      "userId": "02593092774645842930"
     },
     "user_tz": -420
    },
    "id": "807d5ab6-82c7-419a-8170-a1b2d07224b5"
   },
   "outputs": [],
   "source": [
    "soup = BeautifulSoup(data, \"html5lib\")  # create a soup object using the variable 'data'"
   ]
  },
  {
   "cell_type": "markdown",
   "metadata": {
    "id": "add38a60-3a59-4c97-9fc6-c6eacc0367ee"
   },
   "source": [
    "Scrape all links\n"
   ]
  },
  {
   "cell_type": "code",
   "execution_count": 65,
   "metadata": {
    "colab": {
     "base_uri": "https://localhost:8080/"
    },
    "executionInfo": {
     "elapsed": 344,
     "status": "ok",
     "timestamp": 1694861858600,
     "user": {
      "displayName": "La Phú Hào",
      "userId": "02593092774645842930"
     },
     "user_tz": -420
    },
    "id": "Dv2GdtonotH6",
    "outputId": "dc3dc975-126f-49c4-fa05-544e1a676a48"
   },
   "outputs": [
    {
     "name": "stdout",
     "output_type": "stream",
     "text": [
      "https://www.ibm.com/thought-leadership/institute-business-value/en-us/report/ceo-generative-ai/application-modernization/\n",
      "https://www.ibm.com/downloads/cas/WYMOR8E5\n",
      "https://www.ibm.com/products/watsonx-ai\n",
      "https://www.ibm.com/products/watsonx-data\n",
      "https://www.ibm.com/products/spss-statistics/pricing\n",
      "https://www.ibm.com/aws/sustainability\n",
      "https://www.ibm.com/cloud?lnk=flatitem\n",
      "https://www.ibm.com/products\n",
      "https://www.ibm.com/consulting\n",
      "https://www.ibm.com/about\n",
      "https://www.ibm.com/\n"
     ]
    }
   ],
   "source": [
    "for link in soup.find_all('a', href=True):  # in html anchor/link is represented by the tag <a>\n",
    "    print(link.get('href'))"
   ]
  },
  {
   "cell_type": "markdown",
   "metadata": {
    "id": "69f70bfc-f12f-4d39-a4bf-c910452515de"
   },
   "source": [
    "## Scrape  all images  Tags\n"
   ]
  },
  {
   "cell_type": "code",
   "execution_count": 67,
   "metadata": {
    "colab": {
     "base_uri": "https://localhost:8080/"
    },
    "executionInfo": {
     "elapsed": 364,
     "status": "ok",
     "timestamp": 1694861946310,
     "user": {
      "displayName": "La Phú Hào",
      "userId": "02593092774645842930"
     },
     "user_tz": -420
    },
    "id": "d5R48IBepEM2",
    "outputId": "13a21b59-8ca2-47d1-a28c-93acfac50be3"
   },
   "outputs": [
    {
     "name": "stdout",
     "output_type": "stream",
     "text": [
      "<img alt=\"Product image for watsonx overview page\" class=\"bx--image__img\" src=\"https://1.dam.s81c.com/p/0c9c5faa18c5c7cf/watsonx-overview-leadspace-super-hybrid-ui-homepage.png.global.xl_1x1.jpg\"/>\n",
      "https://1.dam.s81c.com/p/0c9c5faa18c5c7cf/watsonx-overview-leadspace-super-hybrid-ui-homepage.png.global.xl_1x1.jpg\n",
      "<img alt=\"Concentric illustration showing watsonx.ai capabilities\" aria-describedby=\"bx--image-3\" class=\"bx--image__img\" src=\"https://1.dam.s81c.com/p/0c3ce2dfcccd1f24/watsonx-data-square.jpg\"/>\n",
      "https://1.dam.s81c.com/p/0c3ce2dfcccd1f24/watsonx-data-square.jpg\n",
      "<img alt=\"Illustration of workers digital planning with blue dots and post-its\" aria-describedby=\"bx--image-4\" class=\"bx--image__img\" src=\"https://1.dam.s81c.com/p/0c3ce2dfcccd1f25/watsonx-ai-square.jpg\"/>\n",
      "https://1.dam.s81c.com/p/0c3ce2dfcccd1f25/watsonx-ai-square.jpg\n",
      "<img alt=\"Illustration of people at large digital dashboard\" aria-describedby=\"bx--image-5\" class=\"bx--image__img\" src=\"https://1.dam.s81c.com/p/0b5258b292cc8c3c/ibm-SPSS-home-card.png.global.xs_1x1.png\"/>\n",
      "https://1.dam.s81c.com/p/0b5258b292cc8c3c/ibm-SPSS-home-card.png.global.xs_1x1.png\n",
      "<img alt=\"Envizi hybrid-UI illustration dashboard with charts and graphs\" aria-describedby=\"bx--image-6\" class=\"bx--image__img\" src=\"https://1.dam.s81c.com/p/0c627169c3ad5dfd/0b5258b3394c8d62-envizi-overview-leadspace-illustration-homepage.jpg.global.s_1x1.jpg\"/>\n",
      "https://1.dam.s81c.com/p/0c627169c3ad5dfd/0b5258b3394c8d62-envizi-overview-leadspace-illustration-homepage.jpg.global.s_1x1.jpg\n",
      "<img alt=\"Grid of IBM consultant portraits\" class=\"bx--image__img\" src=\"https://1.dam.s81c.com/p/0aac9cf57bcbf324/dotcom-1-overview.jpg\"/>\n",
      "https://1.dam.s81c.com/p/0aac9cf57bcbf324/dotcom-1-overview.jpg\n"
     ]
    }
   ],
   "source": [
    "for link in soup.find_all('img'):  # in html image is represented by the tag <img>\n",
    "    print(link)\n",
    "    print(link.get('src'))"
   ]
  },
  {
   "cell_type": "markdown",
   "metadata": {
    "id": "26d6240b-41bb-4622-8c8a-7d12c7ef5ec8"
   },
   "source": [
    "### Scrape data from HTML tables\n"
   ]
  },
  {
   "cell_type": "code",
   "execution_count": 68,
   "metadata": {
    "executionInfo": {
     "elapsed": 357,
     "status": "ok",
     "timestamp": 1694861994853,
     "user": {
      "displayName": "La Phú Hào",
      "userId": "02593092774645842930"
     },
     "user_tz": -420
    },
    "id": "1f025de2-77e6-498d-ba53-9200fdb87c07"
   },
   "outputs": [],
   "source": [
    "# The below url contains an html table with data about colors and color codes.\n",
    "url = \"https://cf-courses-data.s3.us.cloud-object-storage.appdomain.cloud/IBM-DA0321EN-SkillsNetwork/labs/datasets/HTMLColorCodes.html\""
   ]
  },
  {
   "cell_type": "markdown",
   "metadata": {
    "id": "e29b1358-ba06-40ad-87f8-da535a6e7e5f"
   },
   "source": [
    "Before proceeding to scrape a web site, you need to examine the contents and the way data is organized on the website. Open the above url in your browser and check how many rows and columns there are in the color table.\n"
   ]
  },
  {
   "cell_type": "code",
   "execution_count": 70,
   "metadata": {
    "executionInfo": {
     "elapsed": 1028,
     "status": "ok",
     "timestamp": 1694862093078,
     "user": {
      "displayName": "La Phú Hào",
      "userId": "02593092774645842930"
     },
     "user_tz": -420
    },
    "id": "64GImYzsps4K"
   },
   "outputs": [],
   "source": [
    "# get the contents of the webpage in text format and store in a variable called data\n",
    "data = requests.get(url).text"
   ]
  },
  {
   "cell_type": "code",
   "execution_count": 71,
   "metadata": {
    "executionInfo": {
     "elapsed": 327,
     "status": "ok",
     "timestamp": 1694862100090,
     "user": {
      "displayName": "La Phú Hào",
      "userId": "02593092774645842930"
     },
     "user_tz": -420
    },
    "id": "1a513a87-6a75-4419-a710-dea72269725e"
   },
   "outputs": [],
   "source": [
    "soup = BeautifulSoup(data, \"html5lib\")"
   ]
  },
  {
   "cell_type": "code",
   "execution_count": 72,
   "metadata": {
    "executionInfo": {
     "elapsed": 368,
     "status": "ok",
     "timestamp": 1694862151922,
     "user": {
      "displayName": "La Phú Hào",
      "userId": "02593092774645842930"
     },
     "user_tz": -420
    },
    "id": "4913f435-7352-4cc7-96bf-ad6f1ba1bc0e"
   },
   "outputs": [],
   "source": [
    "# find a html table in the web page\n",
    "table = soup.find('table') # in html table is represented by the tag <table>"
   ]
  },
  {
   "cell_type": "code",
   "execution_count": 73,
   "metadata": {
    "colab": {
     "base_uri": "https://localhost:8080/"
    },
    "executionInfo": {
     "elapsed": 359,
     "status": "ok",
     "timestamp": 1694862189633,
     "user": {
      "displayName": "La Phú Hào",
      "userId": "02593092774645842930"
     },
     "user_tz": -420
    },
    "id": "381b085d-7642-44cb-8be4-f1a5fa6aedad",
    "outputId": "5e004d4b-0d16-44c9-cee9-a19387e356ad"
   },
   "outputs": [
    {
     "name": "stdout",
     "output_type": "stream",
     "text": [
      "Color Name--->Hex Code#RRGGBB\n",
      "lightsalmon--->#FFA07A\n",
      "salmon--->#FA8072\n",
      "darksalmon--->#E9967A\n",
      "lightcoral--->#F08080\n",
      "coral--->#FF7F50\n",
      "tomato--->#FF6347\n",
      "orangered--->#FF4500\n",
      "gold--->#FFD700\n",
      "orange--->#FFA500\n",
      "darkorange--->#FF8C00\n",
      "lightyellow--->#FFFFE0\n",
      "lemonchiffon--->#FFFACD\n",
      "papayawhip--->#FFEFD5\n",
      "moccasin--->#FFE4B5\n",
      "peachpuff--->#FFDAB9\n",
      "palegoldenrod--->#EEE8AA\n",
      "khaki--->#F0E68C\n",
      "darkkhaki--->#BDB76B\n",
      "yellow--->#FFFF00\n",
      "lawngreen--->#7CFC00\n",
      "chartreuse--->#7FFF00\n",
      "limegreen--->#32CD32\n",
      "lime--->#00FF00\n",
      "forestgreen--->#228B22\n",
      "green--->#008000\n",
      "powderblue--->#B0E0E6\n",
      "lightblue--->#ADD8E6\n",
      "lightskyblue--->#87CEFA\n",
      "skyblue--->#87CEEB\n",
      "deepskyblue--->#00BFFF\n",
      "lightsteelblue--->#B0C4DE\n",
      "dodgerblue--->#1E90FF\n"
     ]
    }
   ],
   "source": [
    "# Get all rows from the table\n",
    "for row in table.find_all('tr'): # in html table row is represented by the tag <tr>\n",
    "    # Get all columns in each row.\n",
    "    cols = row.find_all('td') # in html a column is represented by the tag <td>\n",
    "    color_name = cols[2].string # store the value in column 3 as color_name\n",
    "    color_code = cols[3].text # store the value in column 4 as color_code\n",
    "    print(\"{}--->{}\".format(color_name, color_code))"
   ]
  },
  {
   "cell_type": "markdown",
   "metadata": {
    "id": "2cebce67-9842-4893-920e-11ae2846cfe4"
   },
   "source": [
    "## Authors\n"
   ]
  },
  {
   "cell_type": "markdown",
   "metadata": {
    "id": "0d5e0340-b356-4ca9-bdaf-a24de8d98c54"
   },
   "source": [
    "Ramesh Sannareddy\n"
   ]
  },
  {
   "cell_type": "markdown",
   "metadata": {
    "id": "3ab4eb5a-09ba-4f38-ab41-9c4b8a07b8cc"
   },
   "source": [
    "### Other Contributors\n"
   ]
  },
  {
   "cell_type": "markdown",
   "metadata": {
    "id": "b473f637-c10e-4f38-9de4-cdb6cdac694f"
   },
   "source": [
    "Rav Ahuja\n"
   ]
  },
  {
   "cell_type": "markdown",
   "metadata": {
    "id": "563810b9-65c8-4263-9cee-15d33ad99269"
   },
   "source": [
    "## Change Log\n"
   ]
  },
  {
   "cell_type": "markdown",
   "metadata": {
    "id": "8c849df3-b0b8-4fad-842b-a54da2ff8d77"
   },
   "source": [
    "| Date (YYYY-MM-DD) | Version | Changed By            |          Change Description         |\n",
    "| ----------------- | ------- | ----------------------| ----------------------------------- |\n",
    "| 2023-06-11        | 1.0     | Akansha Yadav         |   Spell check                       |\n",
    "| 2020-10-17        | 0.1     | Joseph Santarcangelo  |  Created initial version of the lab |\n"
   ]
  },
  {
   "cell_type": "markdown",
   "metadata": {
    "id": "6d01d509-bd6a-4a89-b8e5-eadf2860d3f7"
   },
   "source": [
    "Copyright © 2020 IBM Corporation. This notebook and its source code are released under the terms of the [MIT License](https://cognitiveclass.ai/mit-license/?utm_medium=Exinfluencer&utm_source=Exinfluencer&utm_content=000026UJ&utm_term=10006555&utm_id=NA-SkillsNetwork-Channel-SkillsNetworkCoursesIBMDeveloperSkillsNetworkPY0101ENSkillsNetwork19487395-2021-01-01).\n"
   ]
  }
 ],
 "metadata": {
  "colab": {
   "provenance": [],
   "toc_visible": true
  },
  "kernelspec": {
   "display_name": "Python 3 (ipykernel)",
   "language": "python",
   "name": "python3"
  },
  "language_info": {
   "codemirror_mode": {
    "name": "ipython",
    "version": 3
   },
   "file_extension": ".py",
   "mimetype": "text/x-python",
   "name": "python",
   "nbconvert_exporter": "python",
   "pygments_lexer": "ipython3",
   "version": "3.11.4"
  }
 },
 "nbformat": 4,
 "nbformat_minor": 1
}
